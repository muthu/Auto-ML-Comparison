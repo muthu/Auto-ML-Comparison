{
 "cells": [
  {
   "cell_type": "code",
   "execution_count": 2,
   "metadata": {
    "colab": {
     "base_uri": "https://localhost:8080/"
    },
    "id": "Fz8TNVg3KDnd",
    "outputId": "048d9b0a-476d-4948-c031-ac90326018c5"
   },
   "outputs": [
    {
     "name": "stdout",
     "output_type": "stream",
     "text": [
      "Defaulting to user installation because normal site-packages is not writeable\n",
      "Collecting autokeras\n",
      "  Using cached autokeras-1.0.19-py3-none-any.whl (162 kB)\n",
      "Requirement already satisfied: packaging in /share/apps/python/3.8.6/intel/lib/python3.8/site-packages (from autokeras) (20.4)\n",
      "Requirement already satisfied: pandas in /share/apps/python/3.8.6/intel/lib/python3.8/site-packages (from autokeras) (1.1.3)\n",
      "Collecting tensorflow>=2.8.0\n",
      "  Using cached tensorflow-2.8.0-cp38-cp38-manylinux2010_x86_64.whl (497.6 MB)\n",
      "Requirement already satisfied: astunparse>=1.6.0 in ./.local/lib/python3.8/site-packages (from tensorflow>=2.8.0->autokeras) (1.6.3)\n",
      "Requirement already satisfied: setuptools in /share/apps/python/3.8.6/intel/lib/python3.8/site-packages (from tensorflow>=2.8.0->autokeras) (49.2.1)\n",
      "Requirement already satisfied: opt-einsum>=2.3.2 in ./.local/lib/python3.8/site-packages (from tensorflow>=2.8.0->autokeras) (3.3.0)\n",
      "Requirement already satisfied: termcolor>=1.1.0 in ./.local/lib/python3.8/site-packages (from tensorflow>=2.8.0->autokeras) (1.1.0)\n",
      "Requirement already satisfied: wrapt>=1.11.0 in /share/apps/anaconda3/2020.07/lib/python3.8/site-packages (from tensorflow>=2.8.0->autokeras) (1.11.2)\n",
      "Requirement already satisfied: tensorboard<2.9,>=2.8 in ./.local/lib/python3.8/site-packages (from tensorflow>=2.8.0->autokeras) (2.8.0)\n",
      "Requirement already satisfied: tf-estimator-nightly==2.8.0.dev2021122109 in ./.local/lib/python3.8/site-packages (from tensorflow>=2.8.0->autokeras) (2.8.0.dev2021122109)\n",
      "Requirement already satisfied: keras<2.9,>=2.8.0rc0 in ./.local/lib/python3.8/site-packages (from tensorflow>=2.8.0->autokeras) (2.8.0)\n",
      "Requirement already satisfied: grpcio<2.0,>=1.24.3 in ./.local/lib/python3.8/site-packages (from tensorflow>=2.8.0->autokeras) (1.44.0)\n",
      "Requirement already satisfied: gast>=0.2.1 in ./.local/lib/python3.8/site-packages (from tensorflow>=2.8.0->autokeras) (0.5.3)\n",
      "Requirement already satisfied: tensorflow-io-gcs-filesystem>=0.23.1 in ./.local/lib/python3.8/site-packages (from tensorflow>=2.8.0->autokeras) (0.25.0)\n",
      "Requirement already satisfied: absl-py>=0.4.0 in /share/apps/python/3.8.6/intel/lib/python3.8/site-packages (from tensorflow>=2.8.0->autokeras) (0.13.0)\n",
      "Requirement already satisfied: libclang>=9.0.1 in ./.local/lib/python3.8/site-packages (from tensorflow>=2.8.0->autokeras) (14.0.1)\n",
      "Requirement already satisfied: google-pasta>=0.1.1 in ./.local/lib/python3.8/site-packages (from tensorflow>=2.8.0->autokeras) (0.2.0)\n",
      "Requirement already satisfied: numpy>=1.20 in ./.local/lib/python3.8/site-packages (from tensorflow>=2.8.0->autokeras) (1.22.3)\n",
      "Requirement already satisfied: typing-extensions>=3.6.6 in /share/apps/anaconda3/2020.07/lib/python3.8/site-packages (from tensorflow>=2.8.0->autokeras) (3.7.4.2)\n",
      "Requirement already satisfied: six>=1.12.0 in /share/apps/python/3.8.6/intel/lib/python3.8/site-packages (from tensorflow>=2.8.0->autokeras) (1.15.0)\n",
      "Requirement already satisfied: protobuf>=3.9.2 in ./.local/lib/python3.8/site-packages (from tensorflow>=2.8.0->autokeras) (3.20.1)\n",
      "Requirement already satisfied: keras-preprocessing>=1.1.1 in ./.local/lib/python3.8/site-packages (from tensorflow>=2.8.0->autokeras) (1.1.2)\n",
      "Requirement already satisfied: h5py>=2.9.0 in /share/apps/anaconda3/2020.07/lib/python3.8/site-packages (from tensorflow>=2.8.0->autokeras) (2.10.0)\n",
      "Requirement already satisfied: flatbuffers>=1.12 in ./.local/lib/python3.8/site-packages (from tensorflow>=2.8.0->autokeras) (2.0)\n",
      "Requirement already satisfied: tensorboard-data-server<0.7.0,>=0.6.0 in ./.local/lib/python3.8/site-packages (from tensorboard<2.9,>=2.8->tensorflow>=2.8.0->autokeras) (0.6.1)\n",
      "Requirement already satisfied: protobuf>=3.9.2 in ./.local/lib/python3.8/site-packages (from tensorflow>=2.8.0->autokeras) (3.20.1)\n",
      "Requirement already satisfied: wheel>=0.26 in /share/apps/python/3.8.6/intel/lib/python3.8/site-packages (from tensorboard<2.9,>=2.8->tensorflow>=2.8.0->autokeras) (0.35.1)\n",
      "Requirement already satisfied: setuptools in /share/apps/python/3.8.6/intel/lib/python3.8/site-packages (from tensorflow>=2.8.0->autokeras) (49.2.1)\n",
      "Requirement already satisfied: numpy>=1.20 in ./.local/lib/python3.8/site-packages (from tensorflow>=2.8.0->autokeras) (1.22.3)\n",
      "Requirement already satisfied: markdown>=2.6.8 in ./.local/lib/python3.8/site-packages (from tensorboard<2.9,>=2.8->tensorflow>=2.8.0->autokeras) (3.3.6)\n",
      "Requirement already satisfied: requests<3,>=2.21.0 in /share/apps/python/3.8.6/intel/lib/python3.8/site-packages (from tensorboard<2.9,>=2.8->tensorflow>=2.8.0->autokeras) (2.24.0)\n",
      "Requirement already satisfied: grpcio<2.0,>=1.24.3 in ./.local/lib/python3.8/site-packages (from tensorflow>=2.8.0->autokeras) (1.44.0)\n",
      "Requirement already satisfied: google-auth<3,>=1.6.3 in ./.local/lib/python3.8/site-packages (from tensorboard<2.9,>=2.8->tensorflow>=2.8.0->autokeras) (2.6.6)\n",
      "Requirement already satisfied: werkzeug>=0.11.15 in /share/apps/anaconda3/2020.07/lib/python3.8/site-packages (from tensorboard<2.9,>=2.8->tensorflow>=2.8.0->autokeras) (1.0.1)\n",
      "Requirement already satisfied: tensorboard-plugin-wit>=1.6.0 in ./.local/lib/python3.8/site-packages (from tensorboard<2.9,>=2.8->tensorflow>=2.8.0->autokeras) (1.8.1)\n",
      "Requirement already satisfied: google-auth-oauthlib<0.5,>=0.4.1 in ./.local/lib/python3.8/site-packages (from tensorboard<2.9,>=2.8->tensorflow>=2.8.0->autokeras) (0.4.6)\n",
      "Requirement already satisfied: absl-py>=0.4.0 in /share/apps/python/3.8.6/intel/lib/python3.8/site-packages (from tensorflow>=2.8.0->autokeras) (0.13.0)\n",
      "Requirement already satisfied: six>=1.12.0 in /share/apps/python/3.8.6/intel/lib/python3.8/site-packages (from tensorflow>=2.8.0->autokeras) (1.15.0)\n",
      "Requirement already satisfied: numpy>=1.20 in ./.local/lib/python3.8/site-packages (from tensorflow>=2.8.0->autokeras) (1.22.3)\n",
      "Collecting keras-tuner>=1.1.0\n",
      "  Using cached keras_tuner-1.1.2-py3-none-any.whl (133 kB)\n",
      "Requirement already satisfied: requests<3,>=2.21.0 in /share/apps/python/3.8.6/intel/lib/python3.8/site-packages (from tensorboard<2.9,>=2.8->tensorflow>=2.8.0->autokeras) (2.24.0)\n",
      "Requirement already satisfied: numpy>=1.20 in ./.local/lib/python3.8/site-packages (from tensorflow>=2.8.0->autokeras) (1.22.3)\n",
      "Requirement already satisfied: ipython in /share/apps/python/3.8.6/intel/lib/python3.8/site-packages (from keras-tuner>=1.1.0->autokeras) (7.18.1)\n",
      "Requirement already satisfied: tensorboard<2.9,>=2.8 in ./.local/lib/python3.8/site-packages (from tensorflow>=2.8.0->autokeras) (2.8.0)\n",
      "Requirement already satisfied: packaging in /share/apps/python/3.8.6/intel/lib/python3.8/site-packages (from autokeras) (20.4)\n",
      "Requirement already satisfied: kt-legacy in ./.local/lib/python3.8/site-packages (from keras-tuner>=1.1.0->autokeras) (1.0.4)\n",
      "Requirement already satisfied: wheel>=0.26 in /share/apps/python/3.8.6/intel/lib/python3.8/site-packages (from tensorboard<2.9,>=2.8->tensorflow>=2.8.0->autokeras) (0.35.1)\n",
      "Requirement already satisfied: six>=1.12.0 in /share/apps/python/3.8.6/intel/lib/python3.8/site-packages (from tensorflow>=2.8.0->autokeras) (1.15.0)\n",
      "Requirement already satisfied: numpy>=1.20 in ./.local/lib/python3.8/site-packages (from tensorflow>=2.8.0->autokeras) (1.22.3)\n",
      "Requirement already satisfied: google-auth<3,>=1.6.3 in ./.local/lib/python3.8/site-packages (from tensorboard<2.9,>=2.8->tensorflow>=2.8.0->autokeras) (2.6.6)\n",
      "Requirement already satisfied: requests-oauthlib>=0.7.0 in ./.local/lib/python3.8/site-packages (from google-auth-oauthlib<0.5,>=0.4.1->tensorboard<2.9,>=2.8->tensorflow>=2.8.0->autokeras) (1.3.1)\n",
      "Requirement already satisfied: oauthlib>=3.0.0 in /share/apps/python/3.8.6/intel/lib/python3.8/site-packages (from requests-oauthlib>=0.7.0->google-auth-oauthlib<0.5,>=0.4.1->tensorboard<2.9,>=2.8->tensorflow>=2.8.0->autokeras) (3.1.0)\n",
      "Requirement already satisfied: requests<3,>=2.21.0 in /share/apps/python/3.8.6/intel/lib/python3.8/site-packages (from tensorboard<2.9,>=2.8->tensorflow>=2.8.0->autokeras) (2.24.0)\n",
      "Requirement already satisfied: six>=1.12.0 in /share/apps/python/3.8.6/intel/lib/python3.8/site-packages (from tensorflow>=2.8.0->autokeras) (1.15.0)\n",
      "Requirement already satisfied: urllib3!=1.25.0,!=1.25.1,<1.26,>=1.21.1 in /share/apps/python/3.8.6/intel/lib/python3.8/site-packages (from requests<3,>=2.21.0->tensorboard<2.9,>=2.8->tensorflow>=2.8.0->autokeras) (1.25.10)\n"
     ]
    },
    {
     "name": "stdout",
     "output_type": "stream",
     "text": [
      "Requirement already satisfied: certifi>=2017.4.17 in /share/apps/python/3.8.6/intel/lib/python3.8/site-packages (from requests<3,>=2.21.0->tensorboard<2.9,>=2.8->tensorflow>=2.8.0->autokeras) (2020.6.20)\n",
      "Requirement already satisfied: idna<3,>=2.5 in /share/apps/python/3.8.6/intel/lib/python3.8/site-packages (from requests<3,>=2.21.0->tensorboard<2.9,>=2.8->tensorflow>=2.8.0->autokeras) (2.10)\n",
      "Requirement already satisfied: chardet<4,>=3.0.2 in /share/apps/python/3.8.6/intel/lib/python3.8/site-packages (from requests<3,>=2.21.0->tensorboard<2.9,>=2.8->tensorflow>=2.8.0->autokeras) (3.0.4)\n",
      "Requirement already satisfied: numpy>=1.20 in ./.local/lib/python3.8/site-packages (from tensorflow>=2.8.0->autokeras) (1.22.3)\n",
      "Requirement already satisfied: six>=1.12.0 in /share/apps/python/3.8.6/intel/lib/python3.8/site-packages (from tensorflow>=2.8.0->autokeras) (1.15.0)\n",
      "Requirement already satisfied: six>=1.12.0 in /share/apps/python/3.8.6/intel/lib/python3.8/site-packages (from tensorflow>=2.8.0->autokeras) (1.15.0)\n",
      "Requirement already satisfied: importlib-metadata>=4.4 in ./.local/lib/python3.8/site-packages (from markdown>=2.6.8->tensorboard<2.9,>=2.8->tensorflow>=2.8.0->autokeras) (4.11.3)\n",
      "Requirement already satisfied: zipp>=0.5 in /share/apps/anaconda3/2020.07/lib/python3.8/site-packages (from importlib-metadata>=4.4->markdown>=2.6.8->tensorboard<2.9,>=2.8->tensorflow>=2.8.0->autokeras) (3.1.0)\n",
      "Requirement already satisfied: six>=1.12.0 in /share/apps/python/3.8.6/intel/lib/python3.8/site-packages (from tensorflow>=2.8.0->autokeras) (1.15.0)\n",
      "Requirement already satisfied: six>=1.12.0 in /share/apps/python/3.8.6/intel/lib/python3.8/site-packages (from tensorflow>=2.8.0->autokeras) (1.15.0)\n",
      "Requirement already satisfied: pyparsing>=2.0.2 in /share/apps/python/3.8.6/intel/lib/python3.8/site-packages (from packaging->autokeras) (2.4.7)\n",
      "Requirement already satisfied: cachetools<6.0,>=2.0.0 in ./.local/lib/python3.8/site-packages (from google-auth<3,>=1.6.3->tensorboard<2.9,>=2.8->tensorflow>=2.8.0->autokeras) (5.0.0)\n",
      "Requirement already satisfied: rsa<5,>=3.1.4 in ./.local/lib/python3.8/site-packages (from google-auth<3,>=1.6.3->tensorboard<2.9,>=2.8->tensorflow>=2.8.0->autokeras) (4.8)\n",
      "Requirement already satisfied: six>=1.12.0 in /share/apps/python/3.8.6/intel/lib/python3.8/site-packages (from tensorflow>=2.8.0->autokeras) (1.15.0)\n",
      "Requirement already satisfied: pyasn1-modules>=0.2.1 in ./.local/lib/python3.8/site-packages (from google-auth<3,>=1.6.3->tensorboard<2.9,>=2.8->tensorflow>=2.8.0->autokeras) (0.2.8)\n",
      "Requirement already satisfied: pyasn1<0.5.0,>=0.4.6 in ./.local/lib/python3.8/site-packages (from pyasn1-modules>=0.2.1->google-auth<3,>=1.6.3->tensorboard<2.9,>=2.8->tensorflow>=2.8.0->autokeras) (0.4.8)\n",
      "Requirement already satisfied: pyasn1<0.5.0,>=0.4.6 in ./.local/lib/python3.8/site-packages (from pyasn1-modules>=0.2.1->google-auth<3,>=1.6.3->tensorboard<2.9,>=2.8->tensorflow>=2.8.0->autokeras) (0.4.8)\n",
      "Requirement already satisfied: pytz>=2017.2 in /share/apps/python/3.8.6/intel/lib/python3.8/site-packages (from pandas->autokeras) (2020.1)\n",
      "Requirement already satisfied: python-dateutil>=2.7.3 in /share/apps/python/3.8.6/intel/lib/python3.8/site-packages (from pandas->autokeras) (2.8.1)\n",
      "Requirement already satisfied: numpy>=1.20 in ./.local/lib/python3.8/site-packages (from tensorflow>=2.8.0->autokeras) (1.22.3)\n",
      "Requirement already satisfied: six>=1.12.0 in /share/apps/python/3.8.6/intel/lib/python3.8/site-packages (from tensorflow>=2.8.0->autokeras) (1.15.0)\n",
      "Requirement already satisfied: pexpect>4.3 in /share/apps/python/3.8.6/intel/lib/python3.8/site-packages (from ipython->keras-tuner>=1.1.0->autokeras) (4.8.0)\n",
      "Requirement already satisfied: jedi>=0.10 in /share/apps/python/3.8.6/intel/lib/python3.8/site-packages (from ipython->keras-tuner>=1.1.0->autokeras) (0.17.2)\n",
      "Requirement already satisfied: traitlets>=4.2 in /share/apps/python/3.8.6/intel/lib/python3.8/site-packages (from ipython->keras-tuner>=1.1.0->autokeras) (5.0.4)\n",
      "Requirement already satisfied: backcall in /share/apps/python/3.8.6/intel/lib/python3.8/site-packages (from ipython->keras-tuner>=1.1.0->autokeras) (0.2.0)\n",
      "Requirement already satisfied: pickleshare in /share/apps/python/3.8.6/intel/lib/python3.8/site-packages (from ipython->keras-tuner>=1.1.0->autokeras) (0.7.5)\n",
      "Requirement already satisfied: prompt-toolkit!=3.0.0,!=3.0.1,<3.1.0,>=2.0.0 in /share/apps/python/3.8.6/intel/lib/python3.8/site-packages (from ipython->keras-tuner>=1.1.0->autokeras) (3.0.7)\n",
      "Requirement already satisfied: decorator in /share/apps/python/3.8.6/intel/lib/python3.8/site-packages (from ipython->keras-tuner>=1.1.0->autokeras) (4.4.2)\n",
      "Requirement already satisfied: pygments in /share/apps/python/3.8.6/intel/lib/python3.8/site-packages (from ipython->keras-tuner>=1.1.0->autokeras) (2.7.1)\n",
      "Requirement already satisfied: setuptools in /share/apps/python/3.8.6/intel/lib/python3.8/site-packages (from tensorflow>=2.8.0->autokeras) (49.2.1)\n",
      "Requirement already satisfied: ptyprocess>=0.5 in /share/apps/python/3.8.6/intel/lib/python3.8/site-packages (from pexpect>4.3->ipython->keras-tuner>=1.1.0->autokeras) (0.6.0)\n",
      "Requirement already satisfied: ipython-genutils in /share/apps/python/3.8.6/intel/lib/python3.8/site-packages (from traitlets>=4.2->ipython->keras-tuner>=1.1.0->autokeras) (0.2.0)\n",
      "Requirement already satisfied: parso<0.8.0,>=0.7.0 in /share/apps/python/3.8.6/intel/lib/python3.8/site-packages (from jedi>=0.10->ipython->keras-tuner>=1.1.0->autokeras) (0.7.1)\n",
      "Requirement already satisfied: wcwidth in /share/apps/python/3.8.6/intel/lib/python3.8/site-packages (from prompt-toolkit!=3.0.0,!=3.0.1,<3.1.0,>=2.0.0->ipython->keras-tuner>=1.1.0->autokeras) (0.2.5)\n",
      "Installing collected packages: tensorflow, keras-tuner, autokeras\n",
      "Successfully installed autokeras-1.0.19 keras-tuner-1.1.2 tensorflow-2.8.0\n",
      "\u001b[33mWARNING: You are using pip version 20.2.3; however, version 22.0.4 is available.\n",
      "You should consider upgrading via the '/share/apps/anaconda3/2020.07/bin/python -m pip install --upgrade pip' command.\u001b[0m\n",
      "Note: you may need to restart the kernel to use updated packages.\n"
     ]
    }
   ],
   "source": [
    "%pip install --use-feature=2020-resolver autokeras"
   ]
  },
  {
   "cell_type": "code",
   "execution_count": 1,
   "metadata": {
    "id": "s_FgDGflKL1M"
   },
   "outputs": [],
   "source": [
    "import sklearn.datasets\n",
    "import sklearn.model_selection\n",
    "import autokeras as ak\n",
    "import timeit\n",
    "import pandas as pd"
   ]
  },
  {
   "cell_type": "code",
   "execution_count": 2,
   "metadata": {},
   "outputs": [],
   "source": [
    "def dataSetup(name):\n",
    "  X,y = sklearn.datasets.fetch_openml(data_id = name, as_frame=True, return_X_y=True)\n",
    "  train = pd.concat([X, y], axis=1, join='inner')\n",
    "  train.dropna()\n",
    "  train = train.apply(lambda x: pd.factorize(x)[0])\n",
    "  X,y = train.iloc[:,:-1], train.iloc[:, -1]\n",
    "  # X = X.apply(lambda x: pd.factorize(x)[0])\n",
    "  X_train, X_test, y_train, y_test = sklearn.model_selection.train_test_split(X,y,random_state=42)\n",
    "  return (X_train, X_test, y_train, y_test)"
   ]
  },
  {
   "cell_type": "code",
   "execution_count": 3,
   "metadata": {
    "colab": {
     "base_uri": "https://localhost:8080/"
    },
    "id": "9yRLJcPgMH_o",
    "outputId": "44c3d703-0166-4900-e444-da92ef404de2"
   },
   "outputs": [
    {
     "data": {
      "text/plain": [
       "(435759, 54)"
      ]
     },
     "execution_count": 3,
     "metadata": {},
     "output_type": "execute_result"
    }
   ],
   "source": [
    "X_train, X_test, y_train, y_test = dataSetup(1596)\n",
    "X_train = pd.DataFrame(X_train).to_numpy()\n",
    "X_test = pd.DataFrame(X_test).to_numpy()\n",
    "y_train = pd.DataFrame(y_train).to_numpy()\n",
    "y_test = pd.DataFrame(y_test).to_numpy()\n",
    "X_train.shape\n"
   ]
  },
  {
   "cell_type": "code",
   "execution_count": 4,
   "metadata": {},
   "outputs": [
    {
     "data": {
      "text/plain": [
       "array([[ 212,  218,   25, ...,    0,    0,    0],\n",
       "       [  61,    4,    1, ...,    0,    0,    0],\n",
       "       [ 274,   15,    8, ...,    0,    0,    0],\n",
       "       ...,\n",
       "       [ 634,  327,   12, ...,    0,    0,    0],\n",
       "       [1339,   81,   29, ...,    0,    0,    0],\n",
       "       [ 129,  280,   15, ...,    0,    0,    0]])"
      ]
     },
     "execution_count": 4,
     "metadata": {},
     "output_type": "execute_result"
    }
   ],
   "source": [
    "X_train"
   ]
  },
  {
   "cell_type": "code",
   "execution_count": 5,
   "metadata": {},
   "outputs": [
    {
     "data": {
      "text/plain": [
       "array([0, 1, 2, 3, 4, 5, 6])"
      ]
     },
     "execution_count": 5,
     "metadata": {},
     "output_type": "execute_result"
    }
   ],
   "source": [
    "import numpy as np\n",
    "np.unique(y_train)"
   ]
  },
  {
   "cell_type": "code",
   "execution_count": 6,
   "metadata": {
    "colab": {
     "base_uri": "https://localhost:8080/"
    },
    "id": "BGr7npnlLnUD",
    "outputId": "8d06b12a-1ba3-4402-dd15-18b2520e059e"
   },
   "outputs": [
    {
     "name": "stdout",
     "output_type": "stream",
     "text": [
      "Trial 1 Complete [00h 24m 10s]\n",
      "val_accuracy: 0.7355915307998657\n",
      "\n",
      "Best val_accuracy So Far: 0.7355915307998657\n",
      "Total elapsed time: 00h 24m 10s\n",
      "INFO:tensorflow:Oracle triggered exit\n",
      "Epoch 1/100\n",
      "13618/13618 [==============================] - 23s 2ms/step - loss: 0.6739 - accuracy: 0.6943\n",
      "Epoch 2/100\n",
      "13618/13618 [==============================] - 22s 2ms/step - loss: 0.6237 - accuracy: 0.7148\n",
      "Epoch 3/100\n",
      "13618/13618 [==============================] - 22s 2ms/step - loss: 0.6107 - accuracy: 0.7206\n",
      "Epoch 4/100\n",
      "13618/13618 [==============================] - 22s 2ms/step - loss: 0.6027 - accuracy: 0.7240\n",
      "Epoch 5/100\n",
      "13618/13618 [==============================] - 22s 2ms/step - loss: 0.5972 - accuracy: 0.7261\n",
      "Epoch 6/100\n",
      "13618/13618 [==============================] - 22s 2ms/step - loss: 0.5933 - accuracy: 0.7280\n",
      "Epoch 7/100\n",
      "13618/13618 [==============================] - 22s 2ms/step - loss: 0.5898 - accuracy: 0.7294\n",
      "Epoch 8/100\n",
      "13618/13618 [==============================] - 22s 2ms/step - loss: 0.5875 - accuracy: 0.7302\n",
      "Epoch 9/100\n",
      "13618/13618 [==============================] - 22s 2ms/step - loss: 0.5855 - accuracy: 0.7310\n",
      "Epoch 10/100\n",
      "13618/13618 [==============================] - 22s 2ms/step - loss: 0.5837 - accuracy: 0.7321\n",
      "Epoch 11/100\n",
      "13618/13618 [==============================] - 22s 2ms/step - loss: 0.5820 - accuracy: 0.7329\n",
      "Epoch 12/100\n",
      "13618/13618 [==============================] - 22s 2ms/step - loss: 0.5805 - accuracy: 0.7334\n",
      "Epoch 13/100\n",
      "13618/13618 [==============================] - 22s 2ms/step - loss: 0.5793 - accuracy: 0.7342\n",
      "Epoch 14/100\n",
      "13618/13618 [==============================] - 22s 2ms/step - loss: 0.5781 - accuracy: 0.7346\n",
      "Epoch 15/100\n",
      "13618/13618 [==============================] - 22s 2ms/step - loss: 0.5772 - accuracy: 0.7351\n",
      "Epoch 16/100\n",
      "13618/13618 [==============================] - 22s 2ms/step - loss: 0.5763 - accuracy: 0.7356\n",
      "Epoch 17/100\n",
      "13618/13618 [==============================] - 22s 2ms/step - loss: 0.5754 - accuracy: 0.7361\n",
      "Epoch 18/100\n",
      "13618/13618 [==============================] - 22s 2ms/step - loss: 0.5746 - accuracy: 0.7364\n",
      "Epoch 19/100\n",
      "13618/13618 [==============================] - 22s 2ms/step - loss: 0.5741 - accuracy: 0.7365\n",
      "Epoch 20/100\n",
      "13618/13618 [==============================] - 22s 2ms/step - loss: 0.5733 - accuracy: 0.7369\n",
      "Epoch 21/100\n",
      "13618/13618 [==============================] - 22s 2ms/step - loss: 0.5727 - accuracy: 0.7372\n",
      "Epoch 22/100\n",
      "13618/13618 [==============================] - 22s 2ms/step - loss: 0.5720 - accuracy: 0.7375\n",
      "Epoch 23/100\n",
      "13618/13618 [==============================] - 22s 2ms/step - loss: 0.5712 - accuracy: 0.7380\n",
      "Epoch 24/100\n",
      "13618/13618 [==============================] - 22s 2ms/step - loss: 0.5708 - accuracy: 0.7382\n",
      "Epoch 25/100\n",
      "13618/13618 [==============================] - 22s 2ms/step - loss: 0.5701 - accuracy: 0.7383\n",
      "Epoch 26/100\n",
      "13618/13618 [==============================] - 22s 2ms/step - loss: 0.5697 - accuracy: 0.7385\n",
      "Epoch 27/100\n",
      "13618/13618 [==============================] - 22s 2ms/step - loss: 0.5692 - accuracy: 0.7388\n",
      "Epoch 28/100\n",
      "13618/13618 [==============================] - 22s 2ms/step - loss: 0.5688 - accuracy: 0.7390\n",
      "Epoch 29/100\n",
      "13618/13618 [==============================] - 22s 2ms/step - loss: 0.5685 - accuracy: 0.7391\n",
      "Epoch 30/100\n",
      "13618/13618 [==============================] - 22s 2ms/step - loss: 0.5680 - accuracy: 0.7391\n",
      "Epoch 31/100\n",
      "13618/13618 [==============================] - 22s 2ms/step - loss: 0.5674 - accuracy: 0.7396\n",
      "Epoch 32/100\n",
      "13618/13618 [==============================] - 22s 2ms/step - loss: 0.5668 - accuracy: 0.7400\n",
      "Epoch 33/100\n",
      "13618/13618 [==============================] - 22s 2ms/step - loss: 0.5663 - accuracy: 0.7408\n",
      "Epoch 34/100\n",
      "13618/13618 [==============================] - 22s 2ms/step - loss: 0.5660 - accuracy: 0.7409\n",
      "Epoch 35/100\n",
      "13618/13618 [==============================] - 22s 2ms/step - loss: 0.5654 - accuracy: 0.7410\n",
      "Epoch 36/100\n",
      "13618/13618 [==============================] - 22s 2ms/step - loss: 0.5651 - accuracy: 0.7411\n",
      "Epoch 37/100\n",
      "13618/13618 [==============================] - 22s 2ms/step - loss: 0.5648 - accuracy: 0.7416\n",
      "Epoch 38/100\n",
      "13618/13618 [==============================] - 22s 2ms/step - loss: 0.5645 - accuracy: 0.7418\n",
      "Epoch 39/100\n",
      "13618/13618 [==============================] - 22s 2ms/step - loss: 0.5643 - accuracy: 0.7418\n",
      "Epoch 40/100\n",
      "13618/13618 [==============================] - 22s 2ms/step - loss: 0.5640 - accuracy: 0.7421\n",
      "Epoch 41/100\n",
      "13618/13618 [==============================] - 22s 2ms/step - loss: 0.5638 - accuracy: 0.7423\n",
      "Epoch 42/100\n",
      "13618/13618 [==============================] - 22s 2ms/step - loss: 0.5637 - accuracy: 0.7420\n",
      "Epoch 43/100\n",
      "13618/13618 [==============================] - 22s 2ms/step - loss: 0.5635 - accuracy: 0.7421\n",
      "Epoch 44/100\n",
      "13618/13618 [==============================] - 22s 2ms/step - loss: 0.5632 - accuracy: 0.7427\n",
      "Epoch 45/100\n",
      "13618/13618 [==============================] - 22s 2ms/step - loss: 0.5632 - accuracy: 0.7425\n",
      "Epoch 46/100\n",
      "13618/13618 [==============================] - 22s 2ms/step - loss: 0.5631 - accuracy: 0.7426\n",
      "Epoch 47/100\n",
      "13618/13618 [==============================] - 22s 2ms/step - loss: 0.5630 - accuracy: 0.7427\n",
      "Epoch 48/100\n",
      "13618/13618 [==============================] - 22s 2ms/step - loss: 0.5627 - accuracy: 0.7428\n",
      "Epoch 49/100\n",
      "13618/13618 [==============================] - 22s 2ms/step - loss: 0.5625 - accuracy: 0.7429\n",
      "Epoch 50/100\n",
      "13618/13618 [==============================] - 22s 2ms/step - loss: 0.5625 - accuracy: 0.7429\n",
      "Epoch 51/100\n",
      "13618/13618 [==============================] - 22s 2ms/step - loss: 0.5624 - accuracy: 0.7430\n",
      "Epoch 52/100\n",
      "13618/13618 [==============================] - 22s 2ms/step - loss: 0.5623 - accuracy: 0.7429\n",
      "Epoch 53/100\n",
      "13618/13618 [==============================] - 22s 2ms/step - loss: 0.5622 - accuracy: 0.7430\n",
      "Epoch 54/100\n",
      "13618/13618 [==============================] - 22s 2ms/step - loss: 0.5621 - accuracy: 0.7430\n",
      "Epoch 55/100\n",
      "13618/13618 [==============================] - 22s 2ms/step - loss: 0.5619 - accuracy: 0.7434\n",
      "Epoch 56/100\n",
      "13618/13618 [==============================] - 22s 2ms/step - loss: 0.5617 - accuracy: 0.7434\n",
      "Epoch 57/100\n",
      "13618/13618 [==============================] - 22s 2ms/step - loss: 0.5616 - accuracy: 0.7433\n",
      "Epoch 58/100\n",
      "13618/13618 [==============================] - 22s 2ms/step - loss: 0.5615 - accuracy: 0.7435\n",
      "Epoch 59/100\n",
      "13618/13618 [==============================] - 22s 2ms/step - loss: 0.5614 - accuracy: 0.7432\n",
      "Epoch 60/100\n",
      "13618/13618 [==============================] - 22s 2ms/step - loss: 0.5611 - accuracy: 0.7434\n",
      "Epoch 61/100\n",
      "13618/13618 [==============================] - 22s 2ms/step - loss: 0.5611 - accuracy: 0.7434\n",
      "Epoch 62/100\n",
      "13618/13618 [==============================] - 22s 2ms/step - loss: 0.5610 - accuracy: 0.7434\n",
      "Epoch 63/100\n",
      "13618/13618 [==============================] - 22s 2ms/step - loss: 0.5609 - accuracy: 0.7433\n",
      "Epoch 64/100\n",
      "13618/13618 [==============================] - 22s 2ms/step - loss: 0.5609 - accuracy: 0.7434\n",
      "Epoch 65/100\n",
      "13618/13618 [==============================] - 22s 2ms/step - loss: 0.5606 - accuracy: 0.7436\n",
      "Epoch 66/100\n",
      "13618/13618 [==============================] - 22s 2ms/step - loss: 0.5605 - accuracy: 0.7437\n",
      "Epoch 67/100\n",
      "13618/13618 [==============================] - 22s 2ms/step - loss: 0.5604 - accuracy: 0.7436\n",
      "Epoch 68/100\n",
      "13618/13618 [==============================] - 22s 2ms/step - loss: 0.5602 - accuracy: 0.7438\n",
      "Epoch 69/100\n",
      "13618/13618 [==============================] - 22s 2ms/step - loss: 0.5602 - accuracy: 0.7440\n",
      "Epoch 70/100\n",
      "13618/13618 [==============================] - 22s 2ms/step - loss: 0.5601 - accuracy: 0.7437\n",
      "Epoch 71/100\n",
      "13618/13618 [==============================] - 22s 2ms/step - loss: 0.5599 - accuracy: 0.7438\n",
      "Epoch 72/100\n",
      "13618/13618 [==============================] - 22s 2ms/step - loss: 0.5599 - accuracy: 0.7440\n",
      "Epoch 73/100\n",
      "13618/13618 [==============================] - 22s 2ms/step - loss: 0.5597 - accuracy: 0.7438\n",
      "Epoch 74/100\n",
      "13618/13618 [==============================] - 22s 2ms/step - loss: 0.5596 - accuracy: 0.7441\n",
      "Epoch 75/100\n",
      "13618/13618 [==============================] - 22s 2ms/step - loss: 0.5594 - accuracy: 0.7440\n"
     ]
    },
    {
     "name": "stdout",
     "output_type": "stream",
     "text": [
      "Epoch 76/100\n",
      "13618/13618 [==============================] - 22s 2ms/step - loss: 0.5593 - accuracy: 0.7439\n",
      "Epoch 77/100\n",
      "13618/13618 [==============================] - 22s 2ms/step - loss: 0.5591 - accuracy: 0.7441\n",
      "Epoch 78/100\n",
      "13618/13618 [==============================] - 22s 2ms/step - loss: 0.5591 - accuracy: 0.7443\n",
      "Epoch 79/100\n",
      "13618/13618 [==============================] - 22s 2ms/step - loss: 0.5590 - accuracy: 0.7443\n",
      "Epoch 80/100\n",
      "13618/13618 [==============================] - 22s 2ms/step - loss: 0.5589 - accuracy: 0.7443\n",
      "Epoch 81/100\n",
      "13618/13618 [==============================] - 21s 2ms/step - loss: 0.5589 - accuracy: 0.7444\n",
      "Epoch 82/100\n",
      "13618/13618 [==============================] - 21s 2ms/step - loss: 0.5588 - accuracy: 0.7445\n",
      "Epoch 83/100\n",
      "13618/13618 [==============================] - 22s 2ms/step - loss: 0.5587 - accuracy: 0.7442\n",
      "Epoch 84/100\n",
      "13618/13618 [==============================] - 21s 2ms/step - loss: 0.5586 - accuracy: 0.7444\n",
      "Epoch 85/100\n",
      "13618/13618 [==============================] - 21s 2ms/step - loss: 0.5586 - accuracy: 0.7442\n",
      "Epoch 86/100\n",
      "13618/13618 [==============================] - 21s 2ms/step - loss: 0.5584 - accuracy: 0.7443\n",
      "Epoch 87/100\n",
      "13618/13618 [==============================] - 21s 2ms/step - loss: 0.5584 - accuracy: 0.7444\n",
      "Epoch 88/100\n",
      "13618/13618 [==============================] - 21s 2ms/step - loss: 0.5584 - accuracy: 0.7442\n",
      "Epoch 89/100\n",
      "13618/13618 [==============================] - 21s 2ms/step - loss: 0.5583 - accuracy: 0.7446\n",
      "Epoch 90/100\n",
      "13618/13618 [==============================] - 21s 2ms/step - loss: 0.5582 - accuracy: 0.7448\n",
      "Epoch 91/100\n",
      "13618/13618 [==============================] - 21s 2ms/step - loss: 0.5581 - accuracy: 0.7447\n",
      "Epoch 92/100\n",
      "13618/13618 [==============================] - 21s 2ms/step - loss: 0.5581 - accuracy: 0.7451\n",
      "Epoch 93/100\n",
      "13618/13618 [==============================] - 21s 2ms/step - loss: 0.5580 - accuracy: 0.7448\n",
      "Epoch 94/100\n",
      "13618/13618 [==============================] - 21s 2ms/step - loss: 0.5579 - accuracy: 0.7449\n",
      "Epoch 95/100\n",
      "13618/13618 [==============================] - 21s 2ms/step - loss: 0.5580 - accuracy: 0.7447\n",
      "Epoch 96/100\n",
      "13618/13618 [==============================] - 21s 2ms/step - loss: 0.5580 - accuracy: 0.7446\n",
      "Epoch 97/100\n",
      "13618/13618 [==============================] - 21s 2ms/step - loss: 0.5579 - accuracy: 0.7448\n",
      "Epoch 98/100\n",
      "13618/13618 [==============================] - 21s 2ms/step - loss: 0.5579 - accuracy: 0.7449\n",
      "Epoch 99/100\n",
      "13618/13618 [==============================] - 21s 2ms/step - loss: 0.5580 - accuracy: 0.7448\n",
      "Epoch 100/100\n",
      "13618/13618 [==============================] - 21s 2ms/step - loss: 0.5578 - accuracy: 0.7448\n",
      "INFO:tensorflow:Assets written to: ./structured_data_classifier/best_model/assets\n",
      "4540/4540 [==============================] - 7s 2ms/step\n",
      "4540/4540 [==============================] - 8s 2ms/step - loss: 0.5691 - accuracy: 0.7411\n",
      "[0.5690765380859375, 0.741093099117279]\n"
     ]
    }
   ],
   "source": [
    "start = timeit.default_timer()\n",
    "clf = ak.StructuredDataClassifier(\n",
    "    overwrite=True, max_trials=1\n",
    ")\n",
    "clf.fit(X_train, y_train, epochs=100)\n",
    "stop = timeit.default_timer()\n",
    "predicted_y = clf.predict(X_test)\n",
    "print(clf.evaluate(X_test, y_test))\n"
   ]
  },
  {
   "cell_type": "code",
   "execution_count": 7,
   "metadata": {
    "id": "7sc1OUg_LpdA"
   },
   "outputs": [
    {
     "name": "stdout",
     "output_type": "stream",
     "text": [
      "4172.665033178404\n"
     ]
    }
   ],
   "source": [
    "print(stop-start)"
   ]
  },
  {
   "cell_type": "code",
   "execution_count": 8,
   "metadata": {},
   "outputs": [
    {
     "name": "stdout",
     "output_type": "stream",
     "text": [
      "Model: \"model\"\n",
      "_________________________________________________________________\n",
      " Layer (type)                Output Shape              Param #   \n",
      "=================================================================\n",
      " input_1 (InputLayer)        [(None, 54)]              0         \n",
      "                                                                 \n",
      " multi_category_encoding (Mu  (None, 54)               0         \n",
      " ltiCategoryEncoding)                                            \n",
      "                                                                 \n",
      " normalization (Normalizatio  (None, 54)               109       \n",
      " n)                                                              \n",
      "                                                                 \n",
      " dense (Dense)               (None, 32)                1760      \n",
      "                                                                 \n",
      " re_lu (ReLU)                (None, 32)                0         \n",
      "                                                                 \n",
      " dense_1 (Dense)             (None, 32)                1056      \n",
      "                                                                 \n",
      " re_lu_1 (ReLU)              (None, 32)                0         \n",
      "                                                                 \n",
      " dense_2 (Dense)             (None, 7)                 231       \n",
      "                                                                 \n",
      " classification_head_1 (Soft  (None, 7)                0         \n",
      " max)                                                            \n",
      "                                                                 \n",
      "=================================================================\n",
      "Total params: 3,156\n",
      "Trainable params: 3,047\n",
      "Non-trainable params: 109\n",
      "_________________________________________________________________\n"
     ]
    }
   ],
   "source": [
    "model = clf.export_model()\n",
    "model.summary()"
   ]
  },
  {
   "cell_type": "code",
   "execution_count": null,
   "metadata": {},
   "outputs": [],
   "source": []
  }
 ],
 "metadata": {
  "accelerator": "GPU",
  "colab": {
   "name": "Autokeras_spam_collab.ipynb",
   "provenance": []
  },
  "kernelspec": {
   "display_name": "idlsvenv",
   "language": "python",
   "name": "idlsvenv"
  },
  "language_info": {
   "codemirror_mode": {
    "name": "ipython",
    "version": 3
   },
   "file_extension": ".py",
   "mimetype": "text/x-python",
   "name": "python",
   "nbconvert_exporter": "python",
   "pygments_lexer": "ipython3",
   "version": "3.8.3"
  }
 },
 "nbformat": 4,
 "nbformat_minor": 1
}
