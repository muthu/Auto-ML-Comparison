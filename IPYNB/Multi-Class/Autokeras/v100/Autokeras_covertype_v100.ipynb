{
 "cells": [
  {
   "cell_type": "code",
   "execution_count": 2,
   "metadata": {
    "colab": {
     "base_uri": "https://localhost:8080/"
    },
    "id": "Fz8TNVg3KDnd",
    "outputId": "048d9b0a-476d-4948-c031-ac90326018c5"
   },
   "outputs": [
    {
     "name": "stdout",
     "output_type": "stream",
     "text": [
      "Defaulting to user installation because normal site-packages is not writeable\n",
      "Collecting autokeras\n",
      "  Using cached autokeras-1.0.19-py3-none-any.whl (162 kB)\n",
      "Requirement already satisfied: packaging in /share/apps/python/3.8.6/intel/lib/python3.8/site-packages (from autokeras) (20.4)\n",
      "Requirement already satisfied: pandas in /share/apps/python/3.8.6/intel/lib/python3.8/site-packages (from autokeras) (1.1.3)\n",
      "Collecting tensorflow>=2.8.0\n",
      "  Using cached tensorflow-2.8.0-cp38-cp38-manylinux2010_x86_64.whl (497.6 MB)\n",
      "Requirement already satisfied: astunparse>=1.6.0 in ./.local/lib/python3.8/site-packages (from tensorflow>=2.8.0->autokeras) (1.6.3)\n",
      "Requirement already satisfied: setuptools in /share/apps/python/3.8.6/intel/lib/python3.8/site-packages (from tensorflow>=2.8.0->autokeras) (49.2.1)\n",
      "Requirement already satisfied: opt-einsum>=2.3.2 in ./.local/lib/python3.8/site-packages (from tensorflow>=2.8.0->autokeras) (3.3.0)\n",
      "Requirement already satisfied: termcolor>=1.1.0 in ./.local/lib/python3.8/site-packages (from tensorflow>=2.8.0->autokeras) (1.1.0)\n",
      "Requirement already satisfied: wrapt>=1.11.0 in /share/apps/anaconda3/2020.07/lib/python3.8/site-packages (from tensorflow>=2.8.0->autokeras) (1.11.2)\n",
      "Requirement already satisfied: tensorboard<2.9,>=2.8 in ./.local/lib/python3.8/site-packages (from tensorflow>=2.8.0->autokeras) (2.8.0)\n",
      "Requirement already satisfied: tf-estimator-nightly==2.8.0.dev2021122109 in ./.local/lib/python3.8/site-packages (from tensorflow>=2.8.0->autokeras) (2.8.0.dev2021122109)\n",
      "Requirement already satisfied: keras<2.9,>=2.8.0rc0 in ./.local/lib/python3.8/site-packages (from tensorflow>=2.8.0->autokeras) (2.8.0)\n",
      "Requirement already satisfied: grpcio<2.0,>=1.24.3 in ./.local/lib/python3.8/site-packages (from tensorflow>=2.8.0->autokeras) (1.44.0)\n",
      "Requirement already satisfied: gast>=0.2.1 in ./.local/lib/python3.8/site-packages (from tensorflow>=2.8.0->autokeras) (0.5.3)\n",
      "Requirement already satisfied: tensorflow-io-gcs-filesystem>=0.23.1 in ./.local/lib/python3.8/site-packages (from tensorflow>=2.8.0->autokeras) (0.25.0)\n",
      "Requirement already satisfied: absl-py>=0.4.0 in /share/apps/python/3.8.6/intel/lib/python3.8/site-packages (from tensorflow>=2.8.0->autokeras) (0.13.0)\n",
      "Requirement already satisfied: libclang>=9.0.1 in ./.local/lib/python3.8/site-packages (from tensorflow>=2.8.0->autokeras) (14.0.1)\n",
      "Requirement already satisfied: google-pasta>=0.1.1 in ./.local/lib/python3.8/site-packages (from tensorflow>=2.8.0->autokeras) (0.2.0)\n",
      "Requirement already satisfied: numpy>=1.20 in ./.local/lib/python3.8/site-packages (from tensorflow>=2.8.0->autokeras) (1.22.3)\n",
      "Requirement already satisfied: typing-extensions>=3.6.6 in /share/apps/anaconda3/2020.07/lib/python3.8/site-packages (from tensorflow>=2.8.0->autokeras) (3.7.4.2)\n",
      "Requirement already satisfied: six>=1.12.0 in /share/apps/python/3.8.6/intel/lib/python3.8/site-packages (from tensorflow>=2.8.0->autokeras) (1.15.0)\n",
      "Requirement already satisfied: protobuf>=3.9.2 in ./.local/lib/python3.8/site-packages (from tensorflow>=2.8.0->autokeras) (3.20.1)\n",
      "Requirement already satisfied: keras-preprocessing>=1.1.1 in ./.local/lib/python3.8/site-packages (from tensorflow>=2.8.0->autokeras) (1.1.2)\n",
      "Requirement already satisfied: h5py>=2.9.0 in /share/apps/anaconda3/2020.07/lib/python3.8/site-packages (from tensorflow>=2.8.0->autokeras) (2.10.0)\n",
      "Requirement already satisfied: flatbuffers>=1.12 in ./.local/lib/python3.8/site-packages (from tensorflow>=2.8.0->autokeras) (2.0)\n",
      "Requirement already satisfied: tensorboard-data-server<0.7.0,>=0.6.0 in ./.local/lib/python3.8/site-packages (from tensorboard<2.9,>=2.8->tensorflow>=2.8.0->autokeras) (0.6.1)\n",
      "Requirement already satisfied: protobuf>=3.9.2 in ./.local/lib/python3.8/site-packages (from tensorflow>=2.8.0->autokeras) (3.20.1)\n",
      "Requirement already satisfied: wheel>=0.26 in /share/apps/python/3.8.6/intel/lib/python3.8/site-packages (from tensorboard<2.9,>=2.8->tensorflow>=2.8.0->autokeras) (0.35.1)\n",
      "Requirement already satisfied: setuptools in /share/apps/python/3.8.6/intel/lib/python3.8/site-packages (from tensorflow>=2.8.0->autokeras) (49.2.1)\n",
      "Requirement already satisfied: numpy>=1.20 in ./.local/lib/python3.8/site-packages (from tensorflow>=2.8.0->autokeras) (1.22.3)\n",
      "Requirement already satisfied: markdown>=2.6.8 in ./.local/lib/python3.8/site-packages (from tensorboard<2.9,>=2.8->tensorflow>=2.8.0->autokeras) (3.3.6)\n",
      "Requirement already satisfied: requests<3,>=2.21.0 in /share/apps/python/3.8.6/intel/lib/python3.8/site-packages (from tensorboard<2.9,>=2.8->tensorflow>=2.8.0->autokeras) (2.24.0)\n",
      "Requirement already satisfied: grpcio<2.0,>=1.24.3 in ./.local/lib/python3.8/site-packages (from tensorflow>=2.8.0->autokeras) (1.44.0)\n",
      "Requirement already satisfied: google-auth<3,>=1.6.3 in ./.local/lib/python3.8/site-packages (from tensorboard<2.9,>=2.8->tensorflow>=2.8.0->autokeras) (2.6.6)\n",
      "Requirement already satisfied: werkzeug>=0.11.15 in /share/apps/anaconda3/2020.07/lib/python3.8/site-packages (from tensorboard<2.9,>=2.8->tensorflow>=2.8.0->autokeras) (1.0.1)\n",
      "Requirement already satisfied: tensorboard-plugin-wit>=1.6.0 in ./.local/lib/python3.8/site-packages (from tensorboard<2.9,>=2.8->tensorflow>=2.8.0->autokeras) (1.8.1)\n",
      "Requirement already satisfied: google-auth-oauthlib<0.5,>=0.4.1 in ./.local/lib/python3.8/site-packages (from tensorboard<2.9,>=2.8->tensorflow>=2.8.0->autokeras) (0.4.6)\n",
      "Requirement already satisfied: absl-py>=0.4.0 in /share/apps/python/3.8.6/intel/lib/python3.8/site-packages (from tensorflow>=2.8.0->autokeras) (0.13.0)\n",
      "Requirement already satisfied: six>=1.12.0 in /share/apps/python/3.8.6/intel/lib/python3.8/site-packages (from tensorflow>=2.8.0->autokeras) (1.15.0)\n",
      "Requirement already satisfied: numpy>=1.20 in ./.local/lib/python3.8/site-packages (from tensorflow>=2.8.0->autokeras) (1.22.3)\n",
      "Collecting keras-tuner>=1.1.0\n",
      "  Using cached keras_tuner-1.1.2-py3-none-any.whl (133 kB)\n",
      "Requirement already satisfied: requests<3,>=2.21.0 in /share/apps/python/3.8.6/intel/lib/python3.8/site-packages (from tensorboard<2.9,>=2.8->tensorflow>=2.8.0->autokeras) (2.24.0)\n",
      "Requirement already satisfied: numpy>=1.20 in ./.local/lib/python3.8/site-packages (from tensorflow>=2.8.0->autokeras) (1.22.3)\n",
      "Requirement already satisfied: ipython in /share/apps/python/3.8.6/intel/lib/python3.8/site-packages (from keras-tuner>=1.1.0->autokeras) (7.18.1)\n",
      "Requirement already satisfied: tensorboard<2.9,>=2.8 in ./.local/lib/python3.8/site-packages (from tensorflow>=2.8.0->autokeras) (2.8.0)\n",
      "Requirement already satisfied: packaging in /share/apps/python/3.8.6/intel/lib/python3.8/site-packages (from autokeras) (20.4)\n",
      "Requirement already satisfied: kt-legacy in ./.local/lib/python3.8/site-packages (from keras-tuner>=1.1.0->autokeras) (1.0.4)\n",
      "Requirement already satisfied: wheel>=0.26 in /share/apps/python/3.8.6/intel/lib/python3.8/site-packages (from tensorboard<2.9,>=2.8->tensorflow>=2.8.0->autokeras) (0.35.1)\n",
      "Requirement already satisfied: six>=1.12.0 in /share/apps/python/3.8.6/intel/lib/python3.8/site-packages (from tensorflow>=2.8.0->autokeras) (1.15.0)\n",
      "Requirement already satisfied: numpy>=1.20 in ./.local/lib/python3.8/site-packages (from tensorflow>=2.8.0->autokeras) (1.22.3)\n",
      "Requirement already satisfied: google-auth<3,>=1.6.3 in ./.local/lib/python3.8/site-packages (from tensorboard<2.9,>=2.8->tensorflow>=2.8.0->autokeras) (2.6.6)\n",
      "Requirement already satisfied: requests-oauthlib>=0.7.0 in ./.local/lib/python3.8/site-packages (from google-auth-oauthlib<0.5,>=0.4.1->tensorboard<2.9,>=2.8->tensorflow>=2.8.0->autokeras) (1.3.1)\n",
      "Requirement already satisfied: oauthlib>=3.0.0 in /share/apps/python/3.8.6/intel/lib/python3.8/site-packages (from requests-oauthlib>=0.7.0->google-auth-oauthlib<0.5,>=0.4.1->tensorboard<2.9,>=2.8->tensorflow>=2.8.0->autokeras) (3.1.0)\n",
      "Requirement already satisfied: requests<3,>=2.21.0 in /share/apps/python/3.8.6/intel/lib/python3.8/site-packages (from tensorboard<2.9,>=2.8->tensorflow>=2.8.0->autokeras) (2.24.0)\n",
      "Requirement already satisfied: six>=1.12.0 in /share/apps/python/3.8.6/intel/lib/python3.8/site-packages (from tensorflow>=2.8.0->autokeras) (1.15.0)\n",
      "Requirement already satisfied: urllib3!=1.25.0,!=1.25.1,<1.26,>=1.21.1 in /share/apps/python/3.8.6/intel/lib/python3.8/site-packages (from requests<3,>=2.21.0->tensorboard<2.9,>=2.8->tensorflow>=2.8.0->autokeras) (1.25.10)\n"
     ]
    },
    {
     "name": "stdout",
     "output_type": "stream",
     "text": [
      "Requirement already satisfied: certifi>=2017.4.17 in /share/apps/python/3.8.6/intel/lib/python3.8/site-packages (from requests<3,>=2.21.0->tensorboard<2.9,>=2.8->tensorflow>=2.8.0->autokeras) (2020.6.20)\n",
      "Requirement already satisfied: idna<3,>=2.5 in /share/apps/python/3.8.6/intel/lib/python3.8/site-packages (from requests<3,>=2.21.0->tensorboard<2.9,>=2.8->tensorflow>=2.8.0->autokeras) (2.10)\n",
      "Requirement already satisfied: chardet<4,>=3.0.2 in /share/apps/python/3.8.6/intel/lib/python3.8/site-packages (from requests<3,>=2.21.0->tensorboard<2.9,>=2.8->tensorflow>=2.8.0->autokeras) (3.0.4)\n",
      "Requirement already satisfied: numpy>=1.20 in ./.local/lib/python3.8/site-packages (from tensorflow>=2.8.0->autokeras) (1.22.3)\n",
      "Requirement already satisfied: six>=1.12.0 in /share/apps/python/3.8.6/intel/lib/python3.8/site-packages (from tensorflow>=2.8.0->autokeras) (1.15.0)\n",
      "Requirement already satisfied: six>=1.12.0 in /share/apps/python/3.8.6/intel/lib/python3.8/site-packages (from tensorflow>=2.8.0->autokeras) (1.15.0)\n",
      "Requirement already satisfied: importlib-metadata>=4.4 in ./.local/lib/python3.8/site-packages (from markdown>=2.6.8->tensorboard<2.9,>=2.8->tensorflow>=2.8.0->autokeras) (4.11.3)\n",
      "Requirement already satisfied: zipp>=0.5 in /share/apps/anaconda3/2020.07/lib/python3.8/site-packages (from importlib-metadata>=4.4->markdown>=2.6.8->tensorboard<2.9,>=2.8->tensorflow>=2.8.0->autokeras) (3.1.0)\n",
      "Requirement already satisfied: six>=1.12.0 in /share/apps/python/3.8.6/intel/lib/python3.8/site-packages (from tensorflow>=2.8.0->autokeras) (1.15.0)\n",
      "Requirement already satisfied: six>=1.12.0 in /share/apps/python/3.8.6/intel/lib/python3.8/site-packages (from tensorflow>=2.8.0->autokeras) (1.15.0)\n",
      "Requirement already satisfied: pyparsing>=2.0.2 in /share/apps/python/3.8.6/intel/lib/python3.8/site-packages (from packaging->autokeras) (2.4.7)\n",
      "Requirement already satisfied: cachetools<6.0,>=2.0.0 in ./.local/lib/python3.8/site-packages (from google-auth<3,>=1.6.3->tensorboard<2.9,>=2.8->tensorflow>=2.8.0->autokeras) (5.0.0)\n",
      "Requirement already satisfied: rsa<5,>=3.1.4 in ./.local/lib/python3.8/site-packages (from google-auth<3,>=1.6.3->tensorboard<2.9,>=2.8->tensorflow>=2.8.0->autokeras) (4.8)\n",
      "Requirement already satisfied: six>=1.12.0 in /share/apps/python/3.8.6/intel/lib/python3.8/site-packages (from tensorflow>=2.8.0->autokeras) (1.15.0)\n",
      "Requirement already satisfied: pyasn1-modules>=0.2.1 in ./.local/lib/python3.8/site-packages (from google-auth<3,>=1.6.3->tensorboard<2.9,>=2.8->tensorflow>=2.8.0->autokeras) (0.2.8)\n",
      "Requirement already satisfied: pyasn1<0.5.0,>=0.4.6 in ./.local/lib/python3.8/site-packages (from pyasn1-modules>=0.2.1->google-auth<3,>=1.6.3->tensorboard<2.9,>=2.8->tensorflow>=2.8.0->autokeras) (0.4.8)\n",
      "Requirement already satisfied: pyasn1<0.5.0,>=0.4.6 in ./.local/lib/python3.8/site-packages (from pyasn1-modules>=0.2.1->google-auth<3,>=1.6.3->tensorboard<2.9,>=2.8->tensorflow>=2.8.0->autokeras) (0.4.8)\n",
      "Requirement already satisfied: pytz>=2017.2 in /share/apps/python/3.8.6/intel/lib/python3.8/site-packages (from pandas->autokeras) (2020.1)\n",
      "Requirement already satisfied: python-dateutil>=2.7.3 in /share/apps/python/3.8.6/intel/lib/python3.8/site-packages (from pandas->autokeras) (2.8.1)\n",
      "Requirement already satisfied: numpy>=1.20 in ./.local/lib/python3.8/site-packages (from tensorflow>=2.8.0->autokeras) (1.22.3)\n",
      "Requirement already satisfied: six>=1.12.0 in /share/apps/python/3.8.6/intel/lib/python3.8/site-packages (from tensorflow>=2.8.0->autokeras) (1.15.0)\n",
      "Requirement already satisfied: pexpect>4.3 in /share/apps/python/3.8.6/intel/lib/python3.8/site-packages (from ipython->keras-tuner>=1.1.0->autokeras) (4.8.0)\n",
      "Requirement already satisfied: jedi>=0.10 in /share/apps/python/3.8.6/intel/lib/python3.8/site-packages (from ipython->keras-tuner>=1.1.0->autokeras) (0.17.2)\n",
      "Requirement already satisfied: traitlets>=4.2 in /share/apps/python/3.8.6/intel/lib/python3.8/site-packages (from ipython->keras-tuner>=1.1.0->autokeras) (5.0.4)\n",
      "Requirement already satisfied: backcall in /share/apps/python/3.8.6/intel/lib/python3.8/site-packages (from ipython->keras-tuner>=1.1.0->autokeras) (0.2.0)\n",
      "Requirement already satisfied: pickleshare in /share/apps/python/3.8.6/intel/lib/python3.8/site-packages (from ipython->keras-tuner>=1.1.0->autokeras) (0.7.5)\n",
      "Requirement already satisfied: prompt-toolkit!=3.0.0,!=3.0.1,<3.1.0,>=2.0.0 in /share/apps/python/3.8.6/intel/lib/python3.8/site-packages (from ipython->keras-tuner>=1.1.0->autokeras) (3.0.7)\n",
      "Requirement already satisfied: decorator in /share/apps/python/3.8.6/intel/lib/python3.8/site-packages (from ipython->keras-tuner>=1.1.0->autokeras) (4.4.2)\n",
      "Requirement already satisfied: pygments in /share/apps/python/3.8.6/intel/lib/python3.8/site-packages (from ipython->keras-tuner>=1.1.0->autokeras) (2.7.1)\n",
      "Requirement already satisfied: setuptools in /share/apps/python/3.8.6/intel/lib/python3.8/site-packages (from tensorflow>=2.8.0->autokeras) (49.2.1)\n",
      "Requirement already satisfied: ptyprocess>=0.5 in /share/apps/python/3.8.6/intel/lib/python3.8/site-packages (from pexpect>4.3->ipython->keras-tuner>=1.1.0->autokeras) (0.6.0)\n",
      "Requirement already satisfied: ipython-genutils in /share/apps/python/3.8.6/intel/lib/python3.8/site-packages (from traitlets>=4.2->ipython->keras-tuner>=1.1.0->autokeras) (0.2.0)\n",
      "Requirement already satisfied: parso<0.8.0,>=0.7.0 in /share/apps/python/3.8.6/intel/lib/python3.8/site-packages (from jedi>=0.10->ipython->keras-tuner>=1.1.0->autokeras) (0.7.1)\n",
      "Requirement already satisfied: wcwidth in /share/apps/python/3.8.6/intel/lib/python3.8/site-packages (from prompt-toolkit!=3.0.0,!=3.0.1,<3.1.0,>=2.0.0->ipython->keras-tuner>=1.1.0->autokeras) (0.2.5)\n",
      "Installing collected packages: tensorflow, keras-tuner, autokeras\n",
      "Successfully installed autokeras-1.0.19 keras-tuner-1.1.2 tensorflow-2.8.0\n",
      "\u001b[33mWARNING: You are using pip version 20.2.3; however, version 22.0.4 is available.\n",
      "You should consider upgrading via the '/share/apps/anaconda3/2020.07/bin/python -m pip install --upgrade pip' command.\u001b[0m\n",
      "Note: you may need to restart the kernel to use updated packages.\n"
     ]
    }
   ],
   "source": [
    "%pip install --use-feature=2020-resolver autokeras"
   ]
  },
  {
   "cell_type": "code",
   "execution_count": 1,
   "metadata": {
    "id": "s_FgDGflKL1M"
   },
   "outputs": [],
   "source": [
    "import sklearn.datasets\n",
    "import sklearn.model_selection\n",
    "import autokeras as ak\n",
    "import timeit\n",
    "import pandas as pd"
   ]
  },
  {
   "cell_type": "code",
   "execution_count": 2,
   "metadata": {},
   "outputs": [],
   "source": [
    "def dataSetup(name):\n",
    "  X,y = sklearn.datasets.fetch_openml(data_id = name, as_frame=True, return_X_y=True)\n",
    "  train = pd.concat([X, y], axis=1, join='inner')\n",
    "  train.dropna()\n",
    "  train = train.apply(lambda x: pd.factorize(x)[0])\n",
    "  X,y = train.iloc[:,:-1], train.iloc[:, -1]\n",
    "  # X = X.apply(lambda x: pd.factorize(x)[0])\n",
    "  X_train, X_test, y_train, y_test = sklearn.model_selection.train_test_split(X,y,random_state=42)\n",
    "  return (X_train, X_test, y_train, y_test)"
   ]
  },
  {
   "cell_type": "code",
   "execution_count": 3,
   "metadata": {
    "colab": {
     "base_uri": "https://localhost:8080/"
    },
    "id": "9yRLJcPgMH_o",
    "outputId": "44c3d703-0166-4900-e444-da92ef404de2"
   },
   "outputs": [
    {
     "data": {
      "text/plain": [
       "(435759, 54)"
      ]
     },
     "execution_count": 3,
     "metadata": {},
     "output_type": "execute_result"
    }
   ],
   "source": [
    "X_train, X_test, y_train, y_test = dataSetup(1596)\n",
    "X_train = pd.DataFrame(X_train).to_numpy()\n",
    "X_test = pd.DataFrame(X_test).to_numpy()\n",
    "y_train = pd.DataFrame(y_train).to_numpy()\n",
    "y_test = pd.DataFrame(y_test).to_numpy()\n",
    "X_train.shape\n"
   ]
  },
  {
   "cell_type": "code",
   "execution_count": 4,
   "metadata": {},
   "outputs": [
    {
     "data": {
      "text/plain": [
       "array([[ 212,  218,   25, ...,    0,    0,    0],\n",
       "       [  61,    4,    1, ...,    0,    0,    0],\n",
       "       [ 274,   15,    8, ...,    0,    0,    0],\n",
       "       ...,\n",
       "       [ 634,  327,   12, ...,    0,    0,    0],\n",
       "       [1339,   81,   29, ...,    0,    0,    0],\n",
       "       [ 129,  280,   15, ...,    0,    0,    0]])"
      ]
     },
     "execution_count": 4,
     "metadata": {},
     "output_type": "execute_result"
    }
   ],
   "source": [
    "X_train"
   ]
  },
  {
   "cell_type": "code",
   "execution_count": 5,
   "metadata": {},
   "outputs": [
    {
     "data": {
      "text/plain": [
       "array([0, 1, 2, 3, 4, 5, 6])"
      ]
     },
     "execution_count": 5,
     "metadata": {},
     "output_type": "execute_result"
    }
   ],
   "source": [
    "import numpy as np\n",
    "np.unique(y_train)"
   ]
  },
  {
   "cell_type": "code",
   "execution_count": null,
   "metadata": {
    "colab": {
     "base_uri": "https://localhost:8080/"
    },
    "id": "BGr7npnlLnUD",
    "outputId": "8d06b12a-1ba3-4402-dd15-18b2520e059e"
   },
   "outputs": [
    {
     "name": "stdout",
     "output_type": "stream",
     "text": [
      "Trial 1 Complete [00h 50m 46s]\n",
      "val_accuracy: 0.7406995296478271\n",
      "\n",
      "Best val_accuracy So Far: 0.7406995296478271\n",
      "Total elapsed time: 00h 50m 46s\n",
      "INFO:tensorflow:Oracle triggered exit\n",
      "Epoch 1/100\n",
      "13618/13618 [==============================] - 38s 3ms/step - loss: 0.6728 - accuracy: 0.6935\n",
      "Epoch 2/100\n",
      "13618/13618 [==============================] - 38s 3ms/step - loss: 0.6186 - accuracy: 0.7173\n",
      "Epoch 3/100\n",
      "13618/13618 [==============================] - 37s 3ms/step - loss: 0.6042 - accuracy: 0.7231\n",
      "Epoch 4/100\n",
      "13618/13618 [==============================] - 38s 3ms/step - loss: 0.5970 - accuracy: 0.7267\n",
      "Epoch 5/100\n",
      "13618/13618 [==============================] - 38s 3ms/step - loss: 0.5927 - accuracy: 0.7280\n",
      "Epoch 6/100\n",
      "13618/13618 [==============================] - 39s 3ms/step - loss: 0.5895 - accuracy: 0.7295\n",
      "Epoch 7/100\n",
      "13618/13618 [==============================] - 39s 3ms/step - loss: 0.5871 - accuracy: 0.7303\n",
      "Epoch 8/100\n",
      "13618/13618 [==============================] - 38s 3ms/step - loss: 0.5850 - accuracy: 0.7314\n",
      "Epoch 9/100\n",
      "13618/13618 [==============================] - 38s 3ms/step - loss: 0.5836 - accuracy: 0.7321\n",
      "Epoch 10/100\n",
      "13618/13618 [==============================] - 38s 3ms/step - loss: 0.5822 - accuracy: 0.7322\n",
      "Epoch 11/100\n",
      "13618/13618 [==============================] - 38s 3ms/step - loss: 0.5810 - accuracy: 0.7330\n",
      "Epoch 12/100\n",
      "13618/13618 [==============================] - 38s 3ms/step - loss: 0.5799 - accuracy: 0.7338\n",
      "Epoch 13/100\n",
      "13618/13618 [==============================] - 39s 3ms/step - loss: 0.5789 - accuracy: 0.7338\n",
      "Epoch 14/100\n",
      "13618/13618 [==============================] - 38s 3ms/step - loss: 0.5779 - accuracy: 0.7345\n",
      "Epoch 15/100\n",
      "13618/13618 [==============================] - 38s 3ms/step - loss: 0.5771 - accuracy: 0.7346\n",
      "Epoch 16/100\n",
      "13618/13618 [==============================] - 39s 3ms/step - loss: 0.5762 - accuracy: 0.7353\n",
      "Epoch 17/100\n",
      " 3452/13618 [======>.......................] - ETA: 28s - loss: 0.5793 - accuracy: 0.7360"
     ]
    }
   ],
   "source": [
    "start = timeit.default_timer()\n",
    "clf = ak.StructuredDataClassifier(\n",
    "    overwrite=True, max_trials=1\n",
    ")\n",
    "clf.fit(X_train, y_train, epochs=100)\n",
    "stop = timeit.default_timer()\n",
    "predicted_y = clf.predict(X_test)\n",
    "print(clf.evaluate(X_test, y_test))\n"
   ]
  },
  {
   "cell_type": "code",
   "execution_count": null,
   "metadata": {
    "id": "7sc1OUg_LpdA"
   },
   "outputs": [],
   "source": [
    "print(stop-start)"
   ]
  },
  {
   "cell_type": "code",
   "execution_count": null,
   "metadata": {},
   "outputs": [],
   "source": [
    "model = clf.export_model()\n",
    "model.summary()"
   ]
  },
  {
   "cell_type": "code",
   "execution_count": null,
   "metadata": {},
   "outputs": [],
   "source": []
  }
 ],
 "metadata": {
  "accelerator": "GPU",
  "colab": {
   "name": "Autokeras_spam_collab.ipynb",
   "provenance": []
  },
  "kernelspec": {
   "display_name": "idlsvenv",
   "language": "python",
   "name": "idlsvenv"
  },
  "language_info": {
   "codemirror_mode": {
    "name": "ipython",
    "version": 3
   },
   "file_extension": ".py",
   "mimetype": "text/x-python",
   "name": "python",
   "nbconvert_exporter": "python",
   "pygments_lexer": "ipython3",
   "version": "3.8.3"
  }
 },
 "nbformat": 4,
 "nbformat_minor": 1
}
