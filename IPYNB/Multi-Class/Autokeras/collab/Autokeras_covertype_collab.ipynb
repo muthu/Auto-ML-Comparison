{
  "nbformat": 4,
  "nbformat_minor": 0,
  "metadata": {
    "colab": {
      "name": "Autokeras_covertype_collab",
      "provenance": []
    },
    "kernelspec": {
      "name": "python3",
      "display_name": "Python 3"
    },
    "language_info": {
      "name": "python"
    },
    "accelerator": "GPU"
  },
  "cells": [
    {
      "cell_type": "code",
      "execution_count": null,
      "metadata": {
        "colab": {
          "base_uri": "https://localhost:8080/"
        },
        "id": "Fz8TNVg3KDnd",
        "outputId": "616fcbfc-eb75-4333-92fd-97b7b683cf64"
      },
      "outputs": [
        {
          "output_type": "stream",
          "name": "stdout",
          "text": [
            "Collecting autokeras\n",
            "  Downloading autokeras-1.0.19-py3-none-any.whl (162 kB)\n",
            "\u001b[K     |████████████████████████████████| 162 kB 5.3 MB/s \n",
            "\u001b[?25hCollecting keras-tuner>=1.1.0\n",
            "  Downloading keras_tuner-1.1.2-py3-none-any.whl (133 kB)\n",
            "\u001b[K     |████████████████████████████████| 133 kB 52.3 MB/s \n",
            "\u001b[?25hRequirement already satisfied: packaging in /usr/local/lib/python3.7/dist-packages (from autokeras) (21.3)\n",
            "Requirement already satisfied: tensorflow>=2.8.0 in /usr/local/lib/python3.7/dist-packages (from autokeras) (2.8.0)\n",
            "Requirement already satisfied: pandas in /usr/local/lib/python3.7/dist-packages (from autokeras) (1.3.5)\n",
            "Collecting kt-legacy\n",
            "  Downloading kt_legacy-1.0.4-py3-none-any.whl (9.6 kB)\n",
            "Requirement already satisfied: tensorboard in /usr/local/lib/python3.7/dist-packages (from keras-tuner>=1.1.0->autokeras) (2.8.0)\n",
            "Requirement already satisfied: requests in /usr/local/lib/python3.7/dist-packages (from keras-tuner>=1.1.0->autokeras) (2.23.0)\n",
            "Requirement already satisfied: ipython in /usr/local/lib/python3.7/dist-packages (from keras-tuner>=1.1.0->autokeras) (5.5.0)\n",
            "Requirement already satisfied: numpy in /usr/local/lib/python3.7/dist-packages (from keras-tuner>=1.1.0->autokeras) (1.21.6)\n",
            "Requirement already satisfied: gast>=0.2.1 in /usr/local/lib/python3.7/dist-packages (from tensorflow>=2.8.0->autokeras) (0.5.3)\n",
            "Requirement already satisfied: termcolor>=1.1.0 in /usr/local/lib/python3.7/dist-packages (from tensorflow>=2.8.0->autokeras) (1.1.0)\n",
            "Requirement already satisfied: six>=1.12.0 in /usr/local/lib/python3.7/dist-packages (from tensorflow>=2.8.0->autokeras) (1.15.0)\n",
            "Requirement already satisfied: tensorflow-io-gcs-filesystem>=0.23.1 in /usr/local/lib/python3.7/dist-packages (from tensorflow>=2.8.0->autokeras) (0.25.0)\n",
            "Requirement already satisfied: keras<2.9,>=2.8.0rc0 in /usr/local/lib/python3.7/dist-packages (from tensorflow>=2.8.0->autokeras) (2.8.0)\n",
            "Requirement already satisfied: h5py>=2.9.0 in /usr/local/lib/python3.7/dist-packages (from tensorflow>=2.8.0->autokeras) (3.1.0)\n",
            "Requirement already satisfied: setuptools in /usr/local/lib/python3.7/dist-packages (from tensorflow>=2.8.0->autokeras) (57.4.0)\n",
            "Requirement already satisfied: typing-extensions>=3.6.6 in /usr/local/lib/python3.7/dist-packages (from tensorflow>=2.8.0->autokeras) (4.2.0)\n",
            "Requirement already satisfied: absl-py>=0.4.0 in /usr/local/lib/python3.7/dist-packages (from tensorflow>=2.8.0->autokeras) (1.0.0)\n",
            "Requirement already satisfied: protobuf>=3.9.2 in /usr/local/lib/python3.7/dist-packages (from tensorflow>=2.8.0->autokeras) (3.17.3)\n",
            "Requirement already satisfied: opt-einsum>=2.3.2 in /usr/local/lib/python3.7/dist-packages (from tensorflow>=2.8.0->autokeras) (3.3.0)\n",
            "Collecting tf-estimator-nightly==2.8.0.dev2021122109\n",
            "  Downloading tf_estimator_nightly-2.8.0.dev2021122109-py2.py3-none-any.whl (462 kB)\n",
            "\u001b[K     |████████████████████████████████| 462 kB 42.9 MB/s \n",
            "\u001b[?25hRequirement already satisfied: libclang>=9.0.1 in /usr/local/lib/python3.7/dist-packages (from tensorflow>=2.8.0->autokeras) (14.0.1)\n",
            "Requirement already satisfied: flatbuffers>=1.12 in /usr/local/lib/python3.7/dist-packages (from tensorflow>=2.8.0->autokeras) (2.0)\n",
            "Requirement already satisfied: keras-preprocessing>=1.1.1 in /usr/local/lib/python3.7/dist-packages (from tensorflow>=2.8.0->autokeras) (1.1.2)\n",
            "Requirement already satisfied: grpcio<2.0,>=1.24.3 in /usr/local/lib/python3.7/dist-packages (from tensorflow>=2.8.0->autokeras) (1.44.0)\n",
            "Requirement already satisfied: astunparse>=1.6.0 in /usr/local/lib/python3.7/dist-packages (from tensorflow>=2.8.0->autokeras) (1.6.3)\n",
            "Requirement already satisfied: google-pasta>=0.1.1 in /usr/local/lib/python3.7/dist-packages (from tensorflow>=2.8.0->autokeras) (0.2.0)\n",
            "Requirement already satisfied: wrapt>=1.11.0 in /usr/local/lib/python3.7/dist-packages (from tensorflow>=2.8.0->autokeras) (1.14.0)\n",
            "Requirement already satisfied: wheel<1.0,>=0.23.0 in /usr/local/lib/python3.7/dist-packages (from astunparse>=1.6.0->tensorflow>=2.8.0->autokeras) (0.37.1)\n",
            "Requirement already satisfied: cached-property in /usr/local/lib/python3.7/dist-packages (from h5py>=2.9.0->tensorflow>=2.8.0->autokeras) (1.5.2)\n",
            "Requirement already satisfied: tensorboard-plugin-wit>=1.6.0 in /usr/local/lib/python3.7/dist-packages (from tensorboard->keras-tuner>=1.1.0->autokeras) (1.8.1)\n",
            "Requirement already satisfied: markdown>=2.6.8 in /usr/local/lib/python3.7/dist-packages (from tensorboard->keras-tuner>=1.1.0->autokeras) (3.3.6)\n",
            "Requirement already satisfied: google-auth<3,>=1.6.3 in /usr/local/lib/python3.7/dist-packages (from tensorboard->keras-tuner>=1.1.0->autokeras) (1.35.0)\n",
            "Requirement already satisfied: werkzeug>=0.11.15 in /usr/local/lib/python3.7/dist-packages (from tensorboard->keras-tuner>=1.1.0->autokeras) (1.0.1)\n",
            "Requirement already satisfied: tensorboard-data-server<0.7.0,>=0.6.0 in /usr/local/lib/python3.7/dist-packages (from tensorboard->keras-tuner>=1.1.0->autokeras) (0.6.1)\n",
            "Requirement already satisfied: google-auth-oauthlib<0.5,>=0.4.1 in /usr/local/lib/python3.7/dist-packages (from tensorboard->keras-tuner>=1.1.0->autokeras) (0.4.6)\n",
            "Requirement already satisfied: pyasn1-modules>=0.2.1 in /usr/local/lib/python3.7/dist-packages (from google-auth<3,>=1.6.3->tensorboard->keras-tuner>=1.1.0->autokeras) (0.2.8)\n",
            "Requirement already satisfied: rsa<5,>=3.1.4 in /usr/local/lib/python3.7/dist-packages (from google-auth<3,>=1.6.3->tensorboard->keras-tuner>=1.1.0->autokeras) (4.8)\n",
            "Requirement already satisfied: cachetools<5.0,>=2.0.0 in /usr/local/lib/python3.7/dist-packages (from google-auth<3,>=1.6.3->tensorboard->keras-tuner>=1.1.0->autokeras) (4.2.4)\n",
            "Requirement already satisfied: requests-oauthlib>=0.7.0 in /usr/local/lib/python3.7/dist-packages (from google-auth-oauthlib<0.5,>=0.4.1->tensorboard->keras-tuner>=1.1.0->autokeras) (1.3.1)\n",
            "Requirement already satisfied: importlib-metadata>=4.4 in /usr/local/lib/python3.7/dist-packages (from markdown>=2.6.8->tensorboard->keras-tuner>=1.1.0->autokeras) (4.11.3)\n",
            "Requirement already satisfied: zipp>=0.5 in /usr/local/lib/python3.7/dist-packages (from importlib-metadata>=4.4->markdown>=2.6.8->tensorboard->keras-tuner>=1.1.0->autokeras) (3.8.0)\n",
            "Requirement already satisfied: pyasn1<0.5.0,>=0.4.6 in /usr/local/lib/python3.7/dist-packages (from pyasn1-modules>=0.2.1->google-auth<3,>=1.6.3->tensorboard->keras-tuner>=1.1.0->autokeras) (0.4.8)\n",
            "Requirement already satisfied: idna<3,>=2.5 in /usr/local/lib/python3.7/dist-packages (from requests->keras-tuner>=1.1.0->autokeras) (2.10)\n",
            "Requirement already satisfied: urllib3!=1.25.0,!=1.25.1,<1.26,>=1.21.1 in /usr/local/lib/python3.7/dist-packages (from requests->keras-tuner>=1.1.0->autokeras) (1.24.3)\n",
            "Requirement already satisfied: chardet<4,>=3.0.2 in /usr/local/lib/python3.7/dist-packages (from requests->keras-tuner>=1.1.0->autokeras) (3.0.4)\n",
            "Requirement already satisfied: certifi>=2017.4.17 in /usr/local/lib/python3.7/dist-packages (from requests->keras-tuner>=1.1.0->autokeras) (2021.10.8)\n",
            "Requirement already satisfied: oauthlib>=3.0.0 in /usr/local/lib/python3.7/dist-packages (from requests-oauthlib>=0.7.0->google-auth-oauthlib<0.5,>=0.4.1->tensorboard->keras-tuner>=1.1.0->autokeras) (3.2.0)\n",
            "Requirement already satisfied: prompt-toolkit<2.0.0,>=1.0.4 in /usr/local/lib/python3.7/dist-packages (from ipython->keras-tuner>=1.1.0->autokeras) (1.0.18)\n",
            "Requirement already satisfied: simplegeneric>0.8 in /usr/local/lib/python3.7/dist-packages (from ipython->keras-tuner>=1.1.0->autokeras) (0.8.1)\n",
            "Requirement already satisfied: pickleshare in /usr/local/lib/python3.7/dist-packages (from ipython->keras-tuner>=1.1.0->autokeras) (0.7.5)\n",
            "Requirement already satisfied: traitlets>=4.2 in /usr/local/lib/python3.7/dist-packages (from ipython->keras-tuner>=1.1.0->autokeras) (5.1.1)\n",
            "Requirement already satisfied: pygments in /usr/local/lib/python3.7/dist-packages (from ipython->keras-tuner>=1.1.0->autokeras) (2.6.1)\n",
            "Requirement already satisfied: pexpect in /usr/local/lib/python3.7/dist-packages (from ipython->keras-tuner>=1.1.0->autokeras) (4.8.0)\n",
            "Requirement already satisfied: decorator in /usr/local/lib/python3.7/dist-packages (from ipython->keras-tuner>=1.1.0->autokeras) (4.4.2)\n",
            "Requirement already satisfied: wcwidth in /usr/local/lib/python3.7/dist-packages (from prompt-toolkit<2.0.0,>=1.0.4->ipython->keras-tuner>=1.1.0->autokeras) (0.2.5)\n",
            "Requirement already satisfied: pyparsing!=3.0.5,>=2.0.2 in /usr/local/lib/python3.7/dist-packages (from packaging->autokeras) (3.0.8)\n",
            "Requirement already satisfied: python-dateutil>=2.7.3 in /usr/local/lib/python3.7/dist-packages (from pandas->autokeras) (2.8.2)\n",
            "Requirement already satisfied: pytz>=2017.3 in /usr/local/lib/python3.7/dist-packages (from pandas->autokeras) (2022.1)\n",
            "Requirement already satisfied: ptyprocess>=0.5 in /usr/local/lib/python3.7/dist-packages (from pexpect->ipython->keras-tuner>=1.1.0->autokeras) (0.7.0)\n",
            "Installing collected packages: tf-estimator-nightly, kt-legacy, keras-tuner, autokeras\n",
            "Successfully installed autokeras-1.0.19 keras-tuner-1.1.2 kt-legacy-1.0.4 tf-estimator-nightly-2.8.0.dev2021122109\n"
          ]
        }
      ],
      "source": [
        "!pip install autokeras"
      ]
    },
    {
      "cell_type": "code",
      "source": [
        "import sklearn.datasets\n",
        "import sklearn.model_selection\n",
        "import autokeras as ak\n",
        "import timeit\n",
        "import pandas as pd"
      ],
      "metadata": {
        "id": "s_FgDGflKL1M"
      },
      "execution_count": null,
      "outputs": []
    },
    {
      "cell_type": "code",
      "source": [
        "def dataSetup(name):\n",
        "  X,y = sklearn.datasets.fetch_openml(data_id = name, as_frame=True, return_X_y=True)\n",
        "  train = pd.concat([X, y], axis=1, join='inner')\n",
        "  train.dropna()\n",
        "  train = train.apply(lambda x: pd.factorize(x)[0])\n",
        "  X,y = train.iloc[:,:-1], train.iloc[:, -1]\n",
        "  # X = X.apply(lambda x: pd.factorize(x)[0])\n",
        "  X_train, X_test, y_train, y_test = sklearn.model_selection.train_test_split(X,y,random_state=42)\n",
        "  return (X_train, X_test, y_train, y_test)"
      ],
      "metadata": {
        "id": "yTuIceBZefTn"
      },
      "execution_count": null,
      "outputs": []
    },
    {
      "cell_type": "code",
      "source": [
        "X_train, X_test, y_train, y_test = dataSetup(1596)\n",
        "X_train = pd.DataFrame(X_train).to_numpy()\n",
        "X_test = pd.DataFrame(X_test).to_numpy()\n",
        "y_train = pd.DataFrame(y_train).to_numpy()\n",
        "y_test = pd.DataFrame(y_test).to_numpy()\n",
        "X_train.shape\n"
      ],
      "metadata": {
        "colab": {
          "base_uri": "https://localhost:8080/"
        },
        "id": "9yRLJcPgMH_o",
        "outputId": "658dfeac-0c94-4689-fe6c-40da97ceb9e2"
      },
      "execution_count": null,
      "outputs": [
        {
          "output_type": "execute_result",
          "data": {
            "text/plain": [
              "(435759, 54)"
            ]
          },
          "metadata": {},
          "execution_count": 5
        }
      ]
    },
    {
      "cell_type": "code",
      "source": [
        "start = timeit.default_timer()\n",
        "clf = ak.StructuredDataClassifier(\n",
        "    overwrite=True, max_trials=1\n",
        ")\n",
        "clf.fit(X_train, y_train, epochs=100)\n",
        "stop = timeit.default_timer()\n",
        "predicted_y = clf.predict(X_test)\n",
        "print(clf.evaluate(X_test, y_test))\n"
      ],
      "metadata": {
        "colab": {
          "base_uri": "https://localhost:8080/"
        },
        "id": "BGr7npnlLnUD",
        "outputId": "8cc354dd-5dd2-4f7b-9ec3-272e825efbf9"
      },
      "execution_count": null,
      "outputs": [
        {
          "output_type": "stream",
          "name": "stdout",
          "text": [
            "Trial 1 Complete [01h 37m 27s]\n",
            "val_accuracy: 0.7384382486343384\n",
            "\n",
            "Best val_accuracy So Far: 0.7384382486343384\n",
            "Total elapsed time: 01h 37m 27s\n",
            "INFO:tensorflow:Oracle triggered exit\n",
            "Epoch 1/100\n",
            "13618/13618 [==============================] - 56s 4ms/step - loss: 0.6723 - accuracy: 0.6938\n",
            "Epoch 2/100\n",
            "13618/13618 [==============================] - 54s 4ms/step - loss: 0.6218 - accuracy: 0.7154\n",
            "Epoch 3/100\n",
            "13618/13618 [==============================] - 54s 4ms/step - loss: 0.6096 - accuracy: 0.7209\n",
            "Epoch 4/100\n",
            "13618/13618 [==============================] - 55s 4ms/step - loss: 0.6017 - accuracy: 0.7239\n",
            "Epoch 5/100\n",
            "13618/13618 [==============================] - 53s 4ms/step - loss: 0.5959 - accuracy: 0.7265\n",
            "Epoch 6/100\n",
            "13618/13618 [==============================] - 51s 4ms/step - loss: 0.5917 - accuracy: 0.7285\n",
            "Epoch 7/100\n",
            "13618/13618 [==============================] - 55s 4ms/step - loss: 0.5883 - accuracy: 0.7296\n",
            "Epoch 8/100\n",
            "13618/13618 [==============================] - 53s 4ms/step - loss: 0.5861 - accuracy: 0.7309\n",
            "Epoch 9/100\n",
            "13618/13618 [==============================] - 52s 4ms/step - loss: 0.5842 - accuracy: 0.7314\n",
            "Epoch 10/100\n",
            "13618/13618 [==============================] - 52s 4ms/step - loss: 0.5831 - accuracy: 0.7323\n",
            "Epoch 11/100\n",
            "13618/13618 [==============================] - 50s 4ms/step - loss: 0.5819 - accuracy: 0.7328\n",
            "Epoch 12/100\n",
            "13618/13618 [==============================] - 51s 4ms/step - loss: 0.5810 - accuracy: 0.7331\n",
            "Epoch 13/100\n",
            "13618/13618 [==============================] - 51s 4ms/step - loss: 0.5801 - accuracy: 0.7335\n",
            "Epoch 14/100\n",
            "13618/13618 [==============================] - 48s 4ms/step - loss: 0.5791 - accuracy: 0.7340\n",
            "Epoch 15/100\n",
            "13618/13618 [==============================] - 48s 4ms/step - loss: 0.5782 - accuracy: 0.7342\n",
            "Epoch 16/100\n",
            "13618/13618 [==============================] - 52s 4ms/step - loss: 0.5774 - accuracy: 0.7348\n",
            "Epoch 17/100\n",
            "13618/13618 [==============================] - 49s 4ms/step - loss: 0.5769 - accuracy: 0.7350\n",
            "Epoch 18/100\n",
            "13618/13618 [==============================] - 48s 4ms/step - loss: 0.5764 - accuracy: 0.7353\n",
            "Epoch 19/100\n",
            "13618/13618 [==============================] - 48s 3ms/step - loss: 0.5758 - accuracy: 0.7353\n",
            "Epoch 20/100\n",
            "13618/13618 [==============================] - 48s 4ms/step - loss: 0.5752 - accuracy: 0.7356\n",
            "Epoch 21/100\n",
            "13618/13618 [==============================] - 53s 4ms/step - loss: 0.5748 - accuracy: 0.7359\n",
            "Epoch 22/100\n",
            "13618/13618 [==============================] - 54s 4ms/step - loss: 0.5743 - accuracy: 0.7362\n",
            "Epoch 23/100\n",
            "13618/13618 [==============================] - 51s 4ms/step - loss: 0.5739 - accuracy: 0.7364\n",
            "Epoch 24/100\n",
            "13618/13618 [==============================] - 50s 4ms/step - loss: 0.5735 - accuracy: 0.7366\n",
            "Epoch 25/100\n",
            "13618/13618 [==============================] - 51s 4ms/step - loss: 0.5732 - accuracy: 0.7368\n",
            "Epoch 26/100\n",
            "13618/13618 [==============================] - 51s 4ms/step - loss: 0.5730 - accuracy: 0.7366\n",
            "Epoch 27/100\n",
            "13618/13618 [==============================] - 52s 4ms/step - loss: 0.5728 - accuracy: 0.7366\n",
            "Epoch 28/100\n",
            "13618/13618 [==============================] - 52s 4ms/step - loss: 0.5725 - accuracy: 0.7368\n",
            "Epoch 29/100\n",
            "13618/13618 [==============================] - 56s 4ms/step - loss: 0.5723 - accuracy: 0.7368\n",
            "Epoch 30/100\n",
            "13618/13618 [==============================] - 61s 5ms/step - loss: 0.5720 - accuracy: 0.7372\n",
            "Epoch 31/100\n",
            "13618/13618 [==============================] - 58s 4ms/step - loss: 0.5717 - accuracy: 0.7372\n",
            "Epoch 32/100\n",
            "13618/13618 [==============================] - 50s 4ms/step - loss: 0.5714 - accuracy: 0.7372\n",
            "Epoch 33/100\n",
            "13618/13618 [==============================] - 50s 4ms/step - loss: 0.5711 - accuracy: 0.7376\n",
            "Epoch 34/100\n",
            "13618/13618 [==============================] - 48s 4ms/step - loss: 0.5707 - accuracy: 0.7376\n",
            "Epoch 35/100\n",
            "13618/13618 [==============================] - 48s 4ms/step - loss: 0.5706 - accuracy: 0.7375\n",
            "Epoch 36/100\n",
            "13618/13618 [==============================] - 48s 3ms/step - loss: 0.5702 - accuracy: 0.7380\n",
            "Epoch 37/100\n",
            "13618/13618 [==============================] - 52s 4ms/step - loss: 0.5701 - accuracy: 0.7381\n",
            "Epoch 38/100\n",
            "13618/13618 [==============================] - 49s 4ms/step - loss: 0.5697 - accuracy: 0.7379\n",
            "Epoch 39/100\n",
            "13618/13618 [==============================] - 48s 3ms/step - loss: 0.5695 - accuracy: 0.7382\n",
            "Epoch 40/100\n",
            "13618/13618 [==============================] - 48s 4ms/step - loss: 0.5691 - accuracy: 0.7383\n",
            "Epoch 41/100\n",
            "13618/13618 [==============================] - 50s 4ms/step - loss: 0.5688 - accuracy: 0.7385\n",
            "Epoch 42/100\n",
            "13618/13618 [==============================] - 51s 4ms/step - loss: 0.5685 - accuracy: 0.7388\n",
            "Epoch 43/100\n",
            "13618/13618 [==============================] - 52s 4ms/step - loss: 0.5684 - accuracy: 0.7387\n",
            "Epoch 44/100\n",
            "13618/13618 [==============================] - 53s 4ms/step - loss: 0.5680 - accuracy: 0.7388\n",
            "Epoch 45/100\n",
            "13618/13618 [==============================] - 49s 4ms/step - loss: 0.5679 - accuracy: 0.7389\n",
            "Epoch 46/100\n",
            "13618/13618 [==============================] - 49s 4ms/step - loss: 0.5675 - accuracy: 0.7389\n",
            "Epoch 47/100\n",
            "13618/13618 [==============================] - 51s 4ms/step - loss: 0.5674 - accuracy: 0.7389\n",
            "Epoch 48/100\n",
            "13618/13618 [==============================] - 51s 4ms/step - loss: 0.5672 - accuracy: 0.7391\n",
            "Epoch 49/100\n",
            "13618/13618 [==============================] - 50s 4ms/step - loss: 0.5669 - accuracy: 0.7394\n",
            "Epoch 50/100\n",
            "13618/13618 [==============================] - 49s 4ms/step - loss: 0.5667 - accuracy: 0.7394\n",
            "Epoch 51/100\n",
            "13618/13618 [==============================] - 52s 4ms/step - loss: 0.5666 - accuracy: 0.7393\n",
            "Epoch 52/100\n",
            "13618/13618 [==============================] - 56s 4ms/step - loss: 0.5664 - accuracy: 0.7394\n",
            "Epoch 53/100\n",
            "13618/13618 [==============================] - 54s 4ms/step - loss: 0.5661 - accuracy: 0.7396\n",
            "Epoch 54/100\n",
            "13618/13618 [==============================] - 54s 4ms/step - loss: 0.5659 - accuracy: 0.7399\n",
            "Epoch 55/100\n",
            "13618/13618 [==============================] - 55s 4ms/step - loss: 0.5657 - accuracy: 0.7399\n",
            "Epoch 56/100\n",
            "13618/13618 [==============================] - 54s 4ms/step - loss: 0.5655 - accuracy: 0.7401\n",
            "Epoch 57/100\n",
            "13618/13618 [==============================] - 58s 4ms/step - loss: 0.5654 - accuracy: 0.7401\n",
            "Epoch 58/100\n",
            "13618/13618 [==============================] - 61s 4ms/step - loss: 0.5651 - accuracy: 0.7401\n",
            "Epoch 59/100\n",
            "13618/13618 [==============================] - 59s 4ms/step - loss: 0.5652 - accuracy: 0.7402\n",
            "Epoch 60/100\n",
            "13618/13618 [==============================] - 68s 5ms/step - loss: 0.5649 - accuracy: 0.7402\n",
            "Epoch 61/100\n",
            "13618/13618 [==============================] - 69s 5ms/step - loss: 0.5648 - accuracy: 0.7402\n",
            "Epoch 62/100\n",
            "13618/13618 [==============================] - 63s 5ms/step - loss: 0.5647 - accuracy: 0.7406\n",
            "Epoch 63/100\n",
            "13618/13618 [==============================] - 57s 4ms/step - loss: 0.5646 - accuracy: 0.7405\n",
            "Epoch 64/100\n",
            "13618/13618 [==============================] - 57s 4ms/step - loss: 0.5645 - accuracy: 0.7405\n",
            "Epoch 65/100\n",
            "13618/13618 [==============================] - 61s 4ms/step - loss: 0.5644 - accuracy: 0.7405\n",
            "Epoch 66/100\n",
            "13618/13618 [==============================] - 59s 4ms/step - loss: 0.5643 - accuracy: 0.7407\n",
            "Epoch 67/100\n",
            "13618/13618 [==============================] - 57s 4ms/step - loss: 0.5642 - accuracy: 0.7406\n",
            "Epoch 68/100\n",
            "13618/13618 [==============================] - 55s 4ms/step - loss: 0.5641 - accuracy: 0.7404\n",
            "Epoch 69/100\n",
            "13618/13618 [==============================] - 56s 4ms/step - loss: 0.5640 - accuracy: 0.7404\n",
            "Epoch 70/100\n",
            "13618/13618 [==============================] - 54s 4ms/step - loss: 0.5639 - accuracy: 0.7403\n",
            "Epoch 71/100\n",
            "13618/13618 [==============================] - 54s 4ms/step - loss: 0.5638 - accuracy: 0.7406\n",
            "Epoch 72/100\n",
            "13618/13618 [==============================] - 55s 4ms/step - loss: 0.5638 - accuracy: 0.7404\n",
            "Epoch 73/100\n",
            "13618/13618 [==============================] - 52s 4ms/step - loss: 0.5637 - accuracy: 0.7405\n",
            "Epoch 74/100\n",
            "13618/13618 [==============================] - 53s 4ms/step - loss: 0.5637 - accuracy: 0.7405\n",
            "Epoch 75/100\n",
            "13618/13618 [==============================] - 52s 4ms/step - loss: 0.5635 - accuracy: 0.7405\n",
            "Epoch 76/100\n",
            "13618/13618 [==============================] - 54s 4ms/step - loss: 0.5635 - accuracy: 0.7407\n",
            "Epoch 77/100\n",
            "13618/13618 [==============================] - 54s 4ms/step - loss: 0.5634 - accuracy: 0.7409\n",
            "Epoch 78/100\n",
            "13618/13618 [==============================] - 55s 4ms/step - loss: 0.5634 - accuracy: 0.7409\n",
            "Epoch 79/100\n",
            "13618/13618 [==============================] - 56s 4ms/step - loss: 0.5633 - accuracy: 0.7408\n",
            "Epoch 80/100\n",
            "13618/13618 [==============================] - 54s 4ms/step - loss: 0.5632 - accuracy: 0.7409\n",
            "Epoch 81/100\n",
            "13618/13618 [==============================] - 54s 4ms/step - loss: 0.5633 - accuracy: 0.7408\n",
            "Epoch 82/100\n",
            " 7996/13618 [================>.............] - ETA: 21s - loss: 0.5637 - accuracy: 0.7412"
          ]
        }
      ]
    },
    {
      "cell_type": "code",
      "source": [
        "print(stop - start)"
      ],
      "metadata": {
        "id": "7sc1OUg_LpdA"
      },
      "execution_count": null,
      "outputs": []
    },
    {
      "cell_type": "code",
      "source": [
        "model = clf.export_model()\n",
        "model.summary()"
      ],
      "metadata": {
        "id": "Q2Vnf7XWdtUT"
      },
      "execution_count": null,
      "outputs": []
    },
    {
      "cell_type": "code",
      "source": [
        ""
      ],
      "metadata": {
        "id": "5tMNUZ8xdt0F"
      },
      "execution_count": null,
      "outputs": []
    }
  ]
}