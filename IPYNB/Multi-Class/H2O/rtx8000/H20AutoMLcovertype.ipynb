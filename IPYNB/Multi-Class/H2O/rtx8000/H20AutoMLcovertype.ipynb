{
 "cells": [
  {
   "cell_type": "code",
   "execution_count": 5,
   "metadata": {
    "colab": {
     "base_uri": "https://localhost:8080/"
    },
    "id": "tk34b2C7bI-i",
    "outputId": "9866df90-d4c6-4c6c-e88e-39b1d441345a"
   },
   "outputs": [
    {
     "name": "stdout",
     "output_type": "stream",
     "text": [
      "Defaulting to user installation because normal site-packages is not writeable\n",
      "Requirement already satisfied: h2o in ./.local/lib/python3.8/site-packages (3.36.1.1)\n",
      "Processing ./.cache/pip/wheels/22/0b/40/fd3f795caaa1fb4c6cb738bc1f56100be1e57da95849bfc897/sklearn-0.0-py2.py3-none-any.whl\n",
      "Requirement already satisfied: tabulate in ./.local/lib/python3.8/site-packages (from h2o) (0.8.9)\n",
      "Requirement already satisfied: requests in /share/apps/python/3.8.6/intel/lib/python3.8/site-packages (from h2o) (2.24.0)\n",
      "Requirement already satisfied: future in ./.local/lib/python3.8/site-packages (from h2o) (0.18.2)\n",
      "Collecting scikit-learn\n",
      "  Using cached scikit_learn-1.0.2-cp38-cp38-manylinux_2_17_x86_64.manylinux2014_x86_64.whl (26.7 MB)\n",
      "Requirement already satisfied: urllib3!=1.25.0,!=1.25.1,<1.26,>=1.21.1 in /share/apps/python/3.8.6/intel/lib/python3.8/site-packages (from requests->h2o) (1.25.10)\n",
      "Requirement already satisfied: chardet<4,>=3.0.2 in /share/apps/python/3.8.6/intel/lib/python3.8/site-packages (from requests->h2o) (3.0.4)\n",
      "Requirement already satisfied: idna<3,>=2.5 in /share/apps/python/3.8.6/intel/lib/python3.8/site-packages (from requests->h2o) (2.10)\n",
      "Requirement already satisfied: certifi>=2017.4.17 in /share/apps/python/3.8.6/intel/lib/python3.8/site-packages (from requests->h2o) (2020.6.20)\n",
      "Requirement already satisfied: numpy>=1.14.6 in /share/apps/python/3.8.6/intel/lib/python3.8/site-packages/numpy-1.19.2-py3.8-linux-x86_64.egg (from scikit-learn->sklearn) (1.19.2)\n",
      "Collecting threadpoolctl>=2.0.0\n",
      "  Using cached threadpoolctl-3.1.0-py3-none-any.whl (14 kB)\n",
      "Requirement already satisfied: scipy>=1.1.0 in /share/apps/python/3.8.6/intel/lib/python3.8/site-packages/scipy-1.5.2-py3.8-linux-x86_64.egg (from scikit-learn->sklearn) (1.5.2)\n",
      "Collecting joblib>=0.11\n",
      "  Using cached joblib-1.1.0-py2.py3-none-any.whl (306 kB)\n",
      "Installing collected packages: threadpoolctl, joblib, scikit-learn, sklearn\n",
      "Successfully installed joblib-1.1.0 scikit-learn-1.0.2 sklearn-0.0 threadpoolctl-3.1.0\n",
      "\u001b[33mWARNING: You are using pip version 20.2.3; however, version 22.0.4 is available.\n",
      "You should consider upgrading via the '/share/apps/python/3.8.6/intel/bin/python -m pip install --upgrade pip' command.\u001b[0m\n",
      "Note: you may need to restart the kernel to use updated packages.\n"
     ]
    }
   ],
   "source": [
    "%pip install h2o sklearn"
   ]
  },
  {
   "cell_type": "code",
   "execution_count": 1,
   "metadata": {
    "id": "kCgyhMjHJB6Y"
   },
   "outputs": [],
   "source": [
    "import h2o\n",
    "from h2o.automl import H2OAutoML\n",
    "from sklearn.datasets import fetch_openml\n",
    "from sklearn.model_selection import train_test_split\n",
    "import sklearn"
   ]
  },
  {
   "cell_type": "code",
   "execution_count": 2,
   "metadata": {
    "colab": {
     "base_uri": "https://localhost:8080/",
     "height": 507
    },
    "id": "cNn--_UnbWd-",
    "outputId": "274afb96-bd18-492e-e8a6-5be73eb680d0"
   },
   "outputs": [
    {
     "name": "stdout",
     "output_type": "stream",
     "text": [
      "Checking whether there is an H2O instance running at http://localhost:54321 ..... not found.\n",
      "Attempting to start a local H2O server...\n",
      "  Java Version: openjdk version \"1.8.0_312-debug\"; OpenJDK Runtime Environment (build 1.8.0_312-debug-b07); OpenJDK 64-Bit Server VM (build 25.312-b07-debug, mixed mode)\n",
      "  Starting server from /home/mk7516/.local/lib/python3.8/site-packages/h2o/backend/bin/h2o.jar\n",
      "  Ice root: /state/partition1/job-19048398/tmpoue3iw5z\n",
      "  JVM stdout: /state/partition1/job-19048398/tmpoue3iw5z/h2o_mk7516_started_from_python.out\n",
      "  JVM stderr: /state/partition1/job-19048398/tmpoue3iw5z/h2o_mk7516_started_from_python.err\n",
      "  Server is running at http://127.0.0.1:54321\n",
      "Connecting to H2O server at http://127.0.0.1:54321 ... successful.\n"
     ]
    },
    {
     "data": {
      "text/html": [
       "<div style=\"overflow:auto\"><table style=\"width:50%\"><tr><td>H2O_cluster_uptime:</td>\n",
       "<td>06 secs</td></tr>\n",
       "<tr><td>H2O_cluster_timezone:</td>\n",
       "<td>America/New_York</td></tr>\n",
       "<tr><td>H2O_data_parsing_timezone:</td>\n",
       "<td>UTC</td></tr>\n",
       "<tr><td>H2O_cluster_version:</td>\n",
       "<td>3.36.1.1</td></tr>\n",
       "<tr><td>H2O_cluster_version_age:</td>\n",
       "<td>20 days </td></tr>\n",
       "<tr><td>H2O_cluster_name:</td>\n",
       "<td>H2O_from_python_mk7516_zve3s5</td></tr>\n",
       "<tr><td>H2O_cluster_total_nodes:</td>\n",
       "<td>1</td></tr>\n",
       "<tr><td>H2O_cluster_free_memory:</td>\n",
       "<td>3.541 Gb</td></tr>\n",
       "<tr><td>H2O_cluster_total_cores:</td>\n",
       "<td>8</td></tr>\n",
       "<tr><td>H2O_cluster_allowed_cores:</td>\n",
       "<td>8</td></tr>\n",
       "<tr><td>H2O_cluster_status:</td>\n",
       "<td>locked, healthy</td></tr>\n",
       "<tr><td>H2O_connection_url:</td>\n",
       "<td>http://127.0.0.1:54321</td></tr>\n",
       "<tr><td>H2O_connection_proxy:</td>\n",
       "<td>{\"http\": null, \"https\": null}</td></tr>\n",
       "<tr><td>H2O_internal_security:</td>\n",
       "<td>False</td></tr>\n",
       "<tr><td>Python_version:</td>\n",
       "<td>3.8.6 final</td></tr></table></div>"
      ],
      "text/plain": [
       "--------------------------  -----------------------------\n",
       "H2O_cluster_uptime:         06 secs\n",
       "H2O_cluster_timezone:       America/New_York\n",
       "H2O_data_parsing_timezone:  UTC\n",
       "H2O_cluster_version:        3.36.1.1\n",
       "H2O_cluster_version_age:    20 days\n",
       "H2O_cluster_name:           H2O_from_python_mk7516_zve3s5\n",
       "H2O_cluster_total_nodes:    1\n",
       "H2O_cluster_free_memory:    3.541 Gb\n",
       "H2O_cluster_total_cores:    8\n",
       "H2O_cluster_allowed_cores:  8\n",
       "H2O_cluster_status:         locked, healthy\n",
       "H2O_connection_url:         http://127.0.0.1:54321\n",
       "H2O_connection_proxy:       {\"http\": null, \"https\": null}\n",
       "H2O_internal_security:      False\n",
       "Python_version:             3.8.6 final\n",
       "--------------------------  -----------------------------"
      ]
     },
     "metadata": {},
     "output_type": "display_data"
    }
   ],
   "source": [
    "h2o.init()"
   ]
  },
  {
   "cell_type": "code",
   "execution_count": 3,
   "metadata": {
    "id": "kdt8Wp7Falm7"
   },
   "outputs": [],
   "source": [
    "import pandas as pd\n",
    "def dataSetup(name):\n",
    "  X,y = sklearn.datasets.fetch_openml(data_id=name, as_frame=True, return_X_y=True)\n",
    "  train = pd.concat([X, y], axis=1, join='inner')\n",
    "  train.dropna()\n",
    "  train = train.apply(lambda x: pd.factorize(x)[0])\n",
    "  X,y = train.iloc[:,:-1], train.iloc[:, -1]\n",
    "  # X = X.apply(lambda x: pd.factorize(x)[0])\n",
    "  X_train, X_test, y_train, y_test = sklearn.model_selection.train_test_split(X,y,random_state=42)\n",
    "  y_train = y_train.to_frame(name=\"class\")\n",
    "  y_test = y_test.to_frame(name=\"class\")\n",
    "  test = pd.concat([X_test, y_test], axis=1, join='inner')\n",
    "  train = pd.concat([X_train, y_train], axis=1, join='inner')\n",
    "  test = h2o.H2OFrame(test)\n",
    "  train = h2o.H2OFrame(train)\n",
    "  return (test, train)"
   ]
  },
  {
   "cell_type": "code",
   "execution_count": 4,
   "metadata": {
    "colab": {
     "base_uri": "https://localhost:8080/"
    },
    "id": "Gpw9R9koa8kA",
    "outputId": "3d5374f5-b7db-46ec-c5cb-7fc10df849a1"
   },
   "outputs": [
    {
     "name": "stdout",
     "output_type": "stream",
     "text": [
      "Parse progress: |████████████████████████████████████████████████████████████████| (done) 100%\n",
      "Parse progress: |████████████████████████████████████████████████████████████████| (done) 100%\n"
     ]
    }
   ],
   "source": [
    "test, train = dataSetup(1596)"
   ]
  },
  {
   "cell_type": "code",
   "execution_count": 5,
   "metadata": {
    "colab": {
     "base_uri": "https://localhost:8080/"
    },
    "id": "p0LPdFQlbA_5",
    "outputId": "d582af48-65ba-4760-e90b-e936af7442f5"
   },
   "outputs": [
    {
     "data": {
      "text/plain": [
       "(435759, 55)"
      ]
     },
     "execution_count": 5,
     "metadata": {},
     "output_type": "execute_result"
    }
   ],
   "source": [
    "train.shape"
   ]
  },
  {
   "cell_type": "code",
   "execution_count": 6,
   "metadata": {
    "id": "uDeYZ8nTQX-0"
   },
   "outputs": [],
   "source": [
    "x = train.columns\n",
    "y = \"class\"\n",
    "x.remove(y)"
   ]
  },
  {
   "cell_type": "code",
   "execution_count": 7,
   "metadata": {
    "id": "u_ErSp1nU27w"
   },
   "outputs": [],
   "source": [
    "train[y] = train[y].asfactor()\n",
    "test[y] = test[y].asfactor()"
   ]
  },
  {
   "cell_type": "code",
   "execution_count": 8,
   "metadata": {
    "colab": {
     "base_uri": "https://localhost:8080/"
    },
    "id": "t1J4XoxvQunQ",
    "outputId": "f116c4e2-0059-4307-f9a4-1c3892867859"
   },
   "outputs": [
    {
     "name": "stdout",
     "output_type": "stream",
     "text": [
      "AutoML progress: |██████████████████████\n",
      "15:12:17.891: GLM_1_AutoML_1_20220504_145157 [GLM def_1] failed: java.lang.ArrayIndexOutOfBoundsException: 54\n",
      "\n",
      "█████████████████████████████████████████| (done) 100%\n",
      "Model Details\n",
      "=============\n",
      "H2OStackedEnsembleEstimator :  Stacked Ensemble\n",
      "Model Key:  StackedEnsemble_BestOfFamily_1_AutoML_1_20220504_145157\n",
      "\n",
      "No model summary for this model\n",
      "\n",
      "ModelMetricsMultinomialGLM: stackedensemble\n",
      "** Reported on train data. **\n",
      "\n",
      "MSE: 0.16134819776683512\n",
      "RMSE: 0.4016817120144196\n",
      "\n",
      "ModelMetricsMultinomialGLM: stackedensemble\n",
      "** Reported on cross-validation data. **\n",
      "\n",
      "MSE: 0.1883150193754792\n",
      "RMSE: 0.4339527847306423\n",
      "\n",
      "Cross-Validation Metrics Summary: \n"
     ]
    },
    {
     "data": {
      "text/html": [
       "<div>\n",
       "<style scoped>\n",
       "    .dataframe tbody tr th:only-of-type {\n",
       "        vertical-align: middle;\n",
       "    }\n",
       "\n",
       "    .dataframe tbody tr th {\n",
       "        vertical-align: top;\n",
       "    }\n",
       "\n",
       "    .dataframe thead th {\n",
       "        text-align: right;\n",
       "    }\n",
       "</style>\n",
       "<table border=\"1\" class=\"dataframe\">\n",
       "  <thead>\n",
       "    <tr style=\"text-align: right;\">\n",
       "      <th></th>\n",
       "      <th></th>\n",
       "      <th>mean</th>\n",
       "      <th>sd</th>\n",
       "      <th>cv_1_valid</th>\n",
       "      <th>cv_2_valid</th>\n",
       "      <th>cv_3_valid</th>\n",
       "      <th>cv_4_valid</th>\n",
       "      <th>cv_5_valid</th>\n",
       "    </tr>\n",
       "  </thead>\n",
       "  <tbody>\n",
       "    <tr>\n",
       "      <th>0</th>\n",
       "      <td>accuracy</td>\n",
       "      <td>0.745890</td>\n",
       "      <td>0.002041</td>\n",
       "      <td>0.745322</td>\n",
       "      <td>0.743191</td>\n",
       "      <td>0.748383</td>\n",
       "      <td>0.745149</td>\n",
       "      <td>0.747404</td>\n",
       "    </tr>\n",
       "    <tr>\n",
       "      <th>1</th>\n",
       "      <td>auc</td>\n",
       "      <td>NaN</td>\n",
       "      <td>0.000000</td>\n",
       "      <td>NaN</td>\n",
       "      <td>NaN</td>\n",
       "      <td>NaN</td>\n",
       "      <td>NaN</td>\n",
       "      <td>NaN</td>\n",
       "    </tr>\n",
       "    <tr>\n",
       "      <th>2</th>\n",
       "      <td>err</td>\n",
       "      <td>0.254110</td>\n",
       "      <td>0.002041</td>\n",
       "      <td>0.254678</td>\n",
       "      <td>0.256809</td>\n",
       "      <td>0.251617</td>\n",
       "      <td>0.254851</td>\n",
       "      <td>0.252596</td>\n",
       "    </tr>\n",
       "    <tr>\n",
       "      <th>3</th>\n",
       "      <td>err_count</td>\n",
       "      <td>22145.800000</td>\n",
       "      <td>123.104420</td>\n",
       "      <td>22198.000000</td>\n",
       "      <td>22282.000000</td>\n",
       "      <td>21977.000000</td>\n",
       "      <td>22209.000000</td>\n",
       "      <td>22063.000000</td>\n",
       "    </tr>\n",
       "    <tr>\n",
       "      <th>4</th>\n",
       "      <td>logloss</td>\n",
       "      <td>0.577859</td>\n",
       "      <td>0.002591</td>\n",
       "      <td>0.578677</td>\n",
       "      <td>0.580859</td>\n",
       "      <td>0.574617</td>\n",
       "      <td>0.579376</td>\n",
       "      <td>0.575768</td>\n",
       "    </tr>\n",
       "    <tr>\n",
       "      <th>5</th>\n",
       "      <td>max_per_class_error</td>\n",
       "      <td>0.762734</td>\n",
       "      <td>0.009539</td>\n",
       "      <td>0.758345</td>\n",
       "      <td>0.758304</td>\n",
       "      <td>0.779412</td>\n",
       "      <td>0.761636</td>\n",
       "      <td>0.755974</td>\n",
       "    </tr>\n",
       "    <tr>\n",
       "      <th>6</th>\n",
       "      <td>mean_per_class_accuracy</td>\n",
       "      <td>0.620108</td>\n",
       "      <td>0.005378</td>\n",
       "      <td>0.622726</td>\n",
       "      <td>0.615082</td>\n",
       "      <td>0.626370</td>\n",
       "      <td>0.613884</td>\n",
       "      <td>0.622479</td>\n",
       "    </tr>\n",
       "    <tr>\n",
       "      <th>7</th>\n",
       "      <td>mean_per_class_error</td>\n",
       "      <td>0.379892</td>\n",
       "      <td>0.005378</td>\n",
       "      <td>0.377274</td>\n",
       "      <td>0.384918</td>\n",
       "      <td>0.373630</td>\n",
       "      <td>0.386116</td>\n",
       "      <td>0.377521</td>\n",
       "    </tr>\n",
       "    <tr>\n",
       "      <th>8</th>\n",
       "      <td>mse</td>\n",
       "      <td>0.188317</td>\n",
       "      <td>0.000915</td>\n",
       "      <td>0.188613</td>\n",
       "      <td>0.189344</td>\n",
       "      <td>0.187123</td>\n",
       "      <td>0.188873</td>\n",
       "      <td>0.187631</td>\n",
       "    </tr>\n",
       "    <tr>\n",
       "      <th>9</th>\n",
       "      <td>null_deviance</td>\n",
       "      <td>210045.750000</td>\n",
       "      <td>594.555240</td>\n",
       "      <td>210708.880000</td>\n",
       "      <td>209294.530000</td>\n",
       "      <td>210561.550000</td>\n",
       "      <td>209670.020000</td>\n",
       "      <td>209993.800000</td>\n",
       "    </tr>\n",
       "    <tr>\n",
       "      <th>10</th>\n",
       "      <td>pr_auc</td>\n",
       "      <td>NaN</td>\n",
       "      <td>0.000000</td>\n",
       "      <td>NaN</td>\n",
       "      <td>NaN</td>\n",
       "      <td>NaN</td>\n",
       "      <td>NaN</td>\n",
       "      <td>NaN</td>\n",
       "    </tr>\n",
       "    <tr>\n",
       "      <th>11</th>\n",
       "      <td>r2</td>\n",
       "      <td>0.831179</td>\n",
       "      <td>0.001559</td>\n",
       "      <td>0.833259</td>\n",
       "      <td>0.829495</td>\n",
       "      <td>0.831366</td>\n",
       "      <td>0.829802</td>\n",
       "      <td>0.831974</td>\n",
       "    </tr>\n",
       "    <tr>\n",
       "      <th>12</th>\n",
       "      <td>residual_deviance</td>\n",
       "      <td>100722.055000</td>\n",
       "      <td>241.960430</td>\n",
       "      <td>100876.070000</td>\n",
       "      <td>100796.445000</td>\n",
       "      <td>100377.470000</td>\n",
       "      <td>100979.440000</td>\n",
       "      <td>100580.870000</td>\n",
       "    </tr>\n",
       "    <tr>\n",
       "      <th>13</th>\n",
       "      <td>rmse</td>\n",
       "      <td>0.433954</td>\n",
       "      <td>0.001055</td>\n",
       "      <td>0.434296</td>\n",
       "      <td>0.435137</td>\n",
       "      <td>0.432577</td>\n",
       "      <td>0.434595</td>\n",
       "      <td>0.433164</td>\n",
       "    </tr>\n",
       "  </tbody>\n",
       "</table>\n",
       "</div>"
      ],
      "text/plain": [
       "                                      mean          sd     cv_1_valid  \\\n",
       "0                  accuracy       0.745890    0.002041       0.745322   \n",
       "1                       auc            NaN    0.000000            NaN   \n",
       "2                       err       0.254110    0.002041       0.254678   \n",
       "3                 err_count   22145.800000  123.104420   22198.000000   \n",
       "4                   logloss       0.577859    0.002591       0.578677   \n",
       "5       max_per_class_error       0.762734    0.009539       0.758345   \n",
       "6   mean_per_class_accuracy       0.620108    0.005378       0.622726   \n",
       "7      mean_per_class_error       0.379892    0.005378       0.377274   \n",
       "8                       mse       0.188317    0.000915       0.188613   \n",
       "9             null_deviance  210045.750000  594.555240  210708.880000   \n",
       "10                   pr_auc            NaN    0.000000            NaN   \n",
       "11                       r2       0.831179    0.001559       0.833259   \n",
       "12        residual_deviance  100722.055000  241.960430  100876.070000   \n",
       "13                     rmse       0.433954    0.001055       0.434296   \n",
       "\n",
       "       cv_2_valid     cv_3_valid     cv_4_valid     cv_5_valid  \n",
       "0        0.743191       0.748383       0.745149       0.747404  \n",
       "1             NaN            NaN            NaN            NaN  \n",
       "2        0.256809       0.251617       0.254851       0.252596  \n",
       "3    22282.000000   21977.000000   22209.000000   22063.000000  \n",
       "4        0.580859       0.574617       0.579376       0.575768  \n",
       "5        0.758304       0.779412       0.761636       0.755974  \n",
       "6        0.615082       0.626370       0.613884       0.622479  \n",
       "7        0.384918       0.373630       0.386116       0.377521  \n",
       "8        0.189344       0.187123       0.188873       0.187631  \n",
       "9   209294.530000  210561.550000  209670.020000  209993.800000  \n",
       "10            NaN            NaN            NaN            NaN  \n",
       "11       0.829495       0.831366       0.829802       0.831974  \n",
       "12  100796.445000  100377.470000  100979.440000  100580.870000  \n",
       "13       0.435137       0.432577       0.434595       0.433164  "
      ]
     },
     "metadata": {},
     "output_type": "display_data"
    },
    {
     "data": {
      "text/plain": []
     },
     "execution_count": 8,
     "metadata": {},
     "output_type": "execute_result"
    }
   ],
   "source": [
    "aml = H2OAutoML(max_runtime_secs = 3600)\n",
    "aml.train(x=x, y=y, training_frame=train)\n",
    "# train = h2o.H2OFrame(train)"
   ]
  },
  {
   "cell_type": "code",
   "execution_count": 9,
   "metadata": {
    "id": "T2g-N1P-TSmz"
   },
   "outputs": [
    {
     "data": {
      "text/html": [
       "<table>\n",
       "<thead>\n",
       "<tr><th>model_id                                               </th><th style=\"text-align: right;\">  mean_per_class_error</th><th style=\"text-align: right;\">  logloss</th><th style=\"text-align: right;\">    rmse</th><th style=\"text-align: right;\">     mse</th></tr>\n",
       "</thead>\n",
       "<tbody>\n",
       "<tr><td>StackedEnsemble_BestOfFamily_1_AutoML_1_20220504_145157</td><td style=\"text-align: right;\">              0.379936</td><td style=\"text-align: right;\"> 0.577854</td><td style=\"text-align: right;\">0.433953</td><td style=\"text-align: right;\">0.188315</td></tr>\n",
       "<tr><td>StackedEnsemble_BestOfFamily_2_AutoML_1_20220504_145157</td><td style=\"text-align: right;\">              0.381976</td><td style=\"text-align: right;\"> 0.608284</td><td style=\"text-align: right;\">0.447602</td><td style=\"text-align: right;\">0.200347</td></tr>\n",
       "<tr><td>StackedEnsemble_AllModels_1_AutoML_1_20220504_145157   </td><td style=\"text-align: right;\">              0.387544</td><td style=\"text-align: right;\"> 0.611949</td><td style=\"text-align: right;\">0.448079</td><td style=\"text-align: right;\">0.200774</td></tr>\n",
       "<tr><td>GBM_1_AutoML_1_20220504_145157                         </td><td style=\"text-align: right;\">              0.395365</td><td style=\"text-align: right;\"> 0.581051</td><td style=\"text-align: right;\">0.434523</td><td style=\"text-align: right;\">0.18881 </td></tr>\n",
       "<tr><td>XGBoost_1_AutoML_1_20220504_145157                     </td><td style=\"text-align: right;\">              0.412372</td><td style=\"text-align: right;\"> 0.608851</td><td style=\"text-align: right;\">0.445604</td><td style=\"text-align: right;\">0.198563</td></tr>\n",
       "<tr><td>XGBoost_2_AutoML_1_20220504_145157                     </td><td style=\"text-align: right;\">              0.439878</td><td style=\"text-align: right;\"> 0.663945</td><td style=\"text-align: right;\">0.47121 </td><td style=\"text-align: right;\">0.222039</td></tr>\n",
       "<tr><td>DRF_1_AutoML_1_20220504_145157                         </td><td style=\"text-align: right;\">              0.480707</td><td style=\"text-align: right;\"> 0.952469</td><td style=\"text-align: right;\">0.480565</td><td style=\"text-align: right;\">0.230943</td></tr>\n",
       "<tr><td>GBM_4_AutoML_1_20220504_145157                         </td><td style=\"text-align: right;\">              0.4914  </td><td style=\"text-align: right;\"> 1.10899 </td><td style=\"text-align: right;\">0.657771</td><td style=\"text-align: right;\">0.432663</td></tr>\n",
       "<tr><td>GBM_3_AutoML_1_20220504_145157                         </td><td style=\"text-align: right;\">              0.504875</td><td style=\"text-align: right;\"> 1.08154 </td><td style=\"text-align: right;\">0.647701</td><td style=\"text-align: right;\">0.419516</td></tr>\n",
       "<tr><td>GBM_2_AutoML_1_20220504_145157                         </td><td style=\"text-align: right;\">              0.505899</td><td style=\"text-align: right;\"> 1.06132 </td><td style=\"text-align: right;\">0.639332</td><td style=\"text-align: right;\">0.408746</td></tr>\n",
       "</tbody>\n",
       "</table>"
      ]
     },
     "metadata": {},
     "output_type": "display_data"
    },
    {
     "data": {
      "text/plain": []
     },
     "execution_count": 9,
     "metadata": {},
     "output_type": "execute_result"
    }
   ],
   "source": [
    "lb = aml.leaderboard\n",
    "lb.head(rows=lb.nrows)"
   ]
  },
  {
   "cell_type": "code",
   "execution_count": null,
   "metadata": {
    "id": "Tm5_3CBwyetw"
   },
   "outputs": [],
   "source": []
  }
 ],
 "metadata": {
  "colab": {
   "name": "H20AutoMLAirlines.ipynb",
   "provenance": []
  },
  "kernelspec": {
   "display_name": "idlsvenv",
   "language": "python",
   "name": "idlsvenv"
  },
  "language_info": {
   "codemirror_mode": {
    "name": "ipython",
    "version": 3
   },
   "file_extension": ".py",
   "mimetype": "text/x-python",
   "name": "python",
   "nbconvert_exporter": "python",
   "pygments_lexer": "ipython3",
   "version": "3.8.6"
  }
 },
 "nbformat": 4,
 "nbformat_minor": 1
}
