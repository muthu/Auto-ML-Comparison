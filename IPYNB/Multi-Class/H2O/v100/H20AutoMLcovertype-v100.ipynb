{
 "cells": [
  {
   "cell_type": "code",
   "execution_count": 5,
   "metadata": {
    "colab": {
     "base_uri": "https://localhost:8080/"
    },
    "id": "tk34b2C7bI-i",
    "outputId": "9866df90-d4c6-4c6c-e88e-39b1d441345a"
   },
   "outputs": [
    {
     "name": "stdout",
     "output_type": "stream",
     "text": [
      "Defaulting to user installation because normal site-packages is not writeable\n",
      "Requirement already satisfied: h2o in ./.local/lib/python3.8/site-packages (3.36.1.1)\n",
      "Processing ./.cache/pip/wheels/22/0b/40/fd3f795caaa1fb4c6cb738bc1f56100be1e57da95849bfc897/sklearn-0.0-py2.py3-none-any.whl\n",
      "Requirement already satisfied: tabulate in ./.local/lib/python3.8/site-packages (from h2o) (0.8.9)\n",
      "Requirement already satisfied: requests in /share/apps/python/3.8.6/intel/lib/python3.8/site-packages (from h2o) (2.24.0)\n",
      "Requirement already satisfied: future in ./.local/lib/python3.8/site-packages (from h2o) (0.18.2)\n",
      "Collecting scikit-learn\n",
      "  Using cached scikit_learn-1.0.2-cp38-cp38-manylinux_2_17_x86_64.manylinux2014_x86_64.whl (26.7 MB)\n",
      "Requirement already satisfied: urllib3!=1.25.0,!=1.25.1,<1.26,>=1.21.1 in /share/apps/python/3.8.6/intel/lib/python3.8/site-packages (from requests->h2o) (1.25.10)\n",
      "Requirement already satisfied: chardet<4,>=3.0.2 in /share/apps/python/3.8.6/intel/lib/python3.8/site-packages (from requests->h2o) (3.0.4)\n",
      "Requirement already satisfied: idna<3,>=2.5 in /share/apps/python/3.8.6/intel/lib/python3.8/site-packages (from requests->h2o) (2.10)\n",
      "Requirement already satisfied: certifi>=2017.4.17 in /share/apps/python/3.8.6/intel/lib/python3.8/site-packages (from requests->h2o) (2020.6.20)\n",
      "Requirement already satisfied: numpy>=1.14.6 in /share/apps/python/3.8.6/intel/lib/python3.8/site-packages/numpy-1.19.2-py3.8-linux-x86_64.egg (from scikit-learn->sklearn) (1.19.2)\n",
      "Collecting threadpoolctl>=2.0.0\n",
      "  Using cached threadpoolctl-3.1.0-py3-none-any.whl (14 kB)\n",
      "Requirement already satisfied: scipy>=1.1.0 in /share/apps/python/3.8.6/intel/lib/python3.8/site-packages/scipy-1.5.2-py3.8-linux-x86_64.egg (from scikit-learn->sklearn) (1.5.2)\n",
      "Collecting joblib>=0.11\n",
      "  Using cached joblib-1.1.0-py2.py3-none-any.whl (306 kB)\n",
      "Installing collected packages: threadpoolctl, joblib, scikit-learn, sklearn\n",
      "Successfully installed joblib-1.1.0 scikit-learn-1.0.2 sklearn-0.0 threadpoolctl-3.1.0\n",
      "\u001b[33mWARNING: You are using pip version 20.2.3; however, version 22.0.4 is available.\n",
      "You should consider upgrading via the '/share/apps/python/3.8.6/intel/bin/python -m pip install --upgrade pip' command.\u001b[0m\n",
      "Note: you may need to restart the kernel to use updated packages.\n"
     ]
    }
   ],
   "source": [
    "%pip install h2o sklearn"
   ]
  },
  {
   "cell_type": "code",
   "execution_count": 1,
   "metadata": {
    "id": "kCgyhMjHJB6Y"
   },
   "outputs": [],
   "source": [
    "import h2o\n",
    "from h2o.automl import H2OAutoML\n",
    "from sklearn.datasets import fetch_openml\n",
    "from sklearn.model_selection import train_test_split\n",
    "import sklearn"
   ]
  },
  {
   "cell_type": "code",
   "execution_count": 2,
   "metadata": {
    "colab": {
     "base_uri": "https://localhost:8080/",
     "height": 507
    },
    "id": "cNn--_UnbWd-",
    "outputId": "274afb96-bd18-492e-e8a6-5be73eb680d0"
   },
   "outputs": [
    {
     "name": "stdout",
     "output_type": "stream",
     "text": [
      "Checking whether there is an H2O instance running at http://localhost:54321 ..... not found.\n",
      "Attempting to start a local H2O server...\n",
      "  Java Version: openjdk version \"1.8.0_312-debug\"; OpenJDK Runtime Environment (build 1.8.0_312-debug-b07); OpenJDK 64-Bit Server VM (build 25.312-b07-debug, mixed mode)\n",
      "  Starting server from /home/mk7516/.local/lib/python3.8/site-packages/h2o/backend/bin/h2o.jar\n",
      "  Ice root: /state/partition1/job-19192207/tmp32q4zdgt\n",
      "  JVM stdout: /state/partition1/job-19192207/tmp32q4zdgt/h2o_mk7516_started_from_python.out\n",
      "  JVM stderr: /state/partition1/job-19192207/tmp32q4zdgt/h2o_mk7516_started_from_python.err\n",
      "  Server is running at http://127.0.0.1:54321\n",
      "Connecting to H2O server at http://127.0.0.1:54321 ... successful.\n"
     ]
    },
    {
     "data": {
      "text/html": [
       "<div style=\"overflow:auto\"><table style=\"width:50%\"><tr><td>H2O_cluster_uptime:</td>\n",
       "<td>06 secs</td></tr>\n",
       "<tr><td>H2O_cluster_timezone:</td>\n",
       "<td>America/New_York</td></tr>\n",
       "<tr><td>H2O_data_parsing_timezone:</td>\n",
       "<td>UTC</td></tr>\n",
       "<tr><td>H2O_cluster_version:</td>\n",
       "<td>3.36.1.1</td></tr>\n",
       "<tr><td>H2O_cluster_version_age:</td>\n",
       "<td>23 days </td></tr>\n",
       "<tr><td>H2O_cluster_name:</td>\n",
       "<td>H2O_from_python_mk7516_jgp3e1</td></tr>\n",
       "<tr><td>H2O_cluster_total_nodes:</td>\n",
       "<td>1</td></tr>\n",
       "<tr><td>H2O_cluster_free_memory:</td>\n",
       "<td>3.543 Gb</td></tr>\n",
       "<tr><td>H2O_cluster_total_cores:</td>\n",
       "<td>8</td></tr>\n",
       "<tr><td>H2O_cluster_allowed_cores:</td>\n",
       "<td>8</td></tr>\n",
       "<tr><td>H2O_cluster_status:</td>\n",
       "<td>locked, healthy</td></tr>\n",
       "<tr><td>H2O_connection_url:</td>\n",
       "<td>http://127.0.0.1:54321</td></tr>\n",
       "<tr><td>H2O_connection_proxy:</td>\n",
       "<td>{\"http\": null, \"https\": null}</td></tr>\n",
       "<tr><td>H2O_internal_security:</td>\n",
       "<td>False</td></tr>\n",
       "<tr><td>Python_version:</td>\n",
       "<td>3.8.6 final</td></tr></table></div>"
      ],
      "text/plain": [
       "--------------------------  -----------------------------\n",
       "H2O_cluster_uptime:         06 secs\n",
       "H2O_cluster_timezone:       America/New_York\n",
       "H2O_data_parsing_timezone:  UTC\n",
       "H2O_cluster_version:        3.36.1.1\n",
       "H2O_cluster_version_age:    23 days\n",
       "H2O_cluster_name:           H2O_from_python_mk7516_jgp3e1\n",
       "H2O_cluster_total_nodes:    1\n",
       "H2O_cluster_free_memory:    3.543 Gb\n",
       "H2O_cluster_total_cores:    8\n",
       "H2O_cluster_allowed_cores:  8\n",
       "H2O_cluster_status:         locked, healthy\n",
       "H2O_connection_url:         http://127.0.0.1:54321\n",
       "H2O_connection_proxy:       {\"http\": null, \"https\": null}\n",
       "H2O_internal_security:      False\n",
       "Python_version:             3.8.6 final\n",
       "--------------------------  -----------------------------"
      ]
     },
     "metadata": {},
     "output_type": "display_data"
    }
   ],
   "source": [
    "h2o.init()"
   ]
  },
  {
   "cell_type": "code",
   "execution_count": 3,
   "metadata": {
    "id": "kdt8Wp7Falm7"
   },
   "outputs": [],
   "source": [
    "import pandas as pd\n",
    "def dataSetup(name):\n",
    "  X,y = sklearn.datasets.fetch_openml(data_id=name, as_frame=True, return_X_y=True)\n",
    "  train = pd.concat([X, y], axis=1, join='inner')\n",
    "  train.dropna()\n",
    "  train = train.apply(lambda x: pd.factorize(x)[0])\n",
    "  X,y = train.iloc[:,:-1], train.iloc[:, -1]\n",
    "  # X = X.apply(lambda x: pd.factorize(x)[0])\n",
    "  X_train, X_test, y_train, y_test = sklearn.model_selection.train_test_split(X,y,random_state=42)\n",
    "  y_train = y_train.to_frame(name=\"class\")\n",
    "  y_test = y_test.to_frame(name=\"class\")\n",
    "  test = pd.concat([X_test, y_test], axis=1, join='inner')\n",
    "  train = pd.concat([X_train, y_train], axis=1, join='inner')\n",
    "  test = h2o.H2OFrame(test)\n",
    "  train = h2o.H2OFrame(train)\n",
    "  return (test, train)"
   ]
  },
  {
   "cell_type": "code",
   "execution_count": 4,
   "metadata": {
    "colab": {
     "base_uri": "https://localhost:8080/"
    },
    "id": "Gpw9R9koa8kA",
    "outputId": "3d5374f5-b7db-46ec-c5cb-7fc10df849a1"
   },
   "outputs": [
    {
     "name": "stdout",
     "output_type": "stream",
     "text": [
      "Parse progress: |████████████████████████████████████████████████████████████████| (done) 100%\n",
      "Parse progress: |████████████████████████████████████████████████████████████████| (done) 100%\n"
     ]
    }
   ],
   "source": [
    "test, train = dataSetup(1596)"
   ]
  },
  {
   "cell_type": "code",
   "execution_count": 5,
   "metadata": {
    "colab": {
     "base_uri": "https://localhost:8080/"
    },
    "id": "p0LPdFQlbA_5",
    "outputId": "d582af48-65ba-4760-e90b-e936af7442f5"
   },
   "outputs": [
    {
     "data": {
      "text/plain": [
       "(435759, 55)"
      ]
     },
     "execution_count": 5,
     "metadata": {},
     "output_type": "execute_result"
    }
   ],
   "source": [
    "train.shape"
   ]
  },
  {
   "cell_type": "code",
   "execution_count": 6,
   "metadata": {
    "id": "uDeYZ8nTQX-0"
   },
   "outputs": [],
   "source": [
    "x = train.columns\n",
    "y = \"class\"\n",
    "x.remove(y)"
   ]
  },
  {
   "cell_type": "code",
   "execution_count": 7,
   "metadata": {
    "id": "u_ErSp1nU27w"
   },
   "outputs": [],
   "source": [
    "train[y] = train[y].asfactor()\n",
    "test[y] = test[y].asfactor()"
   ]
  },
  {
   "cell_type": "code",
   "execution_count": 8,
   "metadata": {
    "colab": {
     "base_uri": "https://localhost:8080/"
    },
    "id": "t1J4XoxvQunQ",
    "outputId": "f116c4e2-0059-4307-f9a4-1c3892867859"
   },
   "outputs": [
    {
     "name": "stdout",
     "output_type": "stream",
     "text": [
      "AutoML progress: |█████████████████████\n",
      "14:37:15.77: GLM_1_AutoML_1_20220507_141758 [GLM def_1] failed: java.lang.ArrayIndexOutOfBoundsException: 54\n",
      "\n",
      "██████████████████████████████████████████| (done) 100%\n",
      "Model Details\n",
      "=============\n",
      "H2OStackedEnsembleEstimator :  Stacked Ensemble\n",
      "Model Key:  StackedEnsemble_BestOfFamily_1_AutoML_1_20220507_141758\n",
      "\n",
      "No model summary for this model\n",
      "\n",
      "ModelMetricsMultinomialGLM: stackedensemble\n",
      "** Reported on train data. **\n",
      "\n",
      "MSE: 0.15527525614321736\n",
      "RMSE: 0.3940498142915656\n",
      "\n",
      "ModelMetricsMultinomialGLM: stackedensemble\n",
      "** Reported on cross-validation data. **\n",
      "\n",
      "MSE: 0.18789363063584152\n",
      "RMSE: 0.43346698909587283\n",
      "\n",
      "Cross-Validation Metrics Summary: \n"
     ]
    },
    {
     "data": {
      "text/html": [
       "<div>\n",
       "<style scoped>\n",
       "    .dataframe tbody tr th:only-of-type {\n",
       "        vertical-align: middle;\n",
       "    }\n",
       "\n",
       "    .dataframe tbody tr th {\n",
       "        vertical-align: top;\n",
       "    }\n",
       "\n",
       "    .dataframe thead th {\n",
       "        text-align: right;\n",
       "    }\n",
       "</style>\n",
       "<table border=\"1\" class=\"dataframe\">\n",
       "  <thead>\n",
       "    <tr style=\"text-align: right;\">\n",
       "      <th></th>\n",
       "      <th></th>\n",
       "      <th>mean</th>\n",
       "      <th>sd</th>\n",
       "      <th>cv_1_valid</th>\n",
       "      <th>cv_2_valid</th>\n",
       "      <th>cv_3_valid</th>\n",
       "      <th>cv_4_valid</th>\n",
       "      <th>cv_5_valid</th>\n",
       "    </tr>\n",
       "  </thead>\n",
       "  <tbody>\n",
       "    <tr>\n",
       "      <th>0</th>\n",
       "      <td>accuracy</td>\n",
       "      <td>0.746586</td>\n",
       "      <td>0.001388</td>\n",
       "      <td>0.746122</td>\n",
       "      <td>0.745294</td>\n",
       "      <td>0.745421</td>\n",
       "      <td>0.748362</td>\n",
       "      <td>0.747728</td>\n",
       "    </tr>\n",
       "    <tr>\n",
       "      <th>1</th>\n",
       "      <td>auc</td>\n",
       "      <td>NaN</td>\n",
       "      <td>0.000000</td>\n",
       "      <td>NaN</td>\n",
       "      <td>NaN</td>\n",
       "      <td>NaN</td>\n",
       "      <td>NaN</td>\n",
       "      <td>NaN</td>\n",
       "    </tr>\n",
       "    <tr>\n",
       "      <th>2</th>\n",
       "      <td>err</td>\n",
       "      <td>0.253414</td>\n",
       "      <td>0.001388</td>\n",
       "      <td>0.253878</td>\n",
       "      <td>0.254706</td>\n",
       "      <td>0.254579</td>\n",
       "      <td>0.251638</td>\n",
       "      <td>0.252272</td>\n",
       "    </tr>\n",
       "    <tr>\n",
       "      <th>3</th>\n",
       "      <td>err_count</td>\n",
       "      <td>22085.600000</td>\n",
       "      <td>183.155120</td>\n",
       "      <td>22045.000000</td>\n",
       "      <td>22395.000000</td>\n",
       "      <td>22085.000000</td>\n",
       "      <td>21972.000000</td>\n",
       "      <td>21931.000000</td>\n",
       "    </tr>\n",
       "    <tr>\n",
       "      <th>4</th>\n",
       "      <td>logloss</td>\n",
       "      <td>0.577103</td>\n",
       "      <td>0.002727</td>\n",
       "      <td>0.577423</td>\n",
       "      <td>0.579615</td>\n",
       "      <td>0.578878</td>\n",
       "      <td>0.576987</td>\n",
       "      <td>0.572612</td>\n",
       "    </tr>\n",
       "    <tr>\n",
       "      <th>5</th>\n",
       "      <td>max_per_class_error</td>\n",
       "      <td>0.762054</td>\n",
       "      <td>0.014593</td>\n",
       "      <td>0.783764</td>\n",
       "      <td>0.767057</td>\n",
       "      <td>0.760553</td>\n",
       "      <td>0.753653</td>\n",
       "      <td>0.745242</td>\n",
       "    </tr>\n",
       "    <tr>\n",
       "      <th>6</th>\n",
       "      <td>mean_per_class_accuracy</td>\n",
       "      <td>0.620227</td>\n",
       "      <td>0.006241</td>\n",
       "      <td>0.611261</td>\n",
       "      <td>0.620933</td>\n",
       "      <td>0.624520</td>\n",
       "      <td>0.617283</td>\n",
       "      <td>0.627140</td>\n",
       "    </tr>\n",
       "    <tr>\n",
       "      <th>7</th>\n",
       "      <td>mean_per_class_error</td>\n",
       "      <td>0.379773</td>\n",
       "      <td>0.006241</td>\n",
       "      <td>0.388739</td>\n",
       "      <td>0.379067</td>\n",
       "      <td>0.375480</td>\n",
       "      <td>0.382717</td>\n",
       "      <td>0.372860</td>\n",
       "    </tr>\n",
       "    <tr>\n",
       "      <th>8</th>\n",
       "      <td>mse</td>\n",
       "      <td>0.187893</td>\n",
       "      <td>0.000736</td>\n",
       "      <td>0.187912</td>\n",
       "      <td>0.188626</td>\n",
       "      <td>0.188569</td>\n",
       "      <td>0.187450</td>\n",
       "      <td>0.186906</td>\n",
       "    </tr>\n",
       "    <tr>\n",
       "      <th>9</th>\n",
       "      <td>null_deviance</td>\n",
       "      <td>210045.890000</td>\n",
       "      <td>1317.521200</td>\n",
       "      <td>208974.120000</td>\n",
       "      <td>212212.450000</td>\n",
       "      <td>209289.520000</td>\n",
       "      <td>210362.190000</td>\n",
       "      <td>209391.200000</td>\n",
       "    </tr>\n",
       "    <tr>\n",
       "      <th>10</th>\n",
       "      <td>pr_auc</td>\n",
       "      <td>NaN</td>\n",
       "      <td>0.000000</td>\n",
       "      <td>NaN</td>\n",
       "      <td>NaN</td>\n",
       "      <td>NaN</td>\n",
       "      <td>NaN</td>\n",
       "      <td>NaN</td>\n",
       "    </tr>\n",
       "    <tr>\n",
       "      <th>11</th>\n",
       "      <td>r2</td>\n",
       "      <td>0.831568</td>\n",
       "      <td>0.000449</td>\n",
       "      <td>0.830966</td>\n",
       "      <td>0.831511</td>\n",
       "      <td>0.832181</td>\n",
       "      <td>0.831410</td>\n",
       "      <td>0.831770</td>\n",
       "    </tr>\n",
       "    <tr>\n",
       "      <th>12</th>\n",
       "      <td>residual_deviance</td>\n",
       "      <td>100591.980000</td>\n",
       "      <td>865.402340</td>\n",
       "      <td>100278.760000</td>\n",
       "      <td>101925.330000</td>\n",
       "      <td>100436.500000</td>\n",
       "      <td>100760.370000</td>\n",
       "      <td>99558.914000</td>\n",
       "    </tr>\n",
       "    <tr>\n",
       "      <th>13</th>\n",
       "      <td>rmse</td>\n",
       "      <td>0.433465</td>\n",
       "      <td>0.000849</td>\n",
       "      <td>0.433488</td>\n",
       "      <td>0.434311</td>\n",
       "      <td>0.434245</td>\n",
       "      <td>0.432956</td>\n",
       "      <td>0.432327</td>\n",
       "    </tr>\n",
       "  </tbody>\n",
       "</table>\n",
       "</div>"
      ],
      "text/plain": [
       "                                      mean           sd     cv_1_valid  \\\n",
       "0                  accuracy       0.746586     0.001388       0.746122   \n",
       "1                       auc            NaN     0.000000            NaN   \n",
       "2                       err       0.253414     0.001388       0.253878   \n",
       "3                 err_count   22085.600000   183.155120   22045.000000   \n",
       "4                   logloss       0.577103     0.002727       0.577423   \n",
       "5       max_per_class_error       0.762054     0.014593       0.783764   \n",
       "6   mean_per_class_accuracy       0.620227     0.006241       0.611261   \n",
       "7      mean_per_class_error       0.379773     0.006241       0.388739   \n",
       "8                       mse       0.187893     0.000736       0.187912   \n",
       "9             null_deviance  210045.890000  1317.521200  208974.120000   \n",
       "10                   pr_auc            NaN     0.000000            NaN   \n",
       "11                       r2       0.831568     0.000449       0.830966   \n",
       "12        residual_deviance  100591.980000   865.402340  100278.760000   \n",
       "13                     rmse       0.433465     0.000849       0.433488   \n",
       "\n",
       "       cv_2_valid     cv_3_valid     cv_4_valid     cv_5_valid  \n",
       "0        0.745294       0.745421       0.748362       0.747728  \n",
       "1             NaN            NaN            NaN            NaN  \n",
       "2        0.254706       0.254579       0.251638       0.252272  \n",
       "3    22395.000000   22085.000000   21972.000000   21931.000000  \n",
       "4        0.579615       0.578878       0.576987       0.572612  \n",
       "5        0.767057       0.760553       0.753653       0.745242  \n",
       "6        0.620933       0.624520       0.617283       0.627140  \n",
       "7        0.379067       0.375480       0.382717       0.372860  \n",
       "8        0.188626       0.188569       0.187450       0.186906  \n",
       "9   212212.450000  209289.520000  210362.190000  209391.200000  \n",
       "10            NaN            NaN            NaN            NaN  \n",
       "11       0.831511       0.832181       0.831410       0.831770  \n",
       "12  101925.330000  100436.500000  100760.370000   99558.914000  \n",
       "13       0.434311       0.434245       0.432956       0.432327  "
      ]
     },
     "metadata": {},
     "output_type": "display_data"
    },
    {
     "data": {
      "text/plain": []
     },
     "execution_count": 8,
     "metadata": {},
     "output_type": "execute_result"
    }
   ],
   "source": [
    "aml = H2OAutoML(max_runtime_secs = 3600)\n",
    "aml.train(x=x, y=y, training_frame=train)\n",
    "# train = h2o.H2OFrame(train)"
   ]
  },
  {
   "cell_type": "code",
   "execution_count": 9,
   "metadata": {
    "id": "T2g-N1P-TSmz"
   },
   "outputs": [
    {
     "data": {
      "text/html": [
       "<table>\n",
       "<thead>\n",
       "<tr><th>model_id                                               </th><th style=\"text-align: right;\">  mean_per_class_error</th><th style=\"text-align: right;\">  logloss</th><th style=\"text-align: right;\">    rmse</th><th style=\"text-align: right;\">     mse</th></tr>\n",
       "</thead>\n",
       "<tbody>\n",
       "<tr><td>StackedEnsemble_BestOfFamily_1_AutoML_1_20220507_141758</td><td style=\"text-align: right;\">              0.379666</td><td style=\"text-align: right;\"> 0.577108</td><td style=\"text-align: right;\">0.433467</td><td style=\"text-align: right;\">0.187894</td></tr>\n",
       "<tr><td>StackedEnsemble_BestOfFamily_2_AutoML_1_20220507_141758</td><td style=\"text-align: right;\">              0.381498</td><td style=\"text-align: right;\"> 0.60685 </td><td style=\"text-align: right;\">0.446816</td><td style=\"text-align: right;\">0.199644</td></tr>\n",
       "<tr><td>StackedEnsemble_AllModels_1_AutoML_1_20220507_141758   </td><td style=\"text-align: right;\">              0.384017</td><td style=\"text-align: right;\"> 0.590213</td><td style=\"text-align: right;\">0.44039 </td><td style=\"text-align: right;\">0.193944</td></tr>\n",
       "<tr><td>GBM_1_AutoML_1_20220507_141758                         </td><td style=\"text-align: right;\">              0.395499</td><td style=\"text-align: right;\"> 0.579929</td><td style=\"text-align: right;\">0.43379 </td><td style=\"text-align: right;\">0.188174</td></tr>\n",
       "<tr><td>XGBoost_1_AutoML_1_20220507_141758                     </td><td style=\"text-align: right;\">              0.411763</td><td style=\"text-align: right;\"> 0.609917</td><td style=\"text-align: right;\">0.446116</td><td style=\"text-align: right;\">0.199019</td></tr>\n",
       "<tr><td>XGBoost_2_AutoML_1_20220507_141758                     </td><td style=\"text-align: right;\">              0.436148</td><td style=\"text-align: right;\"> 0.652975</td><td style=\"text-align: right;\">0.466361</td><td style=\"text-align: right;\">0.217493</td></tr>\n",
       "<tr><td>DRF_1_AutoML_1_20220507_141758                         </td><td style=\"text-align: right;\">              0.469489</td><td style=\"text-align: right;\"> 0.794016</td><td style=\"text-align: right;\">0.478107</td><td style=\"text-align: right;\">0.228587</td></tr>\n",
       "<tr><td>GBM_4_AutoML_1_20220507_141758                         </td><td style=\"text-align: right;\">              0.477265</td><td style=\"text-align: right;\"> 1.11671 </td><td style=\"text-align: right;\">0.66016 </td><td style=\"text-align: right;\">0.435811</td></tr>\n",
       "<tr><td>GBM_3_AutoML_1_20220507_141758                         </td><td style=\"text-align: right;\">              0.495174</td><td style=\"text-align: right;\"> 1.07816 </td><td style=\"text-align: right;\">0.646076</td><td style=\"text-align: right;\">0.417414</td></tr>\n",
       "<tr><td>GBM_2_AutoML_1_20220507_141758                         </td><td style=\"text-align: right;\">              0.501293</td><td style=\"text-align: right;\"> 1.03926 </td><td style=\"text-align: right;\">0.631277</td><td style=\"text-align: right;\">0.39851 </td></tr>\n",
       "</tbody>\n",
       "</table>"
      ]
     },
     "metadata": {},
     "output_type": "display_data"
    },
    {
     "data": {
      "text/plain": []
     },
     "execution_count": 9,
     "metadata": {},
     "output_type": "execute_result"
    }
   ],
   "source": [
    "lb = aml.leaderboard\n",
    "lb.head(rows=lb.nrows)"
   ]
  },
  {
   "cell_type": "code",
   "execution_count": null,
   "metadata": {
    "id": "Tm5_3CBwyetw"
   },
   "outputs": [],
   "source": []
  }
 ],
 "metadata": {
  "colab": {
   "name": "H20AutoMLAirlines.ipynb",
   "provenance": []
  },
  "kernelspec": {
   "display_name": "idlsvenv",
   "language": "python",
   "name": "idlsvenv"
  },
  "language_info": {
   "codemirror_mode": {
    "name": "ipython",
    "version": 3
   },
   "file_extension": ".py",
   "mimetype": "text/x-python",
   "name": "python",
   "nbconvert_exporter": "python",
   "pygments_lexer": "ipython3",
   "version": "3.8.6"
  }
 },
 "nbformat": 4,
 "nbformat_minor": 1
}
