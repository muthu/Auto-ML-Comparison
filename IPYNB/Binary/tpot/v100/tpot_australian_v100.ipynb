{
 "cells": [
  {
   "cell_type": "code",
   "execution_count": 1,
   "metadata": {
    "colab": {
     "base_uri": "https://localhost:8080/"
    },
    "id": "ycR0TxE_e4YA",
    "outputId": "68abd8fd-4a73-48d1-8206-c667420b12a8"
   },
   "outputs": [
    {
     "name": "stdout",
     "output_type": "stream",
     "text": [
      "Defaulting to user installation because normal site-packages is not writeable\n",
      "Requirement already satisfied: tpot in ./.local/lib/python3.8/site-packages (0.11.7)\n",
      "Requirement already satisfied: pandas>=0.24.2 in /share/apps/python/3.8.6/intel/lib/python3.8/site-packages (from tpot) (1.1.3)\n",
      "Requirement already satisfied: joblib>=0.13.2 in ./.local/lib/python3.8/site-packages (from tpot) (1.1.0)\n",
      "Requirement already satisfied: scipy>=1.3.1 in ./.local/lib/python3.8/site-packages (from tpot) (1.8.0)\n",
      "Requirement already satisfied: numpy>=1.16.3 in /share/apps/anaconda3/2020.07/lib/python3.8/site-packages (from tpot) (1.18.5)\n",
      "Requirement already satisfied: update-checker>=0.16 in ./.local/lib/python3.8/site-packages (from tpot) (0.18.0)\n",
      "Requirement already satisfied: scikit-learn>=0.22.0 in ./.local/lib/python3.8/site-packages (from tpot) (0.24.2)\n",
      "Requirement already satisfied: tqdm>=4.36.1 in /share/apps/anaconda3/2020.07/lib/python3.8/site-packages (from tpot) (4.47.0)\n",
      "Requirement already satisfied: xgboost>=1.1.0 in ./.local/lib/python3.8/site-packages (from tpot) (1.6.0)\n",
      "Requirement already satisfied: deap>=1.2 in ./.local/lib/python3.8/site-packages (from tpot) (1.3.1)\n",
      "Requirement already satisfied: stopit>=1.1.1 in ./.local/lib/python3.8/site-packages (from tpot) (1.1.2)\n",
      "Requirement already satisfied: pytz>=2017.2 in /share/apps/python/3.8.6/intel/lib/python3.8/site-packages (from pandas>=0.24.2->tpot) (2020.1)\n",
      "Requirement already satisfied: python-dateutil>=2.7.3 in /share/apps/python/3.8.6/intel/lib/python3.8/site-packages (from pandas>=0.24.2->tpot) (2.8.1)\n",
      "Requirement already satisfied: requests>=2.3.0 in /share/apps/python/3.8.6/intel/lib/python3.8/site-packages (from update-checker>=0.16->tpot) (2.24.0)\n",
      "Requirement already satisfied: threadpoolctl>=2.0.0 in ./.local/lib/python3.8/site-packages (from scikit-learn>=0.22.0->tpot) (3.1.0)\n",
      "Requirement already satisfied: six>=1.5 in /share/apps/python/3.8.6/intel/lib/python3.8/site-packages (from python-dateutil>=2.7.3->pandas>=0.24.2->tpot) (1.15.0)\n",
      "Requirement already satisfied: urllib3!=1.25.0,!=1.25.1,<1.26,>=1.21.1 in /share/apps/python/3.8.6/intel/lib/python3.8/site-packages (from requests>=2.3.0->update-checker>=0.16->tpot) (1.25.10)\n",
      "Requirement already satisfied: certifi>=2017.4.17 in /share/apps/python/3.8.6/intel/lib/python3.8/site-packages (from requests>=2.3.0->update-checker>=0.16->tpot) (2020.6.20)\n",
      "Requirement already satisfied: idna<3,>=2.5 in /share/apps/python/3.8.6/intel/lib/python3.8/site-packages (from requests>=2.3.0->update-checker>=0.16->tpot) (2.10)\n",
      "Requirement already satisfied: chardet<4,>=3.0.2 in /share/apps/python/3.8.6/intel/lib/python3.8/site-packages (from requests>=2.3.0->update-checker>=0.16->tpot) (3.0.4)\n",
      "\u001b[33mWARNING: You are using pip version 20.2.3; however, version 22.0.4 is available.\n",
      "You should consider upgrading via the '/share/apps/anaconda3/2020.07/bin/python -m pip install --upgrade pip' command.\u001b[0m\n",
      "Note: you may need to restart the kernel to use updated packages.\n"
     ]
    }
   ],
   "source": [
    "pip install tpot"
   ]
  },
  {
   "cell_type": "code",
   "execution_count": 2,
   "metadata": {
    "colab": {
     "base_uri": "https://localhost:8080/"
    },
    "id": "GOzMWI6Je4YH",
    "outputId": "90915dcf-4beb-4c4f-bcf2-a507637cab6f"
   },
   "outputs": [
    {
     "name": "stdout",
     "output_type": "stream",
     "text": [
      "tpot: 0.11.7\n"
     ]
    },
    {
     "name": "stderr",
     "output_type": "stream",
     "text": [
      "/home/av3040/.local/lib/python3.8/site-packages/tpot/builtins/__init__.py:36: UserWarning: Warning: optional dependency `torch` is not available. - skipping import of NN models.\n",
      "  warnings.warn(\"Warning: optional dependency `torch` is not available. - skipping import of NN models.\")\n"
     ]
    }
   ],
   "source": [
    "import tpot\n",
    "import sklearn.datasets\n",
    "import sklearn.model_selection\n",
    "import timeit\n",
    "from tpot import TPOTClassifier\n",
    "import pandas as pd\n",
    "print('tpot: %s' % tpot.__version__)"
   ]
  },
  {
   "cell_type": "code",
   "execution_count": 3,
   "metadata": {
    "id": "NRkGlp3dZOLE"
   },
   "outputs": [],
   "source": [
    "def dataSetup(name):\n",
    "  X,y = sklearn.datasets.fetch_openml(name, as_frame=True, return_X_y=True)\n",
    "  train = pd.concat([X, y], axis=1, join='inner')\n",
    "  train.dropna()\n",
    "  train = train.apply(lambda x: pd.factorize(x)[0])\n",
    "  X,y = train.iloc[:,:-1], train.iloc[:, -1]\n",
    "  # X = X.apply(lambda x: pd.factorize(x)[0])\n",
    "  X_train, X_test, y_train, y_test = sklearn.model_selection.train_test_split(X,y,random_state=42)\n",
    "  return (X_train, X_test, y_train, y_test)"
   ]
  },
  {
   "cell_type": "code",
   "execution_count": 4,
   "metadata": {
    "id": "KAwhRPrMe4YI"
   },
   "outputs": [],
   "source": [
    "X_train, X_test, y_train, y_test = dataSetup(\"australian\")"
   ]
  },
  {
   "cell_type": "code",
   "execution_count": 5,
   "metadata": {
    "id": "ySKvD6r0e4YJ"
   },
   "outputs": [],
   "source": [
    "model = TPOTClassifier(max_time_mins = 60,generations = None,scoring='accuracy', verbosity=2, random_state=1, n_jobs=-1)"
   ]
  },
  {
   "cell_type": "code",
   "execution_count": 6,
   "metadata": {
    "colab": {
     "base_uri": "https://localhost:8080/",
     "height": 357,
     "referenced_widgets": [
      "ddb7c23ef43a4579b04a1d01a034a156",
      "34f1d70c3a51415790dbe4bf37c46e99",
      "4c8d9f92547b4fb38d5be5d364aa55b9",
      "511fb23fac3945f8835cfb4f0ae3f62d",
      "9d2ad121deac43799361859b44b124a2",
      "4baf868f61be44909ff8f91da8d31925",
      "52679dcd5bbc427a9ef8fb19b36a3db1",
      "d65aede1d657476daa44838f5b3fa8a8",
      "b0132e7ae006433798ca8624d541edc8",
      "c26aaf7190e94ed0890bf2cd089c3544",
      "ad25d07f8c55487098a864948cf063c9"
     ]
    },
    "id": "C-th6Zm8e4YK",
    "outputId": "cd5f970e-52f4-45e0-f63d-2d526f40e102"
   },
   "outputs": [
    {
     "data": {
      "application/vnd.jupyter.widget-view+json": {
       "model_id": "10582c031312435ca500047623c6b337",
       "version_major": 2,
       "version_minor": 0
      },
      "text/plain": [
       "HBox(children=(FloatProgress(value=0.0, description='Optimization Progress', style=ProgressStyle(description_w…"
      ]
     },
     "metadata": {},
     "output_type": "display_data"
    },
    {
     "name": "stdout",
     "output_type": "stream",
     "text": [
      "\n",
      "Generation 1 - Current best internal CV score: 0.8819454817027633\n",
      "\n",
      "Generation 2 - Current best internal CV score: 0.8819454817027633\n",
      "\n",
      "Generation 3 - Current best internal CV score: 0.8819454817027633\n",
      "\n",
      "Generation 4 - Current best internal CV score: 0.8819454817027633\n",
      "\n",
      "Generation 5 - Current best internal CV score: 0.8839058999253175\n",
      "\n",
      "Generation 6 - Current best internal CV score: 0.8839058999253175\n",
      "\n",
      "Generation 7 - Current best internal CV score: 0.8839058999253175\n",
      "\n",
      "Generation 8 - Current best internal CV score: 0.8839058999253175\n",
      "\n",
      "Generation 9 - Current best internal CV score: 0.8839058999253175\n",
      "\n",
      "Generation 10 - Current best internal CV score: 0.8877893950709485\n",
      "\n",
      "Generation 11 - Current best internal CV score: 0.8877893950709485\n",
      "\n",
      "Generation 12 - Current best internal CV score: 0.8877893950709485\n",
      "\n",
      "Generation 13 - Current best internal CV score: 0.8877893950709485\n",
      "\n",
      "Generation 14 - Current best internal CV score: 0.8877893950709485\n",
      "\n",
      "Generation 15 - Current best internal CV score: 0.8877893950709485\n",
      "\n",
      "Generation 16 - Current best internal CV score: 0.8877893950709485\n",
      "\n",
      "Generation 17 - Current best internal CV score: 0.8877893950709485\n",
      "\n",
      "Generation 18 - Current best internal CV score: 0.8916542195668409\n",
      "\n",
      "Generation 19 - Current best internal CV score: 0.8916542195668409\n",
      "\n",
      "Generation 20 - Current best internal CV score: 0.8916542195668409\n",
      "\n",
      "Generation 21 - Current best internal CV score: 0.8916542195668409\n",
      "\n",
      "Generation 22 - Current best internal CV score: 0.8935959671396564\n",
      "\n",
      "Generation 23 - Current best internal CV score: 0.8935959671396564\n",
      "\n",
      "Generation 24 - Current best internal CV score: 0.8935959671396564\n",
      "\n",
      "Generation 25 - Current best internal CV score: 0.8935959671396564\n",
      "\n",
      "Generation 26 - Current best internal CV score: 0.8935959671396564\n",
      "\n",
      "Generation 27 - Current best internal CV score: 0.8935959671396564\n",
      "\n",
      "Generation 28 - Current best internal CV score: 0.8935959671396564\n",
      "\n",
      "Generation 29 - Current best internal CV score: 0.8935959671396564\n",
      "\n",
      "Best pipeline: XGBClassifier(PolynomialFeatures(RandomForestClassifier(ExtraTreesClassifier(RandomForestClassifier(RobustScaler(input_matrix), bootstrap=False, criterion=gini, max_features=0.45, min_samples_leaf=2, min_samples_split=10, n_estimators=100), bootstrap=False, criterion=gini, max_features=0.25, min_samples_leaf=18, min_samples_split=9, n_estimators=100), bootstrap=False, criterion=gini, max_features=0.9500000000000001, min_samples_leaf=19, min_samples_split=6, n_estimators=100), degree=2, include_bias=False, interaction_only=False), learning_rate=0.01, max_depth=5, min_child_weight=4, n_estimators=100, n_jobs=1, subsample=0.8, verbosity=0)\n",
      "0.8728323699421965\n"
     ]
    }
   ],
   "source": [
    "start = timeit.default_timer()\n",
    "model.fit(X_train, y_train)\n",
    "stop = timeit.default_timer()\n",
    "print(model.score(X_test,y_test))\n",
    "model.export('tpot_australian_best_model_v100.py')"
   ]
  },
  {
   "cell_type": "code",
   "execution_count": null,
   "metadata": {
    "id": "-p75oY_Je4YL"
   },
   "outputs": [],
   "source": []
  }
 ],
 "metadata": {
  "colab": {
   "collapsed_sections": [],
   "name": "tpot_spam.ipynb",
   "provenance": [],
   "toc_visible": true
  },
  "kernelspec": {
   "display_name": "idlsvenv",
   "language": "python",
   "name": "idlsvenv"
  },
  "language_info": {
   "codemirror_mode": {
    "name": "ipython",
    "version": 3
   },
   "file_extension": ".py",
   "mimetype": "text/x-python",
   "name": "python",
   "nbconvert_exporter": "python",
   "pygments_lexer": "ipython3",
   "version": "3.8.3"
  },
  "widgets": {
   "application/vnd.jupyter.widget-state+json": {
    "34f1d70c3a51415790dbe4bf37c46e99": {
     "model_module": "@jupyter-widgets/controls",
     "model_module_version": "1.5.0",
     "model_name": "HTMLModel",
     "state": {
      "_dom_classes": [],
      "_model_module": "@jupyter-widgets/controls",
      "_model_module_version": "1.5.0",
      "_model_name": "HTMLModel",
      "_view_count": null,
      "_view_module": "@jupyter-widgets/controls",
      "_view_module_version": "1.5.0",
      "_view_name": "HTMLView",
      "description": "",
      "description_tooltip": null,
      "layout": "IPY_MODEL_4baf868f61be44909ff8f91da8d31925",
      "placeholder": "​",
      "style": "IPY_MODEL_52679dcd5bbc427a9ef8fb19b36a3db1",
      "value": "Optimization Progress:  92%"
     }
    },
    "4baf868f61be44909ff8f91da8d31925": {
     "model_module": "@jupyter-widgets/base",
     "model_module_version": "1.2.0",
     "model_name": "LayoutModel",
     "state": {
      "_model_module": "@jupyter-widgets/base",
      "_model_module_version": "1.2.0",
      "_model_name": "LayoutModel",
      "_view_count": null,
      "_view_module": "@jupyter-widgets/base",
      "_view_module_version": "1.2.0",
      "_view_name": "LayoutView",
      "align_content": null,
      "align_items": null,
      "align_self": null,
      "border": null,
      "bottom": null,
      "display": null,
      "flex": null,
      "flex_flow": null,
      "grid_area": null,
      "grid_auto_columns": null,
      "grid_auto_flow": null,
      "grid_auto_rows": null,
      "grid_column": null,
      "grid_gap": null,
      "grid_row": null,
      "grid_template_areas": null,
      "grid_template_columns": null,
      "grid_template_rows": null,
      "height": null,
      "justify_content": null,
      "justify_items": null,
      "left": null,
      "margin": null,
      "max_height": null,
      "max_width": null,
      "min_height": null,
      "min_width": null,
      "object_fit": null,
      "object_position": null,
      "order": null,
      "overflow": null,
      "overflow_x": null,
      "overflow_y": null,
      "padding": null,
      "right": null,
      "top": null,
      "visibility": null,
      "width": null
     }
    },
    "4c8d9f92547b4fb38d5be5d364aa55b9": {
     "model_module": "@jupyter-widgets/controls",
     "model_module_version": "1.5.0",
     "model_name": "FloatProgressModel",
     "state": {
      "_dom_classes": [],
      "_model_module": "@jupyter-widgets/controls",
      "_model_module_version": "1.5.0",
      "_model_name": "FloatProgressModel",
      "_view_count": null,
      "_view_module": "@jupyter-widgets/controls",
      "_view_module_version": "1.5.0",
      "_view_name": "ProgressView",
      "bar_style": "danger",
      "description": "",
      "description_tooltip": null,
      "layout": "IPY_MODEL_d65aede1d657476daa44838f5b3fa8a8",
      "max": 100,
      "min": 0,
      "orientation": "horizontal",
      "style": "IPY_MODEL_b0132e7ae006433798ca8624d541edc8",
      "value": 100
     }
    },
    "511fb23fac3945f8835cfb4f0ae3f62d": {
     "model_module": "@jupyter-widgets/controls",
     "model_module_version": "1.5.0",
     "model_name": "HTMLModel",
     "state": {
      "_dom_classes": [],
      "_model_module": "@jupyter-widgets/controls",
      "_model_module_version": "1.5.0",
      "_model_name": "HTMLModel",
      "_view_count": null,
      "_view_module": "@jupyter-widgets/controls",
      "_view_module_version": "1.5.0",
      "_view_name": "HTMLView",
      "description": "",
      "description_tooltip": null,
      "layout": "IPY_MODEL_c26aaf7190e94ed0890bf2cd089c3544",
      "placeholder": "​",
      "style": "IPY_MODEL_ad25d07f8c55487098a864948cf063c9",
      "value": " 459/500 [1:00:20&lt;07:22, 10.78s/pipeline]"
     }
    },
    "52679dcd5bbc427a9ef8fb19b36a3db1": {
     "model_module": "@jupyter-widgets/controls",
     "model_module_version": "1.5.0",
     "model_name": "DescriptionStyleModel",
     "state": {
      "_model_module": "@jupyter-widgets/controls",
      "_model_module_version": "1.5.0",
      "_model_name": "DescriptionStyleModel",
      "_view_count": null,
      "_view_module": "@jupyter-widgets/base",
      "_view_module_version": "1.2.0",
      "_view_name": "StyleView",
      "description_width": ""
     }
    },
    "9d2ad121deac43799361859b44b124a2": {
     "model_module": "@jupyter-widgets/base",
     "model_module_version": "1.2.0",
     "model_name": "LayoutModel",
     "state": {
      "_model_module": "@jupyter-widgets/base",
      "_model_module_version": "1.2.0",
      "_model_name": "LayoutModel",
      "_view_count": null,
      "_view_module": "@jupyter-widgets/base",
      "_view_module_version": "1.2.0",
      "_view_name": "LayoutView",
      "align_content": null,
      "align_items": null,
      "align_self": null,
      "border": null,
      "bottom": null,
      "display": null,
      "flex": null,
      "flex_flow": null,
      "grid_area": null,
      "grid_auto_columns": null,
      "grid_auto_flow": null,
      "grid_auto_rows": null,
      "grid_column": null,
      "grid_gap": null,
      "grid_row": null,
      "grid_template_areas": null,
      "grid_template_columns": null,
      "grid_template_rows": null,
      "height": null,
      "justify_content": null,
      "justify_items": null,
      "left": null,
      "margin": null,
      "max_height": null,
      "max_width": null,
      "min_height": null,
      "min_width": null,
      "object_fit": null,
      "object_position": null,
      "order": null,
      "overflow": null,
      "overflow_x": null,
      "overflow_y": null,
      "padding": null,
      "right": null,
      "top": null,
      "visibility": null,
      "width": null
     }
    },
    "ad25d07f8c55487098a864948cf063c9": {
     "model_module": "@jupyter-widgets/controls",
     "model_module_version": "1.5.0",
     "model_name": "DescriptionStyleModel",
     "state": {
      "_model_module": "@jupyter-widgets/controls",
      "_model_module_version": "1.5.0",
      "_model_name": "DescriptionStyleModel",
      "_view_count": null,
      "_view_module": "@jupyter-widgets/base",
      "_view_module_version": "1.2.0",
      "_view_name": "StyleView",
      "description_width": ""
     }
    },
    "b0132e7ae006433798ca8624d541edc8": {
     "model_module": "@jupyter-widgets/controls",
     "model_module_version": "1.5.0",
     "model_name": "ProgressStyleModel",
     "state": {
      "_model_module": "@jupyter-widgets/controls",
      "_model_module_version": "1.5.0",
      "_model_name": "ProgressStyleModel",
      "_view_count": null,
      "_view_module": "@jupyter-widgets/base",
      "_view_module_version": "1.2.0",
      "_view_name": "StyleView",
      "bar_color": null,
      "description_width": ""
     }
    },
    "c26aaf7190e94ed0890bf2cd089c3544": {
     "model_module": "@jupyter-widgets/base",
     "model_module_version": "1.2.0",
     "model_name": "LayoutModel",
     "state": {
      "_model_module": "@jupyter-widgets/base",
      "_model_module_version": "1.2.0",
      "_model_name": "LayoutModel",
      "_view_count": null,
      "_view_module": "@jupyter-widgets/base",
      "_view_module_version": "1.2.0",
      "_view_name": "LayoutView",
      "align_content": null,
      "align_items": null,
      "align_self": null,
      "border": null,
      "bottom": null,
      "display": null,
      "flex": null,
      "flex_flow": null,
      "grid_area": null,
      "grid_auto_columns": null,
      "grid_auto_flow": null,
      "grid_auto_rows": null,
      "grid_column": null,
      "grid_gap": null,
      "grid_row": null,
      "grid_template_areas": null,
      "grid_template_columns": null,
      "grid_template_rows": null,
      "height": null,
      "justify_content": null,
      "justify_items": null,
      "left": null,
      "margin": null,
      "max_height": null,
      "max_width": null,
      "min_height": null,
      "min_width": null,
      "object_fit": null,
      "object_position": null,
      "order": null,
      "overflow": null,
      "overflow_x": null,
      "overflow_y": null,
      "padding": null,
      "right": null,
      "top": null,
      "visibility": null,
      "width": null
     }
    },
    "d65aede1d657476daa44838f5b3fa8a8": {
     "model_module": "@jupyter-widgets/base",
     "model_module_version": "1.2.0",
     "model_name": "LayoutModel",
     "state": {
      "_model_module": "@jupyter-widgets/base",
      "_model_module_version": "1.2.0",
      "_model_name": "LayoutModel",
      "_view_count": null,
      "_view_module": "@jupyter-widgets/base",
      "_view_module_version": "1.2.0",
      "_view_name": "LayoutView",
      "align_content": null,
      "align_items": null,
      "align_self": null,
      "border": null,
      "bottom": null,
      "display": null,
      "flex": null,
      "flex_flow": null,
      "grid_area": null,
      "grid_auto_columns": null,
      "grid_auto_flow": null,
      "grid_auto_rows": null,
      "grid_column": null,
      "grid_gap": null,
      "grid_row": null,
      "grid_template_areas": null,
      "grid_template_columns": null,
      "grid_template_rows": null,
      "height": null,
      "justify_content": null,
      "justify_items": null,
      "left": null,
      "margin": null,
      "max_height": null,
      "max_width": null,
      "min_height": null,
      "min_width": null,
      "object_fit": null,
      "object_position": null,
      "order": null,
      "overflow": null,
      "overflow_x": null,
      "overflow_y": null,
      "padding": null,
      "right": null,
      "top": null,
      "visibility": null,
      "width": null
     }
    },
    "ddb7c23ef43a4579b04a1d01a034a156": {
     "model_module": "@jupyter-widgets/controls",
     "model_module_version": "1.5.0",
     "model_name": "HBoxModel",
     "state": {
      "_dom_classes": [],
      "_model_module": "@jupyter-widgets/controls",
      "_model_module_version": "1.5.0",
      "_model_name": "HBoxModel",
      "_view_count": null,
      "_view_module": "@jupyter-widgets/controls",
      "_view_module_version": "1.5.0",
      "_view_name": "HBoxView",
      "box_style": "",
      "children": [
       "IPY_MODEL_34f1d70c3a51415790dbe4bf37c46e99",
       "IPY_MODEL_4c8d9f92547b4fb38d5be5d364aa55b9",
       "IPY_MODEL_511fb23fac3945f8835cfb4f0ae3f62d"
      ],
      "layout": "IPY_MODEL_9d2ad121deac43799361859b44b124a2"
     }
    }
   }
  }
 },
 "nbformat": 4,
 "nbformat_minor": 1
}
