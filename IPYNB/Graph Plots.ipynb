{
 "cells": [
  {
   "cell_type": "code",
   "execution_count": 1,
   "id": "3e895e70",
   "metadata": {},
   "outputs": [],
   "source": [
    "import pandas as pd\n",
    "import matplotlib.pyplot as plt\n",
    "import seaborn as sns"
   ]
  },
  {
   "cell_type": "code",
   "execution_count": 2,
   "id": "f12c4207",
   "metadata": {},
   "outputs": [],
   "source": [
    "df = pd.read_csv('BinaryClassification.csv')"
   ]
  },
  {
   "cell_type": "code",
   "execution_count": 3,
   "id": "79760dd6",
   "metadata": {},
   "outputs": [
    {
     "data": {
      "text/html": [
       "<div>\n",
       "<style scoped>\n",
       "    .dataframe tbody tr th:only-of-type {\n",
       "        vertical-align: middle;\n",
       "    }\n",
       "\n",
       "    .dataframe tbody tr th {\n",
       "        vertical-align: top;\n",
       "    }\n",
       "\n",
       "    .dataframe thead th {\n",
       "        text-align: right;\n",
       "    }\n",
       "</style>\n",
       "<table border=\"1\" class=\"dataframe\">\n",
       "  <thead>\n",
       "    <tr style=\"text-align: right;\">\n",
       "      <th></th>\n",
       "      <th>GPU</th>\n",
       "      <th>Framework</th>\n",
       "      <th>Dataset</th>\n",
       "      <th>Accuracy</th>\n",
       "    </tr>\n",
       "  </thead>\n",
       "  <tbody>\n",
       "    <tr>\n",
       "      <th>0</th>\n",
       "      <td>P100</td>\n",
       "      <td>Auto-Keras</td>\n",
       "      <td>Spambase</td>\n",
       "      <td>0.9974</td>\n",
       "    </tr>\n",
       "    <tr>\n",
       "      <th>1</th>\n",
       "      <td>P100</td>\n",
       "      <td>Tpot</td>\n",
       "      <td>Spambase</td>\n",
       "      <td>0.9748</td>\n",
       "    </tr>\n",
       "    <tr>\n",
       "      <th>2</th>\n",
       "      <td>P100</td>\n",
       "      <td>H2O</td>\n",
       "      <td>Spambase</td>\n",
       "      <td>0.9548</td>\n",
       "    </tr>\n",
       "    <tr>\n",
       "      <th>3</th>\n",
       "      <td>P100</td>\n",
       "      <td>auto-WEKA</td>\n",
       "      <td>Spambase</td>\n",
       "      <td>0.9923</td>\n",
       "    </tr>\n",
       "    <tr>\n",
       "      <th>4</th>\n",
       "      <td>P100</td>\n",
       "      <td>Auto-Keras</td>\n",
       "      <td>Adult</td>\n",
       "      <td>0.8284</td>\n",
       "    </tr>\n",
       "  </tbody>\n",
       "</table>\n",
       "</div>"
      ],
      "text/plain": [
       "    GPU   Framework   Dataset  Accuracy\n",
       "0  P100  Auto-Keras  Spambase    0.9974\n",
       "1  P100        Tpot  Spambase    0.9748\n",
       "2  P100         H2O  Spambase    0.9548\n",
       "3  P100   auto-WEKA  Spambase    0.9923\n",
       "4  P100  Auto-Keras     Adult    0.8284"
      ]
     },
     "execution_count": 3,
     "metadata": {},
     "output_type": "execute_result"
    }
   ],
   "source": [
    "df.head()"
   ]
  },
  {
   "cell_type": "code",
   "execution_count": 4,
   "id": "77b70e7f",
   "metadata": {},
   "outputs": [],
   "source": [
    "gpu_list = list(df['GPU'])\n",
    "framework_list = list(df['Framework'])"
   ]
  },
  {
   "cell_type": "code",
   "execution_count": 5,
   "id": "75c04d47",
   "metadata": {},
   "outputs": [],
   "source": [
    "labelList = []\n",
    "for i in range(len(gpu_list)):\n",
    "    labelList.append(gpu_list[i] + framework_list[i])"
   ]
  },
  {
   "cell_type": "code",
   "execution_count": 8,
   "id": "364cbe07",
   "metadata": {},
   "outputs": [
    {
     "name": "stderr",
     "output_type": "stream",
     "text": [
      "/var/folders/g0/rmsw47910sj5k742dz3q0rvm0000gn/T/ipykernel_26199/3627283938.py:6: MatplotlibDeprecationWarning: Support for passing numbers through unit converters is deprecated since 3.5 and support will be removed two minor releases later; use Axis.convert_units instead.\n",
      "  plt.savefig(\"Dataset Vs Acc\")\n",
      "/var/folders/g0/rmsw47910sj5k742dz3q0rvm0000gn/T/ipykernel_26199/3627283938.py:6: MatplotlibDeprecationWarning: Support for passing numbers through unit converters is deprecated since 3.5 and support will be removed two minor releases later; use Axis.convert_units instead.\n",
      "  plt.savefig(\"Dataset Vs Acc\")\n",
      "/var/folders/g0/rmsw47910sj5k742dz3q0rvm0000gn/T/ipykernel_26199/3627283938.py:6: MatplotlibDeprecationWarning: Support for passing numbers through unit converters is deprecated since 3.5 and support will be removed two minor releases later; use Axis.convert_units instead.\n",
      "  plt.savefig(\"Dataset Vs Acc\")\n",
      "/var/folders/g0/rmsw47910sj5k742dz3q0rvm0000gn/T/ipykernel_26199/3627283938.py:6: MatplotlibDeprecationWarning: Support for passing numbers through unit converters is deprecated since 3.5 and support will be removed two minor releases later; use Axis.convert_units instead.\n",
      "  plt.savefig(\"Dataset Vs Acc\")\n",
      "/var/folders/g0/rmsw47910sj5k742dz3q0rvm0000gn/T/ipykernel_26199/3627283938.py:6: MatplotlibDeprecationWarning: Support for passing numbers through unit converters is deprecated since 3.5 and support will be removed two minor releases later; use Axis.convert_units instead.\n",
      "  plt.savefig(\"Dataset Vs Acc\")\n",
      "/var/folders/g0/rmsw47910sj5k742dz3q0rvm0000gn/T/ipykernel_26199/3627283938.py:6: MatplotlibDeprecationWarning: Support for passing numbers through unit converters is deprecated since 3.5 and support will be removed two minor releases later; use Axis.convert_units instead.\n",
      "  plt.savefig(\"Dataset Vs Acc\")\n",
      "/var/folders/g0/rmsw47910sj5k742dz3q0rvm0000gn/T/ipykernel_26199/3627283938.py:6: MatplotlibDeprecationWarning: Support for passing numbers through unit converters is deprecated since 3.5 and support will be removed two minor releases later; use Axis.convert_units instead.\n",
      "  plt.savefig(\"Dataset Vs Acc\")\n",
      "/var/folders/g0/rmsw47910sj5k742dz3q0rvm0000gn/T/ipykernel_26199/3627283938.py:6: MatplotlibDeprecationWarning: Support for passing numbers through unit converters is deprecated since 3.5 and support will be removed two minor releases later; use Axis.convert_units instead.\n",
      "  plt.savefig(\"Dataset Vs Acc\")\n"
     ]
    },
    {
     "data": {
      "image/png": "[encoded data removed]",
      "text/plain": [
       "<Figure size 720x432 with 1 Axes>"
      ]
     },
     "metadata": {
      "needs_background": "light"
     },
     "output_type": "display_data"
    }
   ],
   "source": [
    "# df_combined = df.query(\"Dataset == 'Combined'\")\n",
    "plt.figure(figsize=(10,6));\n",
    "# plt.plot([df['accuracy'].min()-20, 100], [baseline, baseline], 'k-', lw=2);\n",
    "# sns.scatterplot(data=df, x=\"Accuracy\", y=\"Dataset\", hue=labelList, shape=labelList, s=100);\n",
    "sns.scatterplot(data=df, x=\"Dataset\", y=\"Accuracy\", style=\"GPU\", hue=\"Framework\", s=50);\n",
    "plt.savefig(\"Dataset Vs Acc\")"
   ]
  },
  {
   "cell_type": "markdown",
   "id": "d83b59ca",
   "metadata": {},
   "source": [
    "Multi class classification"
   ]
  },
  {
   "cell_type": "code",
   "execution_count": 9,
   "id": "1bab61be",
   "metadata": {},
   "outputs": [],
   "source": [
    "df1 = pd.read_csv('MultiClassClassification.csv')"
   ]
  },
  {
   "cell_type": "code",
   "execution_count": 10,
   "id": "1e80026a",
   "metadata": {},
   "outputs": [
    {
     "data": {
      "text/html": [
       "<div>\n",
       "<style scoped>\n",
       "    .dataframe tbody tr th:only-of-type {\n",
       "        vertical-align: middle;\n",
       "    }\n",
       "\n",
       "    .dataframe tbody tr th {\n",
       "        vertical-align: top;\n",
       "    }\n",
       "\n",
       "    .dataframe thead th {\n",
       "        text-align: right;\n",
       "    }\n",
       "</style>\n",
       "<table border=\"1\" class=\"dataframe\">\n",
       "  <thead>\n",
       "    <tr style=\"text-align: right;\">\n",
       "      <th></th>\n",
       "      <th>GPU</th>\n",
       "      <th>Framework</th>\n",
       "      <th>Dataset</th>\n",
       "      <th>Accuracy</th>\n",
       "    </tr>\n",
       "  </thead>\n",
       "  <tbody>\n",
       "    <tr>\n",
       "      <th>0</th>\n",
       "      <td>P100</td>\n",
       "      <td>Auto-Keras</td>\n",
       "      <td>Cars</td>\n",
       "      <td>0.9745</td>\n",
       "    </tr>\n",
       "    <tr>\n",
       "      <th>1</th>\n",
       "      <td>P100</td>\n",
       "      <td>Tpot</td>\n",
       "      <td>Cars</td>\n",
       "      <td>0.9837</td>\n",
       "    </tr>\n",
       "    <tr>\n",
       "      <th>2</th>\n",
       "      <td>P100</td>\n",
       "      <td>H2O</td>\n",
       "      <td>Cars</td>\n",
       "      <td>0.9938</td>\n",
       "    </tr>\n",
       "    <tr>\n",
       "      <th>3</th>\n",
       "      <td>P100</td>\n",
       "      <td>auto-WEKA</td>\n",
       "      <td>Cars</td>\n",
       "      <td>0.9947</td>\n",
       "    </tr>\n",
       "    <tr>\n",
       "      <th>4</th>\n",
       "      <td>P100</td>\n",
       "      <td>Auto-Keras</td>\n",
       "      <td>Covertype</td>\n",
       "      <td>0.7412</td>\n",
       "    </tr>\n",
       "  </tbody>\n",
       "</table>\n",
       "</div>"
      ],
      "text/plain": [
       "    GPU   Framework    Dataset  Accuracy\n",
       "0  P100  Auto-Keras       Cars    0.9745\n",
       "1  P100        Tpot       Cars    0.9837\n",
       "2  P100         H2O       Cars    0.9938\n",
       "3  P100   auto-WEKA       Cars    0.9947\n",
       "4  P100  Auto-Keras  Covertype    0.7412"
      ]
     },
     "execution_count": 10,
     "metadata": {},
     "output_type": "execute_result"
    }
   ],
   "source": [
    "df1.head()"
   ]
  },
  {
   "cell_type": "code",
   "execution_count": 11,
   "id": "872acdd4",
   "metadata": {},
   "outputs": [],
   "source": [
    "gpu_list = list(df['GPU'])\n",
    "framework_list = list(df['Framework'])"
   ]
  },
  {
   "cell_type": "code",
   "execution_count": 12,
   "id": "d4824dec",
   "metadata": {},
   "outputs": [],
   "source": [
    "labelList = []\n",
    "for i in range(len(gpu_list)):\n",
    "    labelList.append(gpu_list[i] + framework_list[i])"
   ]
  },
  {
   "cell_type": "code",
   "execution_count": 14,
   "id": "8bcebefb",
   "metadata": {},
   "outputs": [
    {
     "name": "stderr",
     "output_type": "stream",
     "text": [
      "/var/folders/g0/rmsw47910sj5k742dz3q0rvm0000gn/T/ipykernel_26199/3444405483.py:3: MatplotlibDeprecationWarning: Support for passing numbers through unit converters is deprecated since 3.5 and support will be removed two minor releases later; use Axis.convert_units instead.\n",
      "  plt.savefig(\"Dataset Vs Acc\")\n",
      "/var/folders/g0/rmsw47910sj5k742dz3q0rvm0000gn/T/ipykernel_26199/3444405483.py:3: MatplotlibDeprecationWarning: Support for passing numbers through unit converters is deprecated since 3.5 and support will be removed two minor releases later; use Axis.convert_units instead.\n",
      "  plt.savefig(\"Dataset Vs Acc\")\n",
      "/var/folders/g0/rmsw47910sj5k742dz3q0rvm0000gn/T/ipykernel_26199/3444405483.py:3: MatplotlibDeprecationWarning: Support for passing numbers through unit converters is deprecated since 3.5 and support will be removed two minor releases later; use Axis.convert_units instead.\n",
      "  plt.savefig(\"Dataset Vs Acc\")\n",
      "/var/folders/g0/rmsw47910sj5k742dz3q0rvm0000gn/T/ipykernel_26199/3444405483.py:3: MatplotlibDeprecationWarning: Support for passing numbers through unit converters is deprecated since 3.5 and support will be removed two minor releases later; use Axis.convert_units instead.\n",
      "  plt.savefig(\"Dataset Vs Acc\")\n",
      "/var/folders/g0/rmsw47910sj5k742dz3q0rvm0000gn/T/ipykernel_26199/3444405483.py:3: MatplotlibDeprecationWarning: Support for passing numbers through unit converters is deprecated since 3.5 and support will be removed two minor releases later; use Axis.convert_units instead.\n",
      "  plt.savefig(\"Dataset Vs Acc\")\n",
      "/var/folders/g0/rmsw47910sj5k742dz3q0rvm0000gn/T/ipykernel_26199/3444405483.py:3: MatplotlibDeprecationWarning: Support for passing numbers through unit converters is deprecated since 3.5 and support will be removed two minor releases later; use Axis.convert_units instead.\n",
      "  plt.savefig(\"Dataset Vs Acc\")\n",
      "/var/folders/g0/rmsw47910sj5k742dz3q0rvm0000gn/T/ipykernel_26199/3444405483.py:3: MatplotlibDeprecationWarning: Support for passing numbers through unit converters is deprecated since 3.5 and support will be removed two minor releases later; use Axis.convert_units instead.\n",
      "  plt.savefig(\"Dataset Vs Acc\")\n",
      "/var/folders/g0/rmsw47910sj5k742dz3q0rvm0000gn/T/ipykernel_26199/3444405483.py:3: MatplotlibDeprecationWarning: Support for passing numbers through unit converters is deprecated since 3.5 and support will be removed two minor releases later; use Axis.convert_units instead.\n",
      "  plt.savefig(\"Dataset Vs Acc\")\n"
     ]
    },
    {
     "data": {
      "image/png": "[encoded data removed]",
      "text/plain": [
       "<Figure size 720x432 with 1 Axes>"
      ]
     },
     "metadata": {
      "needs_background": "light"
     },
     "output_type": "display_data"
    }
   ],
   "source": [
    "plt.figure(figsize=(10,6));\n",
    "sns.scatterplot(data=df1, x=\"Dataset\", y=\"Accuracy\", style=\"GPU\", hue=\"Framework\", s=50);\n",
    "plt.savefig(\"Dataset Vs Acc\")"
   ]
  },
  {
   "cell_type": "markdown",
   "id": "9d8730f2",
   "metadata": {},
   "source": [
    "Regression"
   ]
  },
  {
   "cell_type": "code",
   "execution_count": 51,
   "id": "f9b7aac4",
   "metadata": {},
   "outputs": [],
   "source": [
    "df2 = pd.read_csv('Regression.csv')"
   ]
  },
  {
   "cell_type": "code",
   "execution_count": 52,
   "id": "4f665bb7",
   "metadata": {},
   "outputs": [
    {
     "data": {
      "text/html": [
       "<div>\n",
       "<style scoped>\n",
       "    .dataframe tbody tr th:only-of-type {\n",
       "        vertical-align: middle;\n",
       "    }\n",
       "\n",
       "    .dataframe tbody tr th {\n",
       "        vertical-align: top;\n",
       "    }\n",
       "\n",
       "    .dataframe thead th {\n",
       "        text-align: right;\n",
       "    }\n",
       "</style>\n",
       "<table border=\"1\" class=\"dataframe\">\n",
       "  <thead>\n",
       "    <tr style=\"text-align: right;\">\n",
       "      <th></th>\n",
       "      <th>GPU</th>\n",
       "      <th>Framework</th>\n",
       "      <th>Dataset</th>\n",
       "      <th>Accuracy</th>\n",
       "    </tr>\n",
       "  </thead>\n",
       "  <tbody>\n",
       "    <tr>\n",
       "      <th>0</th>\n",
       "      <td>P100</td>\n",
       "      <td>Auto-Keras</td>\n",
       "      <td>boston</td>\n",
       "      <td>4343.300</td>\n",
       "    </tr>\n",
       "    <tr>\n",
       "      <th>1</th>\n",
       "      <td>P100</td>\n",
       "      <td>Tpot</td>\n",
       "      <td>boston</td>\n",
       "      <td>2653.350</td>\n",
       "    </tr>\n",
       "    <tr>\n",
       "      <th>2</th>\n",
       "      <td>P100</td>\n",
       "      <td>H2O</td>\n",
       "      <td>boston</td>\n",
       "      <td>2436.240</td>\n",
       "    </tr>\n",
       "    <tr>\n",
       "      <th>3</th>\n",
       "      <td>P100</td>\n",
       "      <td>auto-WEKA</td>\n",
       "      <td>boston</td>\n",
       "      <td>2367.120</td>\n",
       "    </tr>\n",
       "    <tr>\n",
       "      <th>4</th>\n",
       "      <td>P100</td>\n",
       "      <td>Auto-Keras</td>\n",
       "      <td>PUMA8NH</td>\n",
       "      <td>99.231</td>\n",
       "    </tr>\n",
       "  </tbody>\n",
       "</table>\n",
       "</div>"
      ],
      "text/plain": [
       "    GPU   Framework  Dataset  Accuracy\n",
       "0  P100  Auto-Keras   boston  4343.300\n",
       "1  P100        Tpot   boston  2653.350\n",
       "2  P100         H2O   boston  2436.240\n",
       "3  P100   auto-WEKA   boston  2367.120\n",
       "4  P100  Auto-Keras  PUMA8NH    99.231"
      ]
     },
     "execution_count": 52,
     "metadata": {},
     "output_type": "execute_result"
    }
   ],
   "source": [
    "df2.head()"
   ]
  },
  {
   "cell_type": "code",
   "execution_count": 53,
   "id": "a64c5564",
   "metadata": {},
   "outputs": [],
   "source": [
    "gpu_list = list(df['GPU'])\n",
    "framework_list = list(df['Framework'])"
   ]
  },
  {
   "cell_type": "code",
   "execution_count": 54,
   "id": "c6cfd021",
   "metadata": {},
   "outputs": [],
   "source": [
    "labelList = []\n",
    "for i in range(len(gpu_list)):\n",
    "    labelList.append(gpu_list[i] + framework_list[i])"
   ]
  },
  {
   "cell_type": "code",
   "execution_count": 57,
   "id": "580b22d1",
   "metadata": {},
   "outputs": [
    {
     "name": "stderr",
     "output_type": "stream",
     "text": [
      "/var/folders/g0/rmsw47910sj5k742dz3q0rvm0000gn/T/ipykernel_26199/2457299763.py:4: MatplotlibDeprecationWarning: Support for passing numbers through unit converters is deprecated since 3.5 and support will be removed two minor releases later; use Axis.convert_units instead.\n",
      "  plt.savefig(\"Dataset Vs MSE\")\n",
      "/var/folders/g0/rmsw47910sj5k742dz3q0rvm0000gn/T/ipykernel_26199/2457299763.py:4: MatplotlibDeprecationWarning: Support for passing numbers through unit converters is deprecated since 3.5 and support will be removed two minor releases later; use Axis.convert_units instead.\n",
      "  plt.savefig(\"Dataset Vs MSE\")\n",
      "/var/folders/g0/rmsw47910sj5k742dz3q0rvm0000gn/T/ipykernel_26199/2457299763.py:4: MatplotlibDeprecationWarning: Support for passing numbers through unit converters is deprecated since 3.5 and support will be removed two minor releases later; use Axis.convert_units instead.\n",
      "  plt.savefig(\"Dataset Vs MSE\")\n",
      "/var/folders/g0/rmsw47910sj5k742dz3q0rvm0000gn/T/ipykernel_26199/2457299763.py:4: MatplotlibDeprecationWarning: Support for passing numbers through unit converters is deprecated since 3.5 and support will be removed two minor releases later; use Axis.convert_units instead.\n",
      "  plt.savefig(\"Dataset Vs MSE\")\n",
      "/var/folders/g0/rmsw47910sj5k742dz3q0rvm0000gn/T/ipykernel_26199/2457299763.py:4: MatplotlibDeprecationWarning: Support for passing numbers through unit converters is deprecated since 3.5 and support will be removed two minor releases later; use Axis.convert_units instead.\n",
      "  plt.savefig(\"Dataset Vs MSE\")\n",
      "/var/folders/g0/rmsw47910sj5k742dz3q0rvm0000gn/T/ipykernel_26199/2457299763.py:4: MatplotlibDeprecationWarning: Support for passing numbers through unit converters is deprecated since 3.5 and support will be removed two minor releases later; use Axis.convert_units instead.\n",
      "  plt.savefig(\"Dataset Vs MSE\")\n",
      "/var/folders/g0/rmsw47910sj5k742dz3q0rvm0000gn/T/ipykernel_26199/2457299763.py:4: MatplotlibDeprecationWarning: Support for passing numbers through unit converters is deprecated since 3.5 and support will be removed two minor releases later; use Axis.convert_units instead.\n",
      "  plt.savefig(\"Dataset Vs MSE\")\n",
      "/var/folders/g0/rmsw47910sj5k742dz3q0rvm0000gn/T/ipykernel_26199/2457299763.py:4: MatplotlibDeprecationWarning: Support for passing numbers through unit converters is deprecated since 3.5 and support will be removed two minor releases later; use Axis.convert_units instead.\n",
      "  plt.savefig(\"Dataset Vs MSE\")\n"
     ]
    },
    {
     "data": {
      "image/png": "[encoded data removed]",
      "text/plain": [
       "<Figure size 720x432 with 1 Axes>"
      ]
     },
     "metadata": {
      "needs_background": "light"
     },
     "output_type": "display_data"
    }
   ],
   "source": [
    "plt.figure(figsize=(10,6));\n",
    "temp = sns.scatterplot(data=df2, x=\"Dataset\", y=\"Accuracy\", style=\"GPU\", hue=\"Framework\", s=50);\n",
    "temp.set_ylabel('MSE')\n",
    "plt.savefig(\"Dataset Vs MSE\")"
   ]
  },
  {
   "cell_type": "markdown",
   "id": "c96c2f3b",
   "metadata": {},
   "source": [
    "P100 GPU Performance Comparison"
   ]
  },
  {
   "cell_type": "code",
   "execution_count": 20,
   "id": "a0fe04f1",
   "metadata": {},
   "outputs": [],
   "source": [
    "df2 = pd.read_csv('colabbcmc.csv')"
   ]
  },
  {
   "cell_type": "code",
   "execution_count": 21,
   "id": "d917e551",
   "metadata": {},
   "outputs": [
    {
     "data": {
      "text/html": [
       "<div>\n",
       "<style scoped>\n",
       "    .dataframe tbody tr th:only-of-type {\n",
       "        vertical-align: middle;\n",
       "    }\n",
       "\n",
       "    .dataframe tbody tr th {\n",
       "        vertical-align: top;\n",
       "    }\n",
       "\n",
       "    .dataframe thead th {\n",
       "        text-align: right;\n",
       "    }\n",
       "</style>\n",
       "<table border=\"1\" class=\"dataframe\">\n",
       "  <thead>\n",
       "    <tr style=\"text-align: right;\">\n",
       "      <th></th>\n",
       "      <th>Task</th>\n",
       "      <th>GPU</th>\n",
       "      <th>Framework</th>\n",
       "      <th>Dataset</th>\n",
       "      <th>Accuracy</th>\n",
       "    </tr>\n",
       "  </thead>\n",
       "  <tbody>\n",
       "    <tr>\n",
       "      <th>0</th>\n",
       "      <td>Binary Classification</td>\n",
       "      <td>P100</td>\n",
       "      <td>Auto-Keras</td>\n",
       "      <td>Spambase</td>\n",
       "      <td>0.9974</td>\n",
       "    </tr>\n",
       "    <tr>\n",
       "      <th>1</th>\n",
       "      <td>Binary Classification</td>\n",
       "      <td>P100</td>\n",
       "      <td>Tpot</td>\n",
       "      <td>Spambase</td>\n",
       "      <td>0.9748</td>\n",
       "    </tr>\n",
       "    <tr>\n",
       "      <th>2</th>\n",
       "      <td>Binary Classification</td>\n",
       "      <td>P100</td>\n",
       "      <td>H2O</td>\n",
       "      <td>Spambase</td>\n",
       "      <td>0.9548</td>\n",
       "    </tr>\n",
       "    <tr>\n",
       "      <th>3</th>\n",
       "      <td>Binary Classification</td>\n",
       "      <td>P100</td>\n",
       "      <td>auto-WEKA</td>\n",
       "      <td>Spambase</td>\n",
       "      <td>0.9923</td>\n",
       "    </tr>\n",
       "    <tr>\n",
       "      <th>4</th>\n",
       "      <td>Binary Classification</td>\n",
       "      <td>P100</td>\n",
       "      <td>Auto-Keras</td>\n",
       "      <td>Adult</td>\n",
       "      <td>0.8284</td>\n",
       "    </tr>\n",
       "  </tbody>\n",
       "</table>\n",
       "</div>"
      ],
      "text/plain": [
       "                    Task   GPU   Framework   Dataset  Accuracy\n",
       "0  Binary Classification  P100  Auto-Keras  Spambase    0.9974\n",
       "1  Binary Classification  P100        Tpot  Spambase    0.9748\n",
       "2  Binary Classification  P100         H2O  Spambase    0.9548\n",
       "3  Binary Classification  P100   auto-WEKA  Spambase    0.9923\n",
       "4  Binary Classification  P100  Auto-Keras     Adult    0.8284"
      ]
     },
     "execution_count": 21,
     "metadata": {},
     "output_type": "execute_result"
    }
   ],
   "source": [
    "df2.head()"
   ]
  },
  {
   "cell_type": "code",
   "execution_count": 22,
   "id": "9c5e33e6",
   "metadata": {},
   "outputs": [],
   "source": [
    "gpu_list = list(df['GPU'])\n",
    "framework_list = list(df['Framework'])"
   ]
  },
  {
   "cell_type": "code",
   "execution_count": 23,
   "id": "793c64dc",
   "metadata": {},
   "outputs": [],
   "source": [
    "labelList = []\n",
    "for i in range(len(gpu_list)):\n",
    "    labelList.append(gpu_list[i] + framework_list[i])"
   ]
  },
  {
   "cell_type": "code",
   "execution_count": 24,
   "id": "ef3e7f76",
   "metadata": {},
   "outputs": [
    {
     "name": "stderr",
     "output_type": "stream",
     "text": [
      "/var/folders/g0/rmsw47910sj5k742dz3q0rvm0000gn/T/ipykernel_26199/3163340964.py:3: MatplotlibDeprecationWarning: Support for passing numbers through unit converters is deprecated since 3.5 and support will be removed two minor releases later; use Axis.convert_units instead.\n",
      "  plt.savefig(\"Dataset Vs Acc\")\n",
      "/var/folders/g0/rmsw47910sj5k742dz3q0rvm0000gn/T/ipykernel_26199/3163340964.py:3: MatplotlibDeprecationWarning: Support for passing numbers through unit converters is deprecated since 3.5 and support will be removed two minor releases later; use Axis.convert_units instead.\n",
      "  plt.savefig(\"Dataset Vs Acc\")\n",
      "/var/folders/g0/rmsw47910sj5k742dz3q0rvm0000gn/T/ipykernel_26199/3163340964.py:3: MatplotlibDeprecationWarning: Support for passing numbers through unit converters is deprecated since 3.5 and support will be removed two minor releases later; use Axis.convert_units instead.\n",
      "  plt.savefig(\"Dataset Vs Acc\")\n",
      "/var/folders/g0/rmsw47910sj5k742dz3q0rvm0000gn/T/ipykernel_26199/3163340964.py:3: MatplotlibDeprecationWarning: Support for passing numbers through unit converters is deprecated since 3.5 and support will be removed two minor releases later; use Axis.convert_units instead.\n",
      "  plt.savefig(\"Dataset Vs Acc\")\n",
      "/var/folders/g0/rmsw47910sj5k742dz3q0rvm0000gn/T/ipykernel_26199/3163340964.py:3: MatplotlibDeprecationWarning: Support for passing numbers through unit converters is deprecated since 3.5 and support will be removed two minor releases later; use Axis.convert_units instead.\n",
      "  plt.savefig(\"Dataset Vs Acc\")\n",
      "/var/folders/g0/rmsw47910sj5k742dz3q0rvm0000gn/T/ipykernel_26199/3163340964.py:3: MatplotlibDeprecationWarning: Support for passing numbers through unit converters is deprecated since 3.5 and support will be removed two minor releases later; use Axis.convert_units instead.\n",
      "  plt.savefig(\"Dataset Vs Acc\")\n",
      "/var/folders/g0/rmsw47910sj5k742dz3q0rvm0000gn/T/ipykernel_26199/3163340964.py:3: MatplotlibDeprecationWarning: Support for passing numbers through unit converters is deprecated since 3.5 and support will be removed two minor releases later; use Axis.convert_units instead.\n",
      "  plt.savefig(\"Dataset Vs Acc\")\n",
      "/var/folders/g0/rmsw47910sj5k742dz3q0rvm0000gn/T/ipykernel_26199/3163340964.py:3: MatplotlibDeprecationWarning: Support for passing numbers through unit converters is deprecated since 3.5 and support will be removed two minor releases later; use Axis.convert_units instead.\n",
      "  plt.savefig(\"Dataset Vs Acc\")\n"
     ]
    },
    {
     "data": {
      "image/png": "[encoded data removed]",
      "text/plain": [
       "<Figure size 720x432 with 1 Axes>"
      ]
     },
     "metadata": {
      "needs_background": "light"
     },
     "output_type": "display_data"
    }
   ],
   "source": [
    "plt.figure(figsize=(10,6));\n",
    "temp = sns.scatterplot(data=df2, x=\"Dataset\", y=\"Accuracy\", style=\"Task\", hue=\"Framework\", s=100);\n",
    "plt.savefig(\"Dataset Vs Acc\")"
   ]
  },
  {
   "cell_type": "markdown",
   "id": "d435b11e",
   "metadata": {},
   "source": [
    "V100 GPU Performance Comparison"
   ]
  },
  {
   "cell_type": "code",
   "execution_count": 25,
   "id": "95752ba4",
   "metadata": {},
   "outputs": [],
   "source": [
    "df2 = pd.read_csv('v100bcmc.csv')"
   ]
  },
  {
   "cell_type": "code",
   "execution_count": 26,
   "id": "7fcf35f6",
   "metadata": {},
   "outputs": [
    {
     "data": {
      "text/html": [
       "<div>\n",
       "<style scoped>\n",
       "    .dataframe tbody tr th:only-of-type {\n",
       "        vertical-align: middle;\n",
       "    }\n",
       "\n",
       "    .dataframe tbody tr th {\n",
       "        vertical-align: top;\n",
       "    }\n",
       "\n",
       "    .dataframe thead th {\n",
       "        text-align: right;\n",
       "    }\n",
       "</style>\n",
       "<table border=\"1\" class=\"dataframe\">\n",
       "  <thead>\n",
       "    <tr style=\"text-align: right;\">\n",
       "      <th></th>\n",
       "      <th>Task</th>\n",
       "      <th>GPU</th>\n",
       "      <th>Framework</th>\n",
       "      <th>Dataset</th>\n",
       "      <th>Accuracy</th>\n",
       "    </tr>\n",
       "  </thead>\n",
       "  <tbody>\n",
       "    <tr>\n",
       "      <th>0</th>\n",
       "      <td>Binary Classification</td>\n",
       "      <td>V100</td>\n",
       "      <td>Auto-Keras</td>\n",
       "      <td>Spambase</td>\n",
       "      <td>0.9391</td>\n",
       "    </tr>\n",
       "    <tr>\n",
       "      <th>1</th>\n",
       "      <td>Binary Classification</td>\n",
       "      <td>V100</td>\n",
       "      <td>Tpot</td>\n",
       "      <td>Spambase</td>\n",
       "      <td>0.9826</td>\n",
       "    </tr>\n",
       "    <tr>\n",
       "      <th>2</th>\n",
       "      <td>Binary Classification</td>\n",
       "      <td>V100</td>\n",
       "      <td>H2O</td>\n",
       "      <td>Spambase</td>\n",
       "      <td>0.9988</td>\n",
       "    </tr>\n",
       "    <tr>\n",
       "      <th>3</th>\n",
       "      <td>Binary Classification</td>\n",
       "      <td>V100</td>\n",
       "      <td>auto-WEKA</td>\n",
       "      <td>Spambase</td>\n",
       "      <td>0.9465</td>\n",
       "    </tr>\n",
       "    <tr>\n",
       "      <th>4</th>\n",
       "      <td>Binary Classification</td>\n",
       "      <td>V100</td>\n",
       "      <td>Auto-Keras</td>\n",
       "      <td>Adult</td>\n",
       "      <td>0.8399</td>\n",
       "    </tr>\n",
       "  </tbody>\n",
       "</table>\n",
       "</div>"
      ],
      "text/plain": [
       "                    Task   GPU   Framework   Dataset  Accuracy\n",
       "0  Binary Classification  V100  Auto-Keras  Spambase    0.9391\n",
       "1  Binary Classification  V100        Tpot  Spambase    0.9826\n",
       "2  Binary Classification  V100         H2O  Spambase    0.9988\n",
       "3  Binary Classification  V100   auto-WEKA  Spambase    0.9465\n",
       "4  Binary Classification  V100  Auto-Keras     Adult    0.8399"
      ]
     },
     "execution_count": 26,
     "metadata": {},
     "output_type": "execute_result"
    }
   ],
   "source": [
    "df2.head()"
   ]
  },
  {
   "cell_type": "code",
   "execution_count": 27,
   "id": "232e0114",
   "metadata": {},
   "outputs": [],
   "source": [
    "gpu_list = list(df['GPU'])\n",
    "framework_list = list(df['Framework'])"
   ]
  },
  {
   "cell_type": "code",
   "execution_count": 28,
   "id": "9d015200",
   "metadata": {},
   "outputs": [],
   "source": [
    "labelList = []\n",
    "for i in range(len(gpu_list)):\n",
    "    labelList.append(gpu_list[i] + framework_list[i])"
   ]
  },
  {
   "cell_type": "code",
   "execution_count": 29,
   "id": "17388b1c",
   "metadata": {
    "scrolled": false
   },
   "outputs": [
    {
     "name": "stderr",
     "output_type": "stream",
     "text": [
      "/var/folders/g0/rmsw47910sj5k742dz3q0rvm0000gn/T/ipykernel_26199/3163340964.py:3: MatplotlibDeprecationWarning: Support for passing numbers through unit converters is deprecated since 3.5 and support will be removed two minor releases later; use Axis.convert_units instead.\n",
      "  plt.savefig(\"Dataset Vs Acc\")\n",
      "/var/folders/g0/rmsw47910sj5k742dz3q0rvm0000gn/T/ipykernel_26199/3163340964.py:3: MatplotlibDeprecationWarning: Support for passing numbers through unit converters is deprecated since 3.5 and support will be removed two minor releases later; use Axis.convert_units instead.\n",
      "  plt.savefig(\"Dataset Vs Acc\")\n",
      "/var/folders/g0/rmsw47910sj5k742dz3q0rvm0000gn/T/ipykernel_26199/3163340964.py:3: MatplotlibDeprecationWarning: Support for passing numbers through unit converters is deprecated since 3.5 and support will be removed two minor releases later; use Axis.convert_units instead.\n",
      "  plt.savefig(\"Dataset Vs Acc\")\n",
      "/var/folders/g0/rmsw47910sj5k742dz3q0rvm0000gn/T/ipykernel_26199/3163340964.py:3: MatplotlibDeprecationWarning: Support for passing numbers through unit converters is deprecated since 3.5 and support will be removed two minor releases later; use Axis.convert_units instead.\n",
      "  plt.savefig(\"Dataset Vs Acc\")\n",
      "/var/folders/g0/rmsw47910sj5k742dz3q0rvm0000gn/T/ipykernel_26199/3163340964.py:3: MatplotlibDeprecationWarning: Support for passing numbers through unit converters is deprecated since 3.5 and support will be removed two minor releases later; use Axis.convert_units instead.\n",
      "  plt.savefig(\"Dataset Vs Acc\")\n",
      "/var/folders/g0/rmsw47910sj5k742dz3q0rvm0000gn/T/ipykernel_26199/3163340964.py:3: MatplotlibDeprecationWarning: Support for passing numbers through unit converters is deprecated since 3.5 and support will be removed two minor releases later; use Axis.convert_units instead.\n",
      "  plt.savefig(\"Dataset Vs Acc\")\n",
      "/var/folders/g0/rmsw47910sj5k742dz3q0rvm0000gn/T/ipykernel_26199/3163340964.py:3: MatplotlibDeprecationWarning: Support for passing numbers through unit converters is deprecated since 3.5 and support will be removed two minor releases later; use Axis.convert_units instead.\n",
      "  plt.savefig(\"Dataset Vs Acc\")\n",
      "/var/folders/g0/rmsw47910sj5k742dz3q0rvm0000gn/T/ipykernel_26199/3163340964.py:3: MatplotlibDeprecationWarning: Support for passing numbers through unit converters is deprecated since 3.5 and support will be removed two minor releases later; use Axis.convert_units instead.\n",
      "  plt.savefig(\"Dataset Vs Acc\")\n"
     ]
    },
    {
     "data": {
      "image/png": "[encoded data removed]",
      "text/plain": [
       "<Figure size 720x432 with 1 Axes>"
      ]
     },
     "metadata": {
      "needs_background": "light"
     },
     "output_type": "display_data"
    }
   ],
   "source": [
    "plt.figure(figsize=(10,6));\n",
    "temp = sns.scatterplot(data=df2, x=\"Dataset\", y=\"Accuracy\", style=\"Task\", hue=\"Framework\", s=100);\n",
    "plt.savefig(\"Dataset Vs Acc\")"
   ]
  },
  {
   "cell_type": "markdown",
   "id": "9d580602",
   "metadata": {},
   "source": [
    "RTX8000 GPU Performance Comparison"
   ]
  },
  {
   "cell_type": "code",
   "execution_count": 30,
   "id": "acbc69d8",
   "metadata": {},
   "outputs": [],
   "source": [
    "df2 = pd.read_csv('rtx8000bcmc.csv')"
   ]
  },
  {
   "cell_type": "code",
   "execution_count": 31,
   "id": "4c9ba88b",
   "metadata": {},
   "outputs": [
    {
     "data": {
      "text/html": [
       "<div>\n",
       "<style scoped>\n",
       "    .dataframe tbody tr th:only-of-type {\n",
       "        vertical-align: middle;\n",
       "    }\n",
       "\n",
       "    .dataframe tbody tr th {\n",
       "        vertical-align: top;\n",
       "    }\n",
       "\n",
       "    .dataframe thead th {\n",
       "        text-align: right;\n",
       "    }\n",
       "</style>\n",
       "<table border=\"1\" class=\"dataframe\">\n",
       "  <thead>\n",
       "    <tr style=\"text-align: right;\">\n",
       "      <th></th>\n",
       "      <th>Task</th>\n",
       "      <th>GPU</th>\n",
       "      <th>Framework</th>\n",
       "      <th>Dataset</th>\n",
       "      <th>Accuracy</th>\n",
       "    </tr>\n",
       "  </thead>\n",
       "  <tbody>\n",
       "    <tr>\n",
       "      <th>0</th>\n",
       "      <td>Binary Classification</td>\n",
       "      <td>RTX8000</td>\n",
       "      <td>Auto-Keras</td>\n",
       "      <td>Spambase</td>\n",
       "      <td>0.9365</td>\n",
       "    </tr>\n",
       "    <tr>\n",
       "      <th>1</th>\n",
       "      <td>Binary Classification</td>\n",
       "      <td>RTX8000</td>\n",
       "      <td>Tpot</td>\n",
       "      <td>Spambase</td>\n",
       "      <td>0.9791</td>\n",
       "    </tr>\n",
       "    <tr>\n",
       "      <th>2</th>\n",
       "      <td>Binary Classification</td>\n",
       "      <td>RTX8000</td>\n",
       "      <td>H2O</td>\n",
       "      <td>Spambase</td>\n",
       "      <td>0.9994</td>\n",
       "    </tr>\n",
       "    <tr>\n",
       "      <th>3</th>\n",
       "      <td>Binary Classification</td>\n",
       "      <td>RTX8000</td>\n",
       "      <td>auto-WEKA</td>\n",
       "      <td>Spambase</td>\n",
       "      <td>0.9843</td>\n",
       "    </tr>\n",
       "    <tr>\n",
       "      <th>4</th>\n",
       "      <td>Binary Classification</td>\n",
       "      <td>RTX8000</td>\n",
       "      <td>Auto-Keras</td>\n",
       "      <td>Adult</td>\n",
       "      <td>0.8359</td>\n",
       "    </tr>\n",
       "  </tbody>\n",
       "</table>\n",
       "</div>"
      ],
      "text/plain": [
       "                    Task      GPU   Framework   Dataset  Accuracy\n",
       "0  Binary Classification  RTX8000  Auto-Keras  Spambase    0.9365\n",
       "1  Binary Classification  RTX8000        Tpot  Spambase    0.9791\n",
       "2  Binary Classification  RTX8000         H2O  Spambase    0.9994\n",
       "3  Binary Classification  RTX8000   auto-WEKA  Spambase    0.9843\n",
       "4  Binary Classification  RTX8000  Auto-Keras     Adult    0.8359"
      ]
     },
     "execution_count": 31,
     "metadata": {},
     "output_type": "execute_result"
    }
   ],
   "source": [
    "df2.head()"
   ]
  },
  {
   "cell_type": "code",
   "execution_count": 32,
   "id": "4de5a66b",
   "metadata": {},
   "outputs": [],
   "source": [
    "gpu_list = list(df['GPU'])\n",
    "framework_list = list(df['Framework'])"
   ]
  },
  {
   "cell_type": "code",
   "execution_count": 33,
   "id": "b7a8bb2d",
   "metadata": {},
   "outputs": [],
   "source": [
    "labelList = []\n",
    "for i in range(len(gpu_list)):\n",
    "    labelList.append(gpu_list[i] + framework_list[i])"
   ]
  },
  {
   "cell_type": "code",
   "execution_count": 34,
   "id": "a312cddc",
   "metadata": {
    "scrolled": false
   },
   "outputs": [
    {
     "name": "stderr",
     "output_type": "stream",
     "text": [
      "/var/folders/g0/rmsw47910sj5k742dz3q0rvm0000gn/T/ipykernel_26199/3163340964.py:3: MatplotlibDeprecationWarning: Support for passing numbers through unit converters is deprecated since 3.5 and support will be removed two minor releases later; use Axis.convert_units instead.\n",
      "  plt.savefig(\"Dataset Vs Acc\")\n",
      "/var/folders/g0/rmsw47910sj5k742dz3q0rvm0000gn/T/ipykernel_26199/3163340964.py:3: MatplotlibDeprecationWarning: Support for passing numbers through unit converters is deprecated since 3.5 and support will be removed two minor releases later; use Axis.convert_units instead.\n",
      "  plt.savefig(\"Dataset Vs Acc\")\n",
      "/var/folders/g0/rmsw47910sj5k742dz3q0rvm0000gn/T/ipykernel_26199/3163340964.py:3: MatplotlibDeprecationWarning: Support for passing numbers through unit converters is deprecated since 3.5 and support will be removed two minor releases later; use Axis.convert_units instead.\n",
      "  plt.savefig(\"Dataset Vs Acc\")\n",
      "/var/folders/g0/rmsw47910sj5k742dz3q0rvm0000gn/T/ipykernel_26199/3163340964.py:3: MatplotlibDeprecationWarning: Support for passing numbers through unit converters is deprecated since 3.5 and support will be removed two minor releases later; use Axis.convert_units instead.\n",
      "  plt.savefig(\"Dataset Vs Acc\")\n",
      "/var/folders/g0/rmsw47910sj5k742dz3q0rvm0000gn/T/ipykernel_26199/3163340964.py:3: MatplotlibDeprecationWarning: Support for passing numbers through unit converters is deprecated since 3.5 and support will be removed two minor releases later; use Axis.convert_units instead.\n",
      "  plt.savefig(\"Dataset Vs Acc\")\n",
      "/var/folders/g0/rmsw47910sj5k742dz3q0rvm0000gn/T/ipykernel_26199/3163340964.py:3: MatplotlibDeprecationWarning: Support for passing numbers through unit converters is deprecated since 3.5 and support will be removed two minor releases later; use Axis.convert_units instead.\n",
      "  plt.savefig(\"Dataset Vs Acc\")\n",
      "/var/folders/g0/rmsw47910sj5k742dz3q0rvm0000gn/T/ipykernel_26199/3163340964.py:3: MatplotlibDeprecationWarning: Support for passing numbers through unit converters is deprecated since 3.5 and support will be removed two minor releases later; use Axis.convert_units instead.\n",
      "  plt.savefig(\"Dataset Vs Acc\")\n",
      "/var/folders/g0/rmsw47910sj5k742dz3q0rvm0000gn/T/ipykernel_26199/3163340964.py:3: MatplotlibDeprecationWarning: Support for passing numbers through unit converters is deprecated since 3.5 and support will be removed two minor releases later; use Axis.convert_units instead.\n",
      "  plt.savefig(\"Dataset Vs Acc\")\n"
     ]
    },
    {
     "data": {
      "image/png": "[encoded data removed]",
      "text/plain": [
       "<Figure size 720x432 with 1 Axes>"
      ]
     },
     "metadata": {
      "needs_background": "light"
     },
     "output_type": "display_data"
    }
   ],
   "source": [
    "plt.figure(figsize=(10,6));\n",
    "temp = sns.scatterplot(data=df2, x=\"Dataset\", y=\"Accuracy\", style=\"Task\", hue=\"Framework\", s=100);\n",
    "plt.savefig(\"Dataset Vs Acc\")"
   ]
  },
  {
   "cell_type": "markdown",
   "id": "8a7c7c6c",
   "metadata": {},
   "source": [
    "Regression performance P100 GPU"
   ]
  },
  {
   "cell_type": "code",
   "execution_count": 35,
   "id": "d852fb42",
   "metadata": {},
   "outputs": [],
   "source": [
    "df2 = pd.read_csv('colabR.csv')"
   ]
  },
  {
   "cell_type": "code",
   "execution_count": 36,
   "id": "d9abfdec",
   "metadata": {},
   "outputs": [
    {
     "data": {
      "text/html": [
       "<div>\n",
       "<style scoped>\n",
       "    .dataframe tbody tr th:only-of-type {\n",
       "        vertical-align: middle;\n",
       "    }\n",
       "\n",
       "    .dataframe tbody tr th {\n",
       "        vertical-align: top;\n",
       "    }\n",
       "\n",
       "    .dataframe thead th {\n",
       "        text-align: right;\n",
       "    }\n",
       "</style>\n",
       "<table border=\"1\" class=\"dataframe\">\n",
       "  <thead>\n",
       "    <tr style=\"text-align: right;\">\n",
       "      <th></th>\n",
       "      <th>Task</th>\n",
       "      <th>GPU</th>\n",
       "      <th>Framework</th>\n",
       "      <th>Dataset</th>\n",
       "      <th>Accuracy</th>\n",
       "    </tr>\n",
       "  </thead>\n",
       "  <tbody>\n",
       "    <tr>\n",
       "      <th>0</th>\n",
       "      <td>Regression</td>\n",
       "      <td>P100</td>\n",
       "      <td>Auto-Keras</td>\n",
       "      <td>boston</td>\n",
       "      <td>4343.300</td>\n",
       "    </tr>\n",
       "    <tr>\n",
       "      <th>1</th>\n",
       "      <td>Regression</td>\n",
       "      <td>P100</td>\n",
       "      <td>Tpot</td>\n",
       "      <td>boston</td>\n",
       "      <td>2653.350</td>\n",
       "    </tr>\n",
       "    <tr>\n",
       "      <th>2</th>\n",
       "      <td>Regression</td>\n",
       "      <td>P100</td>\n",
       "      <td>H2O</td>\n",
       "      <td>boston</td>\n",
       "      <td>2436.240</td>\n",
       "    </tr>\n",
       "    <tr>\n",
       "      <th>3</th>\n",
       "      <td>Regression</td>\n",
       "      <td>P100</td>\n",
       "      <td>auto-WEKA</td>\n",
       "      <td>boston</td>\n",
       "      <td>2367.120</td>\n",
       "    </tr>\n",
       "    <tr>\n",
       "      <th>4</th>\n",
       "      <td>Regression</td>\n",
       "      <td>P100</td>\n",
       "      <td>Auto-Keras</td>\n",
       "      <td>PUMA8NH</td>\n",
       "      <td>99.231</td>\n",
       "    </tr>\n",
       "  </tbody>\n",
       "</table>\n",
       "</div>"
      ],
      "text/plain": [
       "         Task   GPU   Framework  Dataset  Accuracy\n",
       "0  Regression  P100  Auto-Keras   boston  4343.300\n",
       "1  Regression  P100        Tpot   boston  2653.350\n",
       "2  Regression  P100         H2O   boston  2436.240\n",
       "3  Regression  P100   auto-WEKA   boston  2367.120\n",
       "4  Regression  P100  Auto-Keras  PUMA8NH    99.231"
      ]
     },
     "execution_count": 36,
     "metadata": {},
     "output_type": "execute_result"
    }
   ],
   "source": [
    "df2.head()"
   ]
  },
  {
   "cell_type": "code",
   "execution_count": 37,
   "id": "a95fc70b",
   "metadata": {},
   "outputs": [],
   "source": [
    "gpu_list = list(df['GPU'])\n",
    "framework_list = list(df['Framework'])"
   ]
  },
  {
   "cell_type": "code",
   "execution_count": 38,
   "id": "04cf0600",
   "metadata": {},
   "outputs": [],
   "source": [
    "labelList = []\n",
    "for i in range(len(gpu_list)):\n",
    "    labelList.append(gpu_list[i] + framework_list[i])"
   ]
  },
  {
   "cell_type": "code",
   "execution_count": 39,
   "id": "4a510e83",
   "metadata": {
    "scrolled": false
   },
   "outputs": [
    {
     "name": "stderr",
     "output_type": "stream",
     "text": [
      "/var/folders/g0/rmsw47910sj5k742dz3q0rvm0000gn/T/ipykernel_26199/3156301919.py:4: MatplotlibDeprecationWarning: Support for passing numbers through unit converters is deprecated since 3.5 and support will be removed two minor releases later; use Axis.convert_units instead.\n",
      "  plt.savefig(\"Dataset Vs MSE\")\n",
      "/var/folders/g0/rmsw47910sj5k742dz3q0rvm0000gn/T/ipykernel_26199/3156301919.py:4: MatplotlibDeprecationWarning: Support for passing numbers through unit converters is deprecated since 3.5 and support will be removed two minor releases later; use Axis.convert_units instead.\n",
      "  plt.savefig(\"Dataset Vs MSE\")\n",
      "/var/folders/g0/rmsw47910sj5k742dz3q0rvm0000gn/T/ipykernel_26199/3156301919.py:4: MatplotlibDeprecationWarning: Support for passing numbers through unit converters is deprecated since 3.5 and support will be removed two minor releases later; use Axis.convert_units instead.\n",
      "  plt.savefig(\"Dataset Vs MSE\")\n",
      "/var/folders/g0/rmsw47910sj5k742dz3q0rvm0000gn/T/ipykernel_26199/3156301919.py:4: MatplotlibDeprecationWarning: Support for passing numbers through unit converters is deprecated since 3.5 and support will be removed two minor releases later; use Axis.convert_units instead.\n",
      "  plt.savefig(\"Dataset Vs MSE\")\n",
      "/var/folders/g0/rmsw47910sj5k742dz3q0rvm0000gn/T/ipykernel_26199/3156301919.py:4: MatplotlibDeprecationWarning: Support for passing numbers through unit converters is deprecated since 3.5 and support will be removed two minor releases later; use Axis.convert_units instead.\n",
      "  plt.savefig(\"Dataset Vs MSE\")\n",
      "/var/folders/g0/rmsw47910sj5k742dz3q0rvm0000gn/T/ipykernel_26199/3156301919.py:4: MatplotlibDeprecationWarning: Support for passing numbers through unit converters is deprecated since 3.5 and support will be removed two minor releases later; use Axis.convert_units instead.\n",
      "  plt.savefig(\"Dataset Vs MSE\")\n",
      "/var/folders/g0/rmsw47910sj5k742dz3q0rvm0000gn/T/ipykernel_26199/3156301919.py:4: MatplotlibDeprecationWarning: Support for passing numbers through unit converters is deprecated since 3.5 and support will be removed two minor releases later; use Axis.convert_units instead.\n",
      "  plt.savefig(\"Dataset Vs MSE\")\n",
      "/var/folders/g0/rmsw47910sj5k742dz3q0rvm0000gn/T/ipykernel_26199/3156301919.py:4: MatplotlibDeprecationWarning: Support for passing numbers through unit converters is deprecated since 3.5 and support will be removed two minor releases later; use Axis.convert_units instead.\n",
      "  plt.savefig(\"Dataset Vs MSE\")\n"
     ]
    },
    {
     "data": {
      "image/png": "[encoded data removed]",
      "text/plain": [
       "<Figure size 720x432 with 1 Axes>"
      ]
     },
     "metadata": {
      "needs_background": "light"
     },
     "output_type": "display_data"
    }
   ],
   "source": [
    "plt.figure(figsize=(10,6));\n",
    "temp = sns.scatterplot(data=df2, x=\"Dataset\", y=\"Accuracy\", style=\"Task\", hue=\"Framework\", s=100);\n",
    "temp.set_xlabel(\"MSE\")\n",
    "plt.savefig(\"Dataset Vs MSE\")"
   ]
  },
  {
   "cell_type": "markdown",
   "id": "19c881b5",
   "metadata": {},
   "source": [
    "Regression performance V100 GPU"
   ]
  },
  {
   "cell_type": "code",
   "execution_count": 40,
   "id": "f17e291e",
   "metadata": {},
   "outputs": [],
   "source": [
    "df2 = pd.read_csv('v100R.csv')"
   ]
  },
  {
   "cell_type": "code",
   "execution_count": 41,
   "id": "7748fadf",
   "metadata": {},
   "outputs": [
    {
     "data": {
      "text/html": [
       "<div>\n",
       "<style scoped>\n",
       "    .dataframe tbody tr th:only-of-type {\n",
       "        vertical-align: middle;\n",
       "    }\n",
       "\n",
       "    .dataframe tbody tr th {\n",
       "        vertical-align: top;\n",
       "    }\n",
       "\n",
       "    .dataframe thead th {\n",
       "        text-align: right;\n",
       "    }\n",
       "</style>\n",
       "<table border=\"1\" class=\"dataframe\">\n",
       "  <thead>\n",
       "    <tr style=\"text-align: right;\">\n",
       "      <th></th>\n",
       "      <th>Task</th>\n",
       "      <th>GPU</th>\n",
       "      <th>Framework</th>\n",
       "      <th>Dataset</th>\n",
       "      <th>Accuracy</th>\n",
       "    </tr>\n",
       "  </thead>\n",
       "  <tbody>\n",
       "    <tr>\n",
       "      <th>0</th>\n",
       "      <td>Regression</td>\n",
       "      <td>V100</td>\n",
       "      <td>Auto-Keras</td>\n",
       "      <td>boston</td>\n",
       "      <td>4481.690</td>\n",
       "    </tr>\n",
       "    <tr>\n",
       "      <th>1</th>\n",
       "      <td>Regression</td>\n",
       "      <td>V100</td>\n",
       "      <td>Tpot</td>\n",
       "      <td>boston</td>\n",
       "      <td>2637.440</td>\n",
       "    </tr>\n",
       "    <tr>\n",
       "      <th>2</th>\n",
       "      <td>Regression</td>\n",
       "      <td>V100</td>\n",
       "      <td>H2O</td>\n",
       "      <td>boston</td>\n",
       "      <td>2567.230</td>\n",
       "    </tr>\n",
       "    <tr>\n",
       "      <th>3</th>\n",
       "      <td>Regression</td>\n",
       "      <td>V100</td>\n",
       "      <td>auto-WEKA</td>\n",
       "      <td>boston</td>\n",
       "      <td>2678.980</td>\n",
       "    </tr>\n",
       "    <tr>\n",
       "      <th>4</th>\n",
       "      <td>Regression</td>\n",
       "      <td>V100</td>\n",
       "      <td>Auto-Keras</td>\n",
       "      <td>PUMA8NH</td>\n",
       "      <td>88.611</td>\n",
       "    </tr>\n",
       "  </tbody>\n",
       "</table>\n",
       "</div>"
      ],
      "text/plain": [
       "         Task   GPU   Framework  Dataset  Accuracy\n",
       "0  Regression  V100  Auto-Keras   boston  4481.690\n",
       "1  Regression  V100        Tpot   boston  2637.440\n",
       "2  Regression  V100         H2O   boston  2567.230\n",
       "3  Regression  V100   auto-WEKA   boston  2678.980\n",
       "4  Regression  V100  Auto-Keras  PUMA8NH    88.611"
      ]
     },
     "execution_count": 41,
     "metadata": {},
     "output_type": "execute_result"
    }
   ],
   "source": [
    "df2.head()"
   ]
  },
  {
   "cell_type": "code",
   "execution_count": 42,
   "id": "3ad2bdb4",
   "metadata": {},
   "outputs": [],
   "source": [
    "gpu_list = list(df['GPU'])\n",
    "framework_list = list(df['Framework'])"
   ]
  },
  {
   "cell_type": "code",
   "execution_count": 43,
   "id": "1459f7c8",
   "metadata": {},
   "outputs": [],
   "source": [
    "labelList = []\n",
    "for i in range(len(gpu_list)):\n",
    "    labelList.append(gpu_list[i] + framework_list[i])"
   ]
  },
  {
   "cell_type": "code",
   "execution_count": 44,
   "id": "654da574",
   "metadata": {
    "scrolled": false
   },
   "outputs": [
    {
     "name": "stderr",
     "output_type": "stream",
     "text": [
      "/var/folders/g0/rmsw47910sj5k742dz3q0rvm0000gn/T/ipykernel_26199/3156301919.py:4: MatplotlibDeprecationWarning: Support for passing numbers through unit converters is deprecated since 3.5 and support will be removed two minor releases later; use Axis.convert_units instead.\n",
      "  plt.savefig(\"Dataset Vs MSE\")\n",
      "/var/folders/g0/rmsw47910sj5k742dz3q0rvm0000gn/T/ipykernel_26199/3156301919.py:4: MatplotlibDeprecationWarning: Support for passing numbers through unit converters is deprecated since 3.5 and support will be removed two minor releases later; use Axis.convert_units instead.\n",
      "  plt.savefig(\"Dataset Vs MSE\")\n",
      "/var/folders/g0/rmsw47910sj5k742dz3q0rvm0000gn/T/ipykernel_26199/3156301919.py:4: MatplotlibDeprecationWarning: Support for passing numbers through unit converters is deprecated since 3.5 and support will be removed two minor releases later; use Axis.convert_units instead.\n",
      "  plt.savefig(\"Dataset Vs MSE\")\n",
      "/var/folders/g0/rmsw47910sj5k742dz3q0rvm0000gn/T/ipykernel_26199/3156301919.py:4: MatplotlibDeprecationWarning: Support for passing numbers through unit converters is deprecated since 3.5 and support will be removed two minor releases later; use Axis.convert_units instead.\n",
      "  plt.savefig(\"Dataset Vs MSE\")\n",
      "/var/folders/g0/rmsw47910sj5k742dz3q0rvm0000gn/T/ipykernel_26199/3156301919.py:4: MatplotlibDeprecationWarning: Support for passing numbers through unit converters is deprecated since 3.5 and support will be removed two minor releases later; use Axis.convert_units instead.\n",
      "  plt.savefig(\"Dataset Vs MSE\")\n",
      "/var/folders/g0/rmsw47910sj5k742dz3q0rvm0000gn/T/ipykernel_26199/3156301919.py:4: MatplotlibDeprecationWarning: Support for passing numbers through unit converters is deprecated since 3.5 and support will be removed two minor releases later; use Axis.convert_units instead.\n",
      "  plt.savefig(\"Dataset Vs MSE\")\n",
      "/var/folders/g0/rmsw47910sj5k742dz3q0rvm0000gn/T/ipykernel_26199/3156301919.py:4: MatplotlibDeprecationWarning: Support for passing numbers through unit converters is deprecated since 3.5 and support will be removed two minor releases later; use Axis.convert_units instead.\n",
      "  plt.savefig(\"Dataset Vs MSE\")\n",
      "/var/folders/g0/rmsw47910sj5k742dz3q0rvm0000gn/T/ipykernel_26199/3156301919.py:4: MatplotlibDeprecationWarning: Support for passing numbers through unit converters is deprecated since 3.5 and support will be removed two minor releases later; use Axis.convert_units instead.\n",
      "  plt.savefig(\"Dataset Vs MSE\")\n"
     ]
    },
    {
     "data": {
      "image/png": "[encoded data removed]",
      "text/plain": [
       "<Figure size 720x432 with 1 Axes>"
      ]
     },
     "metadata": {
      "needs_background": "light"
     },
     "output_type": "display_data"
    }
   ],
   "source": [
    "plt.figure(figsize=(10,6));\n",
    "temp = sns.scatterplot(data=df2, x=\"Dataset\", y=\"Accuracy\", style=\"Task\", hue=\"Framework\", s=100);\n",
    "temp.set_xlabel(\"MSE\")\n",
    "plt.savefig(\"Dataset Vs MSE\")"
   ]
  },
  {
   "cell_type": "markdown",
   "id": "da978f42",
   "metadata": {},
   "source": [
    "Regression performance RTX8000 GPU"
   ]
  },
  {
   "cell_type": "code",
   "execution_count": 58,
   "id": "269b3f17",
   "metadata": {},
   "outputs": [],
   "source": [
    "df2 = pd.read_csv('rtx8000R.csv')"
   ]
  },
  {
   "cell_type": "code",
   "execution_count": 59,
   "id": "d909902c",
   "metadata": {},
   "outputs": [
    {
     "data": {
      "text/html": [
       "<div>\n",
       "<style scoped>\n",
       "    .dataframe tbody tr th:only-of-type {\n",
       "        vertical-align: middle;\n",
       "    }\n",
       "\n",
       "    .dataframe tbody tr th {\n",
       "        vertical-align: top;\n",
       "    }\n",
       "\n",
       "    .dataframe thead th {\n",
       "        text-align: right;\n",
       "    }\n",
       "</style>\n",
       "<table border=\"1\" class=\"dataframe\">\n",
       "  <thead>\n",
       "    <tr style=\"text-align: right;\">\n",
       "      <th></th>\n",
       "      <th>Task</th>\n",
       "      <th>GPU</th>\n",
       "      <th>Framework</th>\n",
       "      <th>Dataset</th>\n",
       "      <th>MSE</th>\n",
       "    </tr>\n",
       "  </thead>\n",
       "  <tbody>\n",
       "    <tr>\n",
       "      <th>0</th>\n",
       "      <td>Regression</td>\n",
       "      <td>RTX8000</td>\n",
       "      <td>Auto-Keras</td>\n",
       "      <td>boston</td>\n",
       "      <td>4690.730</td>\n",
       "    </tr>\n",
       "    <tr>\n",
       "      <th>1</th>\n",
       "      <td>Regression</td>\n",
       "      <td>RTX8000</td>\n",
       "      <td>Tpot</td>\n",
       "      <td>boston</td>\n",
       "      <td>2637.440</td>\n",
       "    </tr>\n",
       "    <tr>\n",
       "      <th>2</th>\n",
       "      <td>Regression</td>\n",
       "      <td>RTX8000</td>\n",
       "      <td>H2O</td>\n",
       "      <td>boston</td>\n",
       "      <td>2742.340</td>\n",
       "    </tr>\n",
       "    <tr>\n",
       "      <th>3</th>\n",
       "      <td>Regression</td>\n",
       "      <td>RTX8000</td>\n",
       "      <td>auto-WEKA</td>\n",
       "      <td>boston</td>\n",
       "      <td>2547.230</td>\n",
       "    </tr>\n",
       "    <tr>\n",
       "      <th>4</th>\n",
       "      <td>Regression</td>\n",
       "      <td>RTX8000</td>\n",
       "      <td>Auto-Keras</td>\n",
       "      <td>PUMA8NH</td>\n",
       "      <td>89.323</td>\n",
       "    </tr>\n",
       "  </tbody>\n",
       "</table>\n",
       "</div>"
      ],
      "text/plain": [
       "         Task      GPU   Framework  Dataset       MSE\n",
       "0  Regression  RTX8000  Auto-Keras   boston  4690.730\n",
       "1  Regression  RTX8000        Tpot   boston  2637.440\n",
       "2  Regression  RTX8000         H2O   boston  2742.340\n",
       "3  Regression  RTX8000   auto-WEKA   boston  2547.230\n",
       "4  Regression  RTX8000  Auto-Keras  PUMA8NH    89.323"
      ]
     },
     "execution_count": 59,
     "metadata": {},
     "output_type": "execute_result"
    }
   ],
   "source": [
    "df2.head()"
   ]
  },
  {
   "cell_type": "code",
   "execution_count": 60,
   "id": "9e9a80a1",
   "metadata": {},
   "outputs": [],
   "source": [
    "gpu_list = list(df['GPU'])\n",
    "framework_list = list(df['Framework'])"
   ]
  },
  {
   "cell_type": "code",
   "execution_count": 61,
   "id": "fc9d1707",
   "metadata": {},
   "outputs": [],
   "source": [
    "labelList = []\n",
    "for i in range(len(gpu_list)):\n",
    "    labelList.append(gpu_list[i] + framework_list[i])"
   ]
  },
  {
   "cell_type": "code",
   "execution_count": 62,
   "id": "c6d07be4",
   "metadata": {
    "scrolled": false
   },
   "outputs": [
    {
     "name": "stderr",
     "output_type": "stream",
     "text": [
      "/var/folders/g0/rmsw47910sj5k742dz3q0rvm0000gn/T/ipykernel_26199/2365933509.py:4: MatplotlibDeprecationWarning: Support for passing numbers through unit converters is deprecated since 3.5 and support will be removed two minor releases later; use Axis.convert_units instead.\n",
      "  plt.savefig(\"Dataset Vs MSE\")\n",
      "/var/folders/g0/rmsw47910sj5k742dz3q0rvm0000gn/T/ipykernel_26199/2365933509.py:4: MatplotlibDeprecationWarning: Support for passing numbers through unit converters is deprecated since 3.5 and support will be removed two minor releases later; use Axis.convert_units instead.\n",
      "  plt.savefig(\"Dataset Vs MSE\")\n",
      "/var/folders/g0/rmsw47910sj5k742dz3q0rvm0000gn/T/ipykernel_26199/2365933509.py:4: MatplotlibDeprecationWarning: Support for passing numbers through unit converters is deprecated since 3.5 and support will be removed two minor releases later; use Axis.convert_units instead.\n",
      "  plt.savefig(\"Dataset Vs MSE\")\n",
      "/var/folders/g0/rmsw47910sj5k742dz3q0rvm0000gn/T/ipykernel_26199/2365933509.py:4: MatplotlibDeprecationWarning: Support for passing numbers through unit converters is deprecated since 3.5 and support will be removed two minor releases later; use Axis.convert_units instead.\n",
      "  plt.savefig(\"Dataset Vs MSE\")\n",
      "/var/folders/g0/rmsw47910sj5k742dz3q0rvm0000gn/T/ipykernel_26199/2365933509.py:4: MatplotlibDeprecationWarning: Support for passing numbers through unit converters is deprecated since 3.5 and support will be removed two minor releases later; use Axis.convert_units instead.\n",
      "  plt.savefig(\"Dataset Vs MSE\")\n",
      "/var/folders/g0/rmsw47910sj5k742dz3q0rvm0000gn/T/ipykernel_26199/2365933509.py:4: MatplotlibDeprecationWarning: Support for passing numbers through unit converters is deprecated since 3.5 and support will be removed two minor releases later; use Axis.convert_units instead.\n",
      "  plt.savefig(\"Dataset Vs MSE\")\n",
      "/var/folders/g0/rmsw47910sj5k742dz3q0rvm0000gn/T/ipykernel_26199/2365933509.py:4: MatplotlibDeprecationWarning: Support for passing numbers through unit converters is deprecated since 3.5 and support will be removed two minor releases later; use Axis.convert_units instead.\n",
      "  plt.savefig(\"Dataset Vs MSE\")\n",
      "/var/folders/g0/rmsw47910sj5k742dz3q0rvm0000gn/T/ipykernel_26199/2365933509.py:4: MatplotlibDeprecationWarning: Support for passing numbers through unit converters is deprecated since 3.5 and support will be removed two minor releases later; use Axis.convert_units instead.\n",
      "  plt.savefig(\"Dataset Vs MSE\")\n"
     ]
    },
    {
     "data": {
      "image/png": "[encoded data removed]",
      "text/plain": [
       "<Figure size 720x432 with 1 Axes>"
      ]
     },
     "metadata": {
      "needs_background": "light"
     },
     "output_type": "display_data"
    }
   ],
   "source": [
    "plt.figure(figsize=(10,6));\n",
    "temp = sns.scatterplot(data=df2, x=\"Dataset\", y=\"MSE\", style=\"Task\", hue=\"Framework\", s=100);\n",
    "temp.set_ylabel(\"MSE\")\n",
    "plt.savefig(\"Dataset Vs MSE\")"
   ]
  },
  {
   "cell_type": "code",
   "execution_count": null,
   "id": "2a2f89e0",
   "metadata": {},
   "outputs": [],
   "source": []
  }
 ],
 "metadata": {
  "kernelspec": {
   "display_name": "adlvenv",
   "language": "python",
   "name": "adlvenv"
  },
  "language_info": {
   "codemirror_mode": {
    "name": "ipython",
    "version": 3
   },
   "file_extension": ".py",
   "mimetype": "text/x-python",
   "name": "python",
   "nbconvert_exporter": "python",
   "pygments_lexer": "ipython3",
   "version": "3.9.10"
  }
 },
 "nbformat": 4,
 "nbformat_minor": 5
}
