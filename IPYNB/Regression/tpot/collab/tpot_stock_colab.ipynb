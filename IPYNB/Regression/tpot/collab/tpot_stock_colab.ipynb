{
  "cells": [
    {
      "cell_type": "code",
      "execution_count": null,
      "metadata": {
        "colab": {
          "base_uri": "https://localhost:8080/"
        },
        "id": "ycR0TxE_e4YA",
        "outputId": "40bc8e6b-35ea-4917-fa60-1856cd9ada48"
      },
      "outputs": [
        {
          "output_type": "stream",
          "name": "stdout",
          "text": [
            "Collecting tpot\n",
            "  Downloading TPOT-0.11.7-py3-none-any.whl (87 kB)\n",
            "\u001b[?25l\r\u001b[K     |███▊                            | 10 kB 24.5 MB/s eta 0:00:01\r\u001b[K     |███████▌                        | 20 kB 22.0 MB/s eta 0:00:01\r\u001b[K     |███████████▎                    | 30 kB 10.9 MB/s eta 0:00:01\r\u001b[K     |███████████████                 | 40 kB 4.5 MB/s eta 0:00:01\r\u001b[K     |██████████████████▉             | 51 kB 4.4 MB/s eta 0:00:01\r\u001b[K     |██████████████████████▋         | 61 kB 5.2 MB/s eta 0:00:01\r\u001b[K     |██████████████████████████▎     | 71 kB 5.7 MB/s eta 0:00:01\r\u001b[K     |██████████████████████████████  | 81 kB 6.0 MB/s eta 0:00:01\r\u001b[K     |████████████████████████████████| 87 kB 3.2 MB/s \n",
            "\u001b[?25hRequirement already satisfied: scipy>=1.3.1 in /usr/local/lib/python3.7/dist-packages (from tpot) (1.4.1)\n",
            "Collecting update-checker>=0.16\n",
            "  Downloading update_checker-0.18.0-py3-none-any.whl (7.0 kB)\n",
            "Requirement already satisfied: pandas>=0.24.2 in /usr/local/lib/python3.7/dist-packages (from tpot) (1.3.5)\n",
            "Requirement already satisfied: joblib>=0.13.2 in /usr/local/lib/python3.7/dist-packages (from tpot) (1.1.0)\n",
            "Collecting xgboost>=1.1.0\n",
            "  Downloading xgboost-1.6.0-py3-none-manylinux2014_x86_64.whl (193.7 MB)\n",
            "\u001b[K     |████████████████████████████████| 193.7 MB 31 kB/s \n",
            "\u001b[?25hRequirement already satisfied: numpy>=1.16.3 in /usr/local/lib/python3.7/dist-packages (from tpot) (1.21.6)\n",
            "Requirement already satisfied: tqdm>=4.36.1 in /usr/local/lib/python3.7/dist-packages (from tpot) (4.64.0)\n",
            "Collecting deap>=1.2\n",
            "  Downloading deap-1.3.1-cp37-cp37m-manylinux_2_5_x86_64.manylinux1_x86_64.manylinux_2_12_x86_64.manylinux2010_x86_64.whl (160 kB)\n",
            "\u001b[K     |████████████████████████████████| 160 kB 40.8 MB/s \n",
            "\u001b[?25hCollecting stopit>=1.1.1\n",
            "  Downloading stopit-1.1.2.tar.gz (18 kB)\n",
            "Requirement already satisfied: scikit-learn>=0.22.0 in /usr/local/lib/python3.7/dist-packages (from tpot) (1.0.2)\n",
            "Requirement already satisfied: pytz>=2017.3 in /usr/local/lib/python3.7/dist-packages (from pandas>=0.24.2->tpot) (2022.1)\n",
            "Requirement already satisfied: python-dateutil>=2.7.3 in /usr/local/lib/python3.7/dist-packages (from pandas>=0.24.2->tpot) (2.8.2)\n",
            "Requirement already satisfied: six>=1.5 in /usr/local/lib/python3.7/dist-packages (from python-dateutil>=2.7.3->pandas>=0.24.2->tpot) (1.15.0)\n",
            "Requirement already satisfied: threadpoolctl>=2.0.0 in /usr/local/lib/python3.7/dist-packages (from scikit-learn>=0.22.0->tpot) (3.1.0)\n",
            "Requirement already satisfied: requests>=2.3.0 in /usr/local/lib/python3.7/dist-packages (from update-checker>=0.16->tpot) (2.23.0)\n",
            "Requirement already satisfied: chardet<4,>=3.0.2 in /usr/local/lib/python3.7/dist-packages (from requests>=2.3.0->update-checker>=0.16->tpot) (3.0.4)\n",
            "Requirement already satisfied: idna<3,>=2.5 in /usr/local/lib/python3.7/dist-packages (from requests>=2.3.0->update-checker>=0.16->tpot) (2.10)\n",
            "Requirement already satisfied: certifi>=2017.4.17 in /usr/local/lib/python3.7/dist-packages (from requests>=2.3.0->update-checker>=0.16->tpot) (2021.10.8)\n",
            "Requirement already satisfied: urllib3!=1.25.0,!=1.25.1,<1.26,>=1.21.1 in /usr/local/lib/python3.7/dist-packages (from requests>=2.3.0->update-checker>=0.16->tpot) (1.24.3)\n",
            "Building wheels for collected packages: stopit\n",
            "  Building wheel for stopit (setup.py) ... \u001b[?25l\u001b[?25hdone\n",
            "  Created wheel for stopit: filename=stopit-1.1.2-py3-none-any.whl size=11956 sha256=093c4e206633a69063ef1f53b24291deb043a0317f11e05163d3c5486dd8238e\n",
            "  Stored in directory: /root/.cache/pip/wheels/e2/d2/79/eaf81edb391e27c87f51b8ef901ecc85a5363dc96b8b8d71e3\n",
            "Successfully built stopit\n",
            "Installing collected packages: xgboost, update-checker, stopit, deap, tpot\n",
            "  Attempting uninstall: xgboost\n",
            "    Found existing installation: xgboost 0.90\n",
            "    Uninstalling xgboost-0.90:\n",
            "      Successfully uninstalled xgboost-0.90\n",
            "Successfully installed deap-1.3.1 stopit-1.1.2 tpot-0.11.7 update-checker-0.18.0 xgboost-1.6.0\n"
          ]
        }
      ],
      "source": [
        "%pip install tpot"
      ]
    },
    {
      "cell_type": "code",
      "execution_count": null,
      "metadata": {
        "colab": {
          "base_uri": "https://localhost:8080/"
        },
        "id": "GOzMWI6Je4YH",
        "outputId": "d4561cf9-e6a0-4e2b-d7ca-d64bafa3848e"
      },
      "outputs": [
        {
          "output_type": "stream",
          "name": "stdout",
          "text": [
            "tpot: 0.11.7\n"
          ]
        }
      ],
      "source": [
        "import tpot\n",
        "import sklearn.datasets\n",
        "import sklearn.model_selection\n",
        "import timeit\n",
        "from tpot import TPOTRegressor\n",
        "import pandas as pd\n",
        "print('tpot: %s' % tpot.__version__)"
      ]
    },
    {
      "cell_type": "code",
      "execution_count": null,
      "metadata": {
        "id": "NRkGlp3dZOLE"
      },
      "outputs": [],
      "source": [
        "def dataSetup(name):\n",
        "  X,y = sklearn.datasets.fetch_openml(data_id = name, as_frame=True, return_X_y=True)\n",
        "  train = pd.concat([X, y], axis=1, join='inner')\n",
        "  train.dropna()\n",
        "  train = train.apply(lambda x: pd.factorize(x)[0])\n",
        "  X,y = train.iloc[:,:-1], train.iloc[:, -1]\n",
        "  # X = X.apply(lambda x: pd.factorize(x)[0])\n",
        "  X_train, X_test, y_train, y_test = sklearn.model_selection.train_test_split(X,y,random_state=42)\n",
        "  return (X_train, X_test, y_train, y_test)"
      ]
    },
    {
      "cell_type": "code",
      "execution_count": null,
      "metadata": {
        "id": "KAwhRPrMe4YI"
      },
      "outputs": [],
      "source": [
        "X_train, X_test, y_train, y_test = dataSetup(223)"
      ]
    },
    {
      "cell_type": "code",
      "execution_count": null,
      "metadata": {
        "id": "ySKvD6r0e4YJ"
      },
      "outputs": [],
      "source": [
        "model = TPOTRegressor(scoring = \"neg_mean_squared_error\",max_time_mins = 60,generations = None, verbosity=2, random_state=1, n_jobs=-1)"
      ]
    },
    {
      "cell_type": "code",
      "execution_count": null,
      "metadata": {
        "colab": {
          "base_uri": "https://localhost:8080/",
          "height": 1000,
          "referenced_widgets": [
            "ebabc1764ace4116b5531a7fde53e639",
            "54d0bc0326c14ae5b0738b1efad6fdc4",
            "0b829299018146f598957e95627c3ec9",
            "c7f845b5d4914d1cb0848ffa13e45bd6",
            "1a137b40721e4c3d9e9ed11100b13e9f",
            "ee61459959c3497ba4bbd75b86a076dd",
            "5cc3b83316be4da787fee41f72e29c51",
            "43dac87e3133486e8b8fcd20245018f1",
            "66c30c6324844d0185615fbb8e3e2810",
            "16084a697ca4416582f509c91c25ff4e",
            "ddd3977f801e4e38b3e1c5adb443e327"
          ]
        },
        "id": "C-th6Zm8e4YK",
        "outputId": "9526a989-a7f5-43ab-ce7c-45771d4f2f54"
      },
      "outputs": [
        {
          "output_type": "display_data",
          "data": {
            "text/plain": [
              "Optimization Progress:   0%|          | 0/100 [00:00<?, ?pipeline/s]"
            ],
            "application/vnd.jupyter.widget-view+json": {
              "version_major": 2,
              "version_minor": 0,
              "model_id": "ebabc1764ace4116b5531a7fde53e639"
            }
          },
          "metadata": {}
        },
        {
          "output_type": "stream",
          "name": "stdout",
          "text": [
            "\n",
            "Generation 1 - Current best internal CV score: -1002.075060830146\n",
            "\n",
            "Generation 2 - Current best internal CV score: -1001.8320483928771\n",
            "\n",
            "Generation 3 - Current best internal CV score: -1000.4618126160283\n",
            "\n",
            "Generation 4 - Current best internal CV score: -1000.4618126160283\n",
            "\n",
            "Generation 5 - Current best internal CV score: -1000.4618126160283\n",
            "\n",
            "Generation 6 - Current best internal CV score: -998.5509031223304\n",
            "\n",
            "Generation 7 - Current best internal CV score: -992.4389093238062\n",
            "\n",
            "Generation 8 - Current best internal CV score: -992.4389093238062\n",
            "\n",
            "Generation 9 - Current best internal CV score: -989.2262435947025\n",
            "\n",
            "Generation 10 - Current best internal CV score: -989.2262435947025\n",
            "\n",
            "Generation 11 - Current best internal CV score: -989.2262435947025\n",
            "\n",
            "Generation 12 - Current best internal CV score: -988.9683977416116\n",
            "\n",
            "Generation 13 - Current best internal CV score: -978.5291811179992\n",
            "\n",
            "Generation 14 - Current best internal CV score: -978.5291811179992\n",
            "\n",
            "Generation 15 - Current best internal CV score: -978.5291811179992\n",
            "\n",
            "Generation 16 - Current best internal CV score: -977.7353529415317\n",
            "\n",
            "Generation 17 - Current best internal CV score: -977.7353529415317\n",
            "\n",
            "Generation 18 - Current best internal CV score: -977.7353529415317\n",
            "\n",
            "Generation 19 - Current best internal CV score: -970.7907440564561\n",
            "\n",
            "Generation 20 - Current best internal CV score: -970.7907440564561\n",
            "\n",
            "Generation 21 - Current best internal CV score: -970.7907440564561\n",
            "\n",
            "Generation 22 - Current best internal CV score: -970.7907440564561\n",
            "\n",
            "Generation 23 - Current best internal CV score: -970.0516196454766\n",
            "\n",
            "Generation 24 - Current best internal CV score: -969.5768353346244\n",
            "\n",
            "Generation 25 - Current best internal CV score: -958.1690733779544\n",
            "\n",
            "Generation 26 - Current best internal CV score: -958.1690733779544\n",
            "\n",
            "Generation 27 - Current best internal CV score: -958.1690733779544\n",
            "\n",
            "Generation 28 - Current best internal CV score: -958.1690733779544\n",
            "\n",
            "Generation 29 - Current best internal CV score: -958.1690733779544\n",
            "\n",
            "Generation 30 - Current best internal CV score: -958.1690733779544\n",
            "\n",
            "60.07 minutes have elapsed. TPOT will close down.\n",
            "TPOT closed during evaluation in one generation.\n",
            "WARNING: TPOT may not provide a good pipeline if TPOT is stopped/interrupted in a early generation.\n",
            "\n",
            "\n",
            "TPOT closed prematurely. Will use the current best pipeline.\n",
            "\n",
            "Best pipeline: ExtraTreesRegressor(GradientBoostingRegressor(input_matrix, alpha=0.85, learning_rate=0.001, loss=lad, max_depth=5, max_features=0.15000000000000002, min_samples_leaf=19, min_samples_split=12, n_estimators=100, subsample=0.45), bootstrap=False, max_features=0.7500000000000001, min_samples_leaf=1, min_samples_split=17, n_estimators=100)\n",
            "-860.2375341476785\n"
          ]
        },
        {
          "output_type": "stream",
          "name": "stderr",
          "text": [
            "/usr/local/lib/python3.7/dist-packages/sklearn/base.py:451: UserWarning: X does not have valid feature names, but GradientBoostingRegressor was fitted with feature names\n",
            "  \"X does not have valid feature names, but\"\n"
          ]
        }
      ],
      "source": [
        "start = timeit.default_timer()\n",
        "model.fit(X_train, y_train)\n",
        "stop = timeit.default_timer()\n",
        "print(model.score(X_test,y_test))\n",
        "model.export('tpot_adult_best_model.py')"
      ]
    },
    {
      "cell_type": "code",
      "execution_count": null,
      "metadata": {
        "id": "-p75oY_Je4YL",
        "colab": {
          "base_uri": "https://localhost:8080/"
        },
        "outputId": "012da6d9-c054-4d20-a687-1611ecdf9a69"
      },
      "outputs": [
        {
          "output_type": "stream",
          "name": "stdout",
          "text": [
            "3605.852099611\n"
          ]
        }
      ],
      "source": [
        "print(stop - start)"
      ]
    },
    {
      "cell_type": "code",
      "execution_count": null,
      "metadata": {
        "id": "9NlHb_LwIAot"
      },
      "outputs": [],
      "source": [
        ""
      ]
    }
  ],
  "metadata": {
    "colab": {
      "collapsed_sections": [],
      "name": "tpot_stock_colab.ipynb",
      "provenance": [],
      "toc_visible": true
    },
    "kernelspec": {
      "display_name": "Python 3",
      "name": "python3"
    },
    "language_info": {
      "name": "python"
    },
    "widgets": {
      "application/vnd.jupyter.widget-state+json": {
        "ebabc1764ace4116b5531a7fde53e639": {
          "model_module": "@jupyter-widgets/controls",
          "model_name": "HBoxModel",
          "model_module_version": "1.5.0",
          "state": {
            "_dom_classes": [],
            "_model_module": "@jupyter-widgets/controls",
            "_model_module_version": "1.5.0",
            "_model_name": "HBoxModel",
            "_view_count": null,
            "_view_module": "@jupyter-widgets/controls",
            "_view_module_version": "1.5.0",
            "_view_name": "HBoxView",
            "box_style": "",
            "children": [
              "IPY_MODEL_54d0bc0326c14ae5b0738b1efad6fdc4",
              "IPY_MODEL_0b829299018146f598957e95627c3ec9",
              "IPY_MODEL_c7f845b5d4914d1cb0848ffa13e45bd6"
            ],
            "layout": "IPY_MODEL_1a137b40721e4c3d9e9ed11100b13e9f"
          }
        },
        "54d0bc0326c14ae5b0738b1efad6fdc4": {
          "model_module": "@jupyter-widgets/controls",
          "model_name": "HTMLModel",
          "model_module_version": "1.5.0",
          "state": {
            "_dom_classes": [],
            "_model_module": "@jupyter-widgets/controls",
            "_model_module_version": "1.5.0",
            "_model_name": "HTMLModel",
            "_view_count": null,
            "_view_module": "@jupyter-widgets/controls",
            "_view_module_version": "1.5.0",
            "_view_name": "HTMLView",
            "description": "",
            "description_tooltip": null,
            "layout": "IPY_MODEL_ee61459959c3497ba4bbd75b86a076dd",
            "placeholder": "​",
            "style": "IPY_MODEL_5cc3b83316be4da787fee41f72e29c51",
            "value": "Optimization Progress:  99%"
          }
        },
        "0b829299018146f598957e95627c3ec9": {
          "model_module": "@jupyter-widgets/controls",
          "model_name": "FloatProgressModel",
          "model_module_version": "1.5.0",
          "state": {
            "_dom_classes": [],
            "_model_module": "@jupyter-widgets/controls",
            "_model_module_version": "1.5.0",
            "_model_name": "FloatProgressModel",
            "_view_count": null,
            "_view_module": "@jupyter-widgets/controls",
            "_view_module_version": "1.5.0",
            "_view_name": "ProgressView",
            "bar_style": "danger",
            "description": "",
            "description_tooltip": null,
            "layout": "IPY_MODEL_43dac87e3133486e8b8fcd20245018f1",
            "max": 100,
            "min": 0,
            "orientation": "horizontal",
            "style": "IPY_MODEL_66c30c6324844d0185615fbb8e3e2810",
            "value": 100
          }
        },
        "c7f845b5d4914d1cb0848ffa13e45bd6": {
          "model_module": "@jupyter-widgets/controls",
          "model_name": "HTMLModel",
          "model_module_version": "1.5.0",
          "state": {
            "_dom_classes": [],
            "_model_module": "@jupyter-widgets/controls",
            "_model_module_version": "1.5.0",
            "_model_name": "HTMLModel",
            "_view_count": null,
            "_view_module": "@jupyter-widgets/controls",
            "_view_module_version": "1.5.0",
            "_view_name": "HTMLView",
            "description": "",
            "description_tooltip": null,
            "layout": "IPY_MODEL_16084a697ca4416582f509c91c25ff4e",
            "placeholder": "​",
            "style": "IPY_MODEL_ddd3977f801e4e38b3e1c5adb443e327",
            "value": " 3167/3200 [59:45&lt;00:53,  1.64s/pipeline]"
          }
        },
        "1a137b40721e4c3d9e9ed11100b13e9f": {
          "model_module": "@jupyter-widgets/base",
          "model_name": "LayoutModel",
          "model_module_version": "1.2.0",
          "state": {
            "_model_module": "@jupyter-widgets/base",
            "_model_module_version": "1.2.0",
            "_model_name": "LayoutModel",
            "_view_count": null,
            "_view_module": "@jupyter-widgets/base",
            "_view_module_version": "1.2.0",
            "_view_name": "LayoutView",
            "align_content": null,
            "align_items": null,
            "align_self": null,
            "border": null,
            "bottom": null,
            "display": null,
            "flex": null,
            "flex_flow": null,
            "grid_area": null,
            "grid_auto_columns": null,
            "grid_auto_flow": null,
            "grid_auto_rows": null,
            "grid_column": null,
            "grid_gap": null,
            "grid_row": null,
            "grid_template_areas": null,
            "grid_template_columns": null,
            "grid_template_rows": null,
            "height": null,
            "justify_content": null,
            "justify_items": null,
            "left": null,
            "margin": null,
            "max_height": null,
            "max_width": null,
            "min_height": null,
            "min_width": null,
            "object_fit": null,
            "object_position": null,
            "order": null,
            "overflow": null,
            "overflow_x": null,
            "overflow_y": null,
            "padding": null,
            "right": null,
            "top": null,
            "visibility": null,
            "width": null
          }
        },
        "ee61459959c3497ba4bbd75b86a076dd": {
          "model_module": "@jupyter-widgets/base",
          "model_name": "LayoutModel",
          "model_module_version": "1.2.0",
          "state": {
            "_model_module": "@jupyter-widgets/base",
            "_model_module_version": "1.2.0",
            "_model_name": "LayoutModel",
            "_view_count": null,
            "_view_module": "@jupyter-widgets/base",
            "_view_module_version": "1.2.0",
            "_view_name": "LayoutView",
            "align_content": null,
            "align_items": null,
            "align_self": null,
            "border": null,
            "bottom": null,
            "display": null,
            "flex": null,
            "flex_flow": null,
            "grid_area": null,
            "grid_auto_columns": null,
            "grid_auto_flow": null,
            "grid_auto_rows": null,
            "grid_column": null,
            "grid_gap": null,
            "grid_row": null,
            "grid_template_areas": null,
            "grid_template_columns": null,
            "grid_template_rows": null,
            "height": null,
            "justify_content": null,
            "justify_items": null,
            "left": null,
            "margin": null,
            "max_height": null,
            "max_width": null,
            "min_height": null,
            "min_width": null,
            "object_fit": null,
            "object_position": null,
            "order": null,
            "overflow": null,
            "overflow_x": null,
            "overflow_y": null,
            "padding": null,
            "right": null,
            "top": null,
            "visibility": null,
            "width": null
          }
        },
        "5cc3b83316be4da787fee41f72e29c51": {
          "model_module": "@jupyter-widgets/controls",
          "model_name": "DescriptionStyleModel",
          "model_module_version": "1.5.0",
          "state": {
            "_model_module": "@jupyter-widgets/controls",
            "_model_module_version": "1.5.0",
            "_model_name": "DescriptionStyleModel",
            "_view_count": null,
            "_view_module": "@jupyter-widgets/base",
            "_view_module_version": "1.2.0",
            "_view_name": "StyleView",
            "description_width": ""
          }
        },
        "43dac87e3133486e8b8fcd20245018f1": {
          "model_module": "@jupyter-widgets/base",
          "model_name": "LayoutModel",
          "model_module_version": "1.2.0",
          "state": {
            "_model_module": "@jupyter-widgets/base",
            "_model_module_version": "1.2.0",
            "_model_name": "LayoutModel",
            "_view_count": null,
            "_view_module": "@jupyter-widgets/base",
            "_view_module_version": "1.2.0",
            "_view_name": "LayoutView",
            "align_content": null,
            "align_items": null,
            "align_self": null,
            "border": null,
            "bottom": null,
            "display": null,
            "flex": null,
            "flex_flow": null,
            "grid_area": null,
            "grid_auto_columns": null,
            "grid_auto_flow": null,
            "grid_auto_rows": null,
            "grid_column": null,
            "grid_gap": null,
            "grid_row": null,
            "grid_template_areas": null,
            "grid_template_columns": null,
            "grid_template_rows": null,
            "height": null,
            "justify_content": null,
            "justify_items": null,
            "left": null,
            "margin": null,
            "max_height": null,
            "max_width": null,
            "min_height": null,
            "min_width": null,
            "object_fit": null,
            "object_position": null,
            "order": null,
            "overflow": null,
            "overflow_x": null,
            "overflow_y": null,
            "padding": null,
            "right": null,
            "top": null,
            "visibility": null,
            "width": null
          }
        },
        "66c30c6324844d0185615fbb8e3e2810": {
          "model_module": "@jupyter-widgets/controls",
          "model_name": "ProgressStyleModel",
          "model_module_version": "1.5.0",
          "state": {
            "_model_module": "@jupyter-widgets/controls",
            "_model_module_version": "1.5.0",
            "_model_name": "ProgressStyleModel",
            "_view_count": null,
            "_view_module": "@jupyter-widgets/base",
            "_view_module_version": "1.2.0",
            "_view_name": "StyleView",
            "bar_color": null,
            "description_width": ""
          }
        },
        "16084a697ca4416582f509c91c25ff4e": {
          "model_module": "@jupyter-widgets/base",
          "model_name": "LayoutModel",
          "model_module_version": "1.2.0",
          "state": {
            "_model_module": "@jupyter-widgets/base",
            "_model_module_version": "1.2.0",
            "_model_name": "LayoutModel",
            "_view_count": null,
            "_view_module": "@jupyter-widgets/base",
            "_view_module_version": "1.2.0",
            "_view_name": "LayoutView",
            "align_content": null,
            "align_items": null,
            "align_self": null,
            "border": null,
            "bottom": null,
            "display": null,
            "flex": null,
            "flex_flow": null,
            "grid_area": null,
            "grid_auto_columns": null,
            "grid_auto_flow": null,
            "grid_auto_rows": null,
            "grid_column": null,
            "grid_gap": null,
            "grid_row": null,
            "grid_template_areas": null,
            "grid_template_columns": null,
            "grid_template_rows": null,
            "height": null,
            "justify_content": null,
            "justify_items": null,
            "left": null,
            "margin": null,
            "max_height": null,
            "max_width": null,
            "min_height": null,
            "min_width": null,
            "object_fit": null,
            "object_position": null,
            "order": null,
            "overflow": null,
            "overflow_x": null,
            "overflow_y": null,
            "padding": null,
            "right": null,
            "top": null,
            "visibility": null,
            "width": null
          }
        },
        "ddd3977f801e4e38b3e1c5adb443e327": {
          "model_module": "@jupyter-widgets/controls",
          "model_name": "DescriptionStyleModel",
          "model_module_version": "1.5.0",
          "state": {
            "_model_module": "@jupyter-widgets/controls",
            "_model_module_version": "1.5.0",
            "_model_name": "DescriptionStyleModel",
            "_view_count": null,
            "_view_module": "@jupyter-widgets/base",
            "_view_module_version": "1.2.0",
            "_view_name": "StyleView",
            "description_width": ""
          }
        }
      }
    },
    "accelerator": "GPU"
  },
  "nbformat": 4,
  "nbformat_minor": 0
}